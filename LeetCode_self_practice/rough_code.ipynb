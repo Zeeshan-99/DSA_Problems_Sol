{
 "cells": [
  {
   "cell_type": "code",
   "execution_count": null,
   "metadata": {},
   "outputs": [],
   "source": [
    "import pandas as pd\n",
    "\n",
    "dict1={'pname':'chocolate',\n",
    "        'type':'sweets',\n",
    "        'rate': 30\n",
    "        }\n",
    "\n",
    "dict2= {'pname':'brinjal',\n",
    "        'type':'vegetables',\n",
    "        'rate':50\n",
    "        }\n",
    "\n",
    "dict3= {'pname':'brinjal3',\n",
    "        'type':'vegetables3',\n",
    "        'rate':500\n",
    "        }\n",
    "\n",
    "##---- first method:-----------------\n",
    "\n",
    "# def merge(dict1, dict2):\n",
    "#     for k,v in dict1.items():\n",
    "#         if k in dict1 and dict2:\n",
    "#             dict1[k]=[v, dict2[k]]\n",
    "#     return dict1        \n",
    "\n",
    "# dict3= merge(dict1, dict2)\n",
    "# print(dict3)\n",
    "\n",
    "##---- 2nd method:-----------------\n",
    "\n",
    "# def dict_merge_func1(dict1, dict2, dict3):\n",
    "#     dict_test={}\n",
    "#     for d in (dict1, dict2, dict3):\n",
    "#         for k, v in d.items():\n",
    "#             if k in dict_test:\n",
    "#                 if isinstance(dict_test[k], list):\n",
    "#                     dict_test[k].append(v)\n",
    "#                 else:\n",
    "#                     dict_test[k]=[dict_test[k],v]\n",
    "#             else:\n",
    "#                 dict_test[k]=v\n",
    "#     return dict_test            \n",
    "                    \n",
    "\n",
    "# print(dict_merge_func1(dict1, dict2, dict3))       \n",
    "\n",
    "##-------- 3rd method:----------------\n",
    "\n",
    "def dict_merge_func2(*dicts):\n",
    "    dict_test={}\n",
    "    for d in dicts:\n",
    "        for k, v in d.items():\n",
    "            if k in dict_test:\n",
    "                if isinstance(dict_test[k], list):\n",
    "                    dict_test[k].append(v)\n",
    "                else:\n",
    "                    dict_test[k]= [dict_test[k],v]\n",
    "            else:\n",
    "                dict_test[k]=v\n",
    "    return dict_test\n",
    "\n",
    "print(dict_merge_func2(dict1,dict2,dict3)) "
   ]
  },
  {
   "cell_type": "markdown",
   "metadata": {},
   "source": [
    "### Solve the problem [Python]\n",
    "Given an array of integers arr and an integer k, create a boolean function that checks if there exist two elements in arr such that we get k when we add them together.\n",
    "\n",
    "- Example 1:\n",
    "\n",
    "Input: arr = [4, 5, 1, -3, 6], k = 11\n",
    "\n",
    "Output: true\n",
    "\n",
    "Explanation: 5 + 6 is equal to 11\n",
    "\n",
    "- Example 2:\n",
    "\n",
    "Input: arr = [4, 5, 1, -3, 6], k = -2\n",
    "\n",
    "Output: true\n",
    "\n",
    "Explanation: 1 + (-3) is equal to -2\n",
    "\n",
    "- Example 3:\n",
    "\n",
    "Input: arr = [4, 5, 1, -3, 6], k = 8\n",
    "\n",
    "Output: false\n",
    "\n",
    "Explanation: there is no pair that sums up to 8"
   ]
  },
  {
   "cell_type": "code",
   "execution_count": 72,
   "metadata": {},
   "outputs": [
    {
     "data": {
      "text/plain": [
       "True"
      ]
     },
     "execution_count": 72,
     "metadata": {},
     "output_type": "execute_result"
    }
   ],
   "source": [
    "#### 1st-Method\n",
    "# def sum_cond(arr, k):\n",
    "#     n = len(arr)\n",
    "#     for i in range(n):\n",
    "#         for j in range(i + 1, n):  # Avoid using the same element twice\n",
    "#             # print(i,j)\n",
    "#             if arr[i] + arr[j] == k:\n",
    "#                 print('True')\n",
    "#                 return\n",
    "#     print('False')\n",
    "\n",
    "# Test case\n",
    "# arr = [4, 5, 1, -3, 6]\n",
    "# k = 11\n",
    "# sum_cond(arr, k)\n",
    "#####-------------------------------\n",
    "## 2nd -method\n",
    "# arr = [4, 5, 1, -3, 6]\n",
    "# k = 11\n",
    "# Found=any([arr[i]+arr[j]==k for i in range(len(arr)) for j in range(i+1,len(arr))])\n",
    "# print(\"True\" if Found else False)\n",
    "\n",
    "###---3rd method:\n",
    "\n",
    "\n",
    "# def find_sum_cond(arr,k):\n",
    "#     l=0\n",
    "#     r=len(arr)-1\n",
    "    #   arr.sort()\n",
    "#     while l<r:\n",
    "#         if arr[l]+arr[r]==k:\n",
    "#             return True\n",
    "#         elif arr[l]+arr[r]<k:\n",
    "#             l+=1\n",
    "#         else:\n",
    "#             r-=1\n",
    "#     return False \n",
    "# # arr = [4, 5, 1, -3, 6]\n",
    "# arr=[2,3,4, 5,1, 1, -3, 4,6,3]\n",
    "# k = 11\n",
    "# find_sum_cond(arr,k)    \n",
    "\n",
    "### 4th- method:    \n",
    "def find_sum_cond(arr, k):\n",
    "    n = len(arr)\n",
    "    for i in range(n):\n",
    "        for j in range(i + 1, n):\n",
    "            if arr[i] + arr[j] == k:\n",
    "                return True\n",
    "    return False\n",
    "arr=[2,3,4, 5,1, 1, -3, 4,6,3]\n",
    "k = 11\n",
    "find_sum_cond(arr,k)   "
   ]
  },
  {
   "cell_type": "markdown",
   "metadata": {},
   "source": [
    "## Solve the problem [Python]\n",
    "Given a string str, create a function that returns the first repeating character.\n",
    "If such character doesn't exist, return the null character '\\0'.\n",
    "\n",
    "- Example 1:\n",
    "\n",
    "Input: str = \"inside code\"\n",
    "\n",
    "Output: 'i'\n",
    "\n",
    "- Example 2:\n",
    "\n",
    "Input: str = \"programming\"\n",
    "\n",
    "Output: 'r'\n",
    "\n",
    "- Example 3:\n",
    "\n",
    "Input: str = \"abcd\"\n",
    "\n",
    "Output: '\\0'\n",
    "\n",
    "- Example 4:\n",
    "\n",
    "Input: str = \"abba\"\n",
    "\n",
    "Output: 'b'"
   ]
  },
  {
   "cell_type": "code",
   "execution_count": 110,
   "metadata": {},
   "outputs": [
    {
     "data": {
      "text/plain": [
       "4"
      ]
     },
     "execution_count": 110,
     "metadata": {},
     "output_type": "execute_result"
    }
   ],
   "source": [
    "\n",
    "def finding_dublicate_first(str):\n",
    "\n",
    "    for i in range(len(str)):\n",
    "        for j in range(i+1,len(str)):\n",
    "            if str[i]==str[j]:\n",
    "                return str[i]  \n",
    "           \n",
    "    return 0 \n",
    "# str=\"abcdd\"\n",
    "str=[1,2,4,4,4]\n",
    "\n",
    "finding_dublicate_first(str)     "
   ]
  },
  {
   "cell_type": "markdown",
   "metadata": {},
   "source": [
    "### Solve the problem [Python]\n",
    "Given an array of integers arr, create a function that returns an array containing the values of arr without duplicates (the order doesn't matter).\n",
    "\n",
    "- Example 1:\n",
    "\n",
    "Input: arr = [4, 2, 5, 3, 3, 1, 2, 4, 1, 5, 5, 5, 3, 1]\n",
    "\n",
    "Output: [4, 2, 5, 3, 1]\n",
    "\n",
    "- Example 2:\n",
    "\n",
    "Input: arr = [1, 1, 1, 1, 1, 1, 1, 1]\n",
    "\n",
    "Output: [1]\n",
    "\n",
    "- Example 3:\n",
    "\n",
    "Input: arr = [4, 4, 2, 3, 2, 2, 4, 3]\n",
    "\n",
    "Output: [4, 2, 3]"
   ]
  },
  {
   "cell_type": "code",
   "execution_count": 136,
   "metadata": {},
   "outputs": [
    {
     "data": {
      "text/plain": [
       "[100, 200, 300, 400, 500]"
      ]
     },
     "execution_count": 136,
     "metadata": {},
     "output_type": "execute_result"
    }
   ],
   "source": [
    "def remove_duplicates(arr):\n",
    "    \"\"\"Given an array of integers, remove all duplicates and return the resulting array.\"\"\"\n",
    "    d={}\n",
    "    for i in range(len(arr)):\n",
    "        if arr[i] not in d:\n",
    "            d[arr[i]]=1\n",
    "        else:\n",
    "            d[arr[i]]+=1\n",
    "    return list(d.keys())        \n",
    "        \n",
    "# arr=[4,4,2,3,2,2,4,3]  \n",
    "arr=[100,200,300,200,300,400,400,400,400,500]    \n",
    "  \n",
    "remove_duplicates(arr)    "
   ]
  },
  {
   "cell_type": "code",
   "execution_count": 135,
   "metadata": {},
   "outputs": [
    {
     "data": {
      "text/plain": [
       "[200, 300, 400]"
      ]
     },
     "execution_count": 135,
     "metadata": {},
     "output_type": "execute_result"
    }
   ],
   "source": [
    "def find_all_duplicates(arr):\n",
    "    \"\"\"Given an array of integers, remove all duplicates and return the resulting array.\"\"\"\n",
    "    duplicates={}\n",
    "    for i in range(len(arr)):\n",
    "        if arr[i] in duplicates:\n",
    "            duplicates[arr[i]]+=1\n",
    "        else:\n",
    "            duplicates[arr[i]]=1\n",
    "    d={key for key, value in duplicates.items() if value>1}        \n",
    "    return list(d)       \n",
    "               \n",
    "        \n",
    "# arr=[4,4,2,3,2,2,4,3]\n",
    "arr=[100,200,300,200,300,400,400,400,400,500]    \n",
    "find_all_duplicates(arr)"
   ]
  },
  {
   "cell_type": "code",
   "execution_count": null,
   "metadata": {},
   "outputs": [],
   "source": []
  },
  {
   "cell_type": "code",
   "execution_count": null,
   "metadata": {},
   "outputs": [],
   "source": []
  },
  {
   "cell_type": "code",
   "execution_count": null,
   "metadata": {},
   "outputs": [],
   "source": []
  },
  {
   "cell_type": "code",
   "execution_count": null,
   "metadata": {},
   "outputs": [],
   "source": []
  },
  {
   "cell_type": "code",
   "execution_count": null,
   "metadata": {},
   "outputs": [],
   "source": []
  }
 ],
 "metadata": {
  "kernelspec": {
   "display_name": "LangChain",
   "language": "python",
   "name": "python3"
  },
  "language_info": {
   "codemirror_mode": {
    "name": "ipython",
    "version": 3
   },
   "file_extension": ".py",
   "mimetype": "text/x-python",
   "name": "python",
   "nbconvert_exporter": "python",
   "pygments_lexer": "ipython3",
   "version": "3.11.9"
  }
 },
 "nbformat": 4,
 "nbformat_minor": 2
}
