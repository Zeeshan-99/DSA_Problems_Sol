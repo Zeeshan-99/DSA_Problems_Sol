{
 "cells": [
  {
   "cell_type": "markdown",
   "metadata": {},
   "source": [
    "# Binary Search Methods"
   ]
  },
  {
   "cell_type": "code",
   "execution_count": 34,
   "metadata": {},
   "outputs": [
    {
     "name": "stdout",
     "output_type": "stream",
     "text": [
      "4\n"
     ]
    }
   ],
   "source": [
    "arr=[1,2,3,4,5,6,7]\n",
    "target=6\n",
    "\n",
    "def binarySearchMethod(arr, target):\n",
    "    left=0\n",
    "    right= len(arr)-1\n",
    "    while (left<=right):\n",
    "        mid= (left+right)//2 # mid index\n",
    "        if (arr[mid]==target):\n",
    "            return mid\n",
    "        elif (arr[mid]<target):\n",
    "            left=mid+1\n",
    "        else:\n",
    "            right=mid-1 \n",
    "\n",
    "result = binarySearchMethod(arr,5)\n",
    "print(result)"
   ]
  },
  {
   "cell_type": "code",
   "execution_count": 35,
   "metadata": {},
   "outputs": [],
   "source": [
    "## 50 Most frequent coding problems"
   ]
  },
  {
   "cell_type": "code",
   "execution_count": 46,
   "metadata": {},
   "outputs": [
    {
     "name": "stdout",
     "output_type": "stream",
     "text": [
      "0 4\n",
      "1 5\n",
      "2 1\n",
      "3 -3\n",
      "4 6\n"
     ]
    }
   ],
   "source": [
    "\n",
    "arr=[4,5,1,-3,6]\n",
    "k=11\n",
    "\n",
    "for i,j in enumerate(arr):\n",
    "    print(i,j)    "
   ]
  },
  {
   "cell_type": "code",
   "execution_count": 2,
   "metadata": {},
   "outputs": [
    {
     "name": "stdout",
     "output_type": "stream",
     "text": [
      "There is not a pait that is equal to 11\n",
      "There is not a pait that is equal to 11\n",
      "There is not a pait that is equal to 11\n",
      "There is not a pait that is equal to 11\n",
      "There is not a pait that is equal to 11\n",
      "There is not a pait that is equal to 11\n",
      "There is not a pait that is equal to 11\n",
      "There is not a pait that is equal to 11\n",
      "There is not a pait that is equal to 11\n",
      "There is a pair of 5, 6 that is equal to 11\n",
      "There is not a pait that is equal to 11\n",
      "There is not a pait that is equal to 11\n",
      "There is not a pait that is equal to 11\n",
      "There is not a pait that is equal to 11\n",
      "There is not a pait that is equal to 11\n",
      "There is not a pait that is equal to 11\n",
      "There is not a pait that is equal to 11\n",
      "There is not a pait that is equal to 11\n",
      "There is not a pait that is equal to 11\n",
      "There is not a pait that is equal to 11\n",
      "There is not a pait that is equal to 11\n",
      "There is a pair of 6, 5 that is equal to 11\n",
      "There is not a pait that is equal to 11\n",
      "There is not a pait that is equal to 11\n",
      "There is not a pait that is equal to 11\n"
     ]
    }
   ],
   "source": [
    "# finding the pairs in such a way that it satifies the k value\n",
    "arr=[4,5,1,-3,6]\n",
    "k=11\n",
    "\n",
    "def findPair(arr, k):\n",
    "    # your code here\n",
    "    for i in enumerate(arr):\n",
    "        for j in enumerate(arr):\n",
    "                if (i[1]+j[1]==k):\n",
    "                    print('There is a pair of {}, {} that is equal to {}'.format(i[1], j[1],k))\n",
    "                else: \n",
    "                    print('There is not a pait that is equal to {}'.format(k))\n",
    "\n",
    "findPair(arr, k)    "
   ]
  },
  {
   "cell_type": "code",
   "execution_count": 5,
   "metadata": {},
   "outputs": [
    {
     "data": {
      "text/plain": [
       "('These values are 5 and 6', True)"
      ]
     },
     "execution_count": 5,
     "metadata": {},
     "output_type": "execute_result"
    }
   ],
   "source": [
    "# finding the pairs in such a way that it satifies the k value\n",
    "arr=[4,5,1,-3,6]\n",
    "k=11\n",
    "\n",
    "def findPair(arr, k):\n",
    "    left= 0\n",
    "    right= len(arr)-1\n",
    "\n",
    "    while (left<right):\n",
    "        if (arr[left]+arr[right]==k):\n",
    "            return 'These values are {} and {}'.format(arr[left], arr[right]),True\n",
    "        elif (arr[left]+arr[right]<k):\n",
    "            left=left+1\n",
    "        else:\n",
    "            right=right+1\n",
    "    return  False\n",
    "findPair(arr, k)    \n"
   ]
  },
  {
   "cell_type": "code",
   "execution_count": 7,
   "metadata": {},
   "outputs": [
    {
     "name": "stdout",
     "output_type": "stream",
     "text": [
      "(0, 'p')\n",
      "(1, 'r')\n",
      "(2, 'o')\n",
      "(3, 'g')\n",
      "(4, 'r')\n",
      "(5, 'a')\n",
      "(6, 'm')\n",
      "(7, 'm')\n",
      "(8, 'i')\n",
      "(9, 'n')\n",
      "(10, 'g')\n"
     ]
    }
   ],
   "source": [
    "str = \"programming\"\n",
    "\n",
    "for i in enumerate(str):\n",
    "    print(i)"
   ]
  },
  {
   "cell_type": "code",
   "execution_count": 20,
   "metadata": {},
   "outputs": [
    {
     "data": {
      "text/plain": [
       "'There are no repeating characters'"
      ]
     },
     "execution_count": 20,
     "metadata": {},
     "output_type": "execute_result"
    }
   ],
   "source": [
    "### Find the first repeating character in the given string\n",
    "\n",
    "# Parameters:\n",
    "# str = \"programming\"\n",
    "# str = \"probability\"\n",
    "# str = \"inside code\"\n",
    "str = \"abcd\"\n",
    "# return type: char\n",
    "\n",
    "def firstRepeatingCharacter(str):\n",
    "    left=0\n",
    "    right= len(str)-1\n",
    "    while (left<right):\n",
    "        if (str[left]==str[right]):\n",
    "            return str[left]\n",
    "        elif (str[left]!=str[right]):\n",
    "            left=left+1\n",
    "        else:\n",
    "            right= right-1\n",
    "    return 'There are no repeating characters'\n",
    "\n",
    "firstRepeatingCharacter(str)"
   ]
  },
  {
   "cell_type": "code",
   "execution_count": 45,
   "metadata": {},
   "outputs": [
    {
     "data": {
      "text/plain": [
       "'e'"
      ]
     },
     "execution_count": 45,
     "metadata": {},
     "output_type": "execute_result"
    }
   ],
   "source": [
    "### Find the first repeating character in the given string\n",
    "\n",
    "# Parameters:\n",
    "# str = \"programming\"\n",
    "# str = \"probability\"\n",
    "# str = \"inside code\"\n",
    "# str = \"abcd\"\n",
    "str = \"responsible\"\n",
    "\n",
    "# return type: char\n",
    "\n",
    "def firstRepeatingCharacter(str):\n",
    "    for i in range(len(str)):\n",
    "        for j in range(len(str)):\n",
    "            if (i!=j) & (str[i] == str[j]):\n",
    "                return str[i]\n",
    "    else:\n",
    "        return 'There is no repeating character'\n",
    "        \n",
    "firstRepeatingCharacter(str)"
   ]
  },
  {
   "cell_type": "markdown",
   "metadata": {},
   "source": [
    "# Remove duplicate entries"
   ]
  },
  {
   "cell_type": "code",
   "execution_count": 58,
   "metadata": {},
   "outputs": [
    {
     "data": {
      "text/plain": [
       "[4, 2, 5, 3, 1]"
      ]
     },
     "execution_count": 58,
     "metadata": {},
     "output_type": "execute_result"
    }
   ],
   "source": [
    "# Parameters:\n",
    "arr = [4, 2, 5, 3, 3, 1, 2, 4, 1, 5, 5, 5, 3, 1]\n",
    "\n",
    "def removeDuplicates(arr):\n",
    "    a=[]\n",
    "    for i in range(len(arr)):\n",
    "        if arr[i] not in a:\n",
    "            a.append(arr[i])\n",
    "    return a        \n",
    "\n",
    "removeDuplicates(arr)"
   ]
  },
  {
   "cell_type": "code",
   "execution_count": 59,
   "metadata": {},
   "outputs": [
    {
     "data": {
      "text/plain": [
       "[4, 2, 5, 3, 1]"
      ]
     },
     "execution_count": 59,
     "metadata": {},
     "output_type": "execute_result"
    }
   ],
   "source": [
    "# Parameters:\n",
    "arr = [4, 2, 5, 3, 3, 1, 2, 4, 1, 5, 5, 5, 3, 1]\n",
    "\n",
    "def removeDuplicates(arr):\n",
    "    a=[]\n",
    "    for element in arr:\n",
    "        if element not in a:\n",
    "            a.append(element)\n",
    "    return a        \n",
    "\n",
    "removeDuplicates(arr)"
   ]
  },
  {
   "cell_type": "code",
   "execution_count": 1,
   "metadata": {},
   "outputs": [
    {
     "data": {
      "text/plain": [
       "[4, 2, 5, 3, 1]"
      ]
     },
     "execution_count": 1,
     "metadata": {},
     "output_type": "execute_result"
    }
   ],
   "source": [
    "arr=[4, 2, 5, 3, 3, 1, 2, 4, 1, 5, 5, 5, 3, 1]\n",
    "def removeDuplicates(arr):\n",
    "    nonDuplicates={}\n",
    "    # your code here\n",
    "    for element in arr:\n",
    "        nonDuplicates[element]=True\n",
    "    return list(nonDuplicates.keys())    \n",
    "removeDuplicates(arr)"
   ]
  },
  {
   "attachments": {},
   "cell_type": "markdown",
   "metadata": {},
   "source": [
    "# Finding the duplicates"
   ]
  },
  {
   "cell_type": "code",
   "execution_count": 2,
   "metadata": {},
   "outputs": [
    {
     "data": {
      "text/plain": [
       "[1]"
      ]
     },
     "execution_count": 2,
     "metadata": {},
     "output_type": "execute_result"
    }
   ],
   "source": [
    "# Parameters:\n",
    "# arr = [4, 2, 5, 3, 3, 1, 2, 4, 1, 5, 5, 5, 3, 1]\n",
    "arr = [4, 2, 1, 3, 1]\n",
    "\n",
    "def findDuplicate(arr):\n",
    "    a=[]\n",
    "    for i in range(len(arr)):\n",
    "        for j in range(i+1,len(arr)):\n",
    "            if arr[i]==arr[j]:\n",
    "                a.append(arr[i])\n",
    "    return a        \n",
    "\n",
    "findDuplicate(arr)"
   ]
  },
  {
   "cell_type": "code",
   "execution_count": 67,
   "metadata": {},
   "outputs": [
    {
     "data": {
      "text/plain": [
       "1"
      ]
     },
     "execution_count": 67,
     "metadata": {},
     "output_type": "execute_result"
    }
   ],
   "source": [
    "# Parameters:\n",
    "# arr = [4, 2, 5, 3, 3, 1, 2, 4, 1, 5, 5, 5, 3, 1]\n",
    "arr = [4, 2, 1, 3, 1]\n",
    "\n",
    "def findDuplicate(arr):\n",
    "    for i in range(len(arr)):\n",
    "        for j in range(i+1,len(arr)):\n",
    "            if arr[i]==arr[j]:\n",
    "                return arr[i]      \n",
    "\n",
    "findDuplicate(arr)"
   ]
  },
  {
   "cell_type": "markdown",
   "metadata": {},
   "source": [
    "# Longest substring without repeating the first character"
   ]
  },
  {
   "cell_type": "code",
   "execution_count": 47,
   "metadata": {},
   "outputs": [],
   "source": [
    "str = \"abcdbeghef\"\n",
    "\n",
    "def longestSubstring(str):\n",
    "    # initialize a dictionary to store the last occurrence of each character\n",
    "    last_seen = {}\n",
    "    # initialize two pointers to track the start and end of the current substring\n",
    "    start = 0\n",
    "    end = 0\n",
    "    # initialize a variable to keep track of the length of the longest substring\n",
    "    max_len = 0\n",
    "    \n",
    "    for i, char in enumerate(str):\n",
    "        # check if the current character has been seen before and update the start pointer accordingly\n",
    "        # if char in last_seen and last_seen[char] >= start:\n",
    "        if char in last_seen:\n",
    "            start = last_seen[char] + 1\n",
    "        # update the end pointer and the last_seen dictionary\n",
    "        end = i\n",
    "        last_seen[char] = i\n",
    "        # update the max_len variable if the current substring is longer than the previous longest substring\n",
    "        max_len = max(max_len, end - start + 1)\n",
    "    return max_len\n",
    "\n",
    "longestSubstring(str)"
   ]
  },
  {
   "cell_type": "code",
   "execution_count": 74,
   "metadata": {},
   "outputs": [
    {
     "name": "stdout",
     "output_type": "stream",
     "text": [
      "start: 2 end: 3  char: b last_seen: {'a': 0, 'b': 1, 'c': 2, 'd': 3}\n",
      "start: 6 end: 7  char: e last_seen: {'a': 0, 'b': 4, 'c': 2, 'd': 3, 'e': 5, 'g': 6, 'h': 7}\n",
      "{'a': 0, 'b': 4, 'c': 2, 'd': 3, 'e': 8, 'g': 6, 'h': 7, 'f': 9}\n"
     ]
    }
   ],
   "source": [
    "str = \"abcdbeghef\"\n",
    "start=0\n",
    "end=0\n",
    "last_seen = {}\n",
    "for i,char in enumerate(str):\n",
    "    if char in last_seen:\n",
    "            start = last_seen[char] + 1\n",
    "            print('start:',start,'end:', end, ' char:',char, 'last_seen:',last_seen)\n",
    "    end=i\n",
    "    last_seen[char] =i\n",
    "print(last_seen)    "
   ]
  },
  {
   "cell_type": "code",
   "execution_count": 4,
   "metadata": {},
   "outputs": [
    {
     "data": {
      "text/plain": [
       "6"
      ]
     },
     "execution_count": 4,
     "metadata": {},
     "output_type": "execute_result"
    }
   ],
   "source": [
    "str = \"abcdbeghef\"\n",
    "\n",
    "def lengthOfLongestSubstring(s: str) -> int:\n",
    "    char_set = set()\n",
    "    left, right, longest = 0, 0, 0\n",
    "    \n",
    "    while right < len(s):\n",
    "        if s[right] not in char_set:\n",
    "            char_set.add(s[right])\n",
    "            right += 1\n",
    "            longest = max(longest, right - left)\n",
    "        else:\n",
    "            char_set.remove(s[left])\n",
    "            left += 1\n",
    "            \n",
    "    return longest\n",
    "lengthOfLongestSubstring(str)"
   ]
  },
  {
   "cell_type": "markdown",
   "metadata": {},
   "source": [
    "# Traversing Linked list\n"
   ]
  },
  {
   "cell_type": "code",
   "execution_count": 76,
   "metadata": {},
   "outputs": [],
   "source": [
    "class Node:\n",
    "    def __init__(self, data):\n",
    "        self.data = data\n",
    "        self.next = None\n",
    "\n",
    "class LinkedList:\n",
    "    def __init__(self):\n",
    "        self.head = None\n",
    "    \n",
    "    def append(self, data):\n",
    "        new_node = Node(data)\n",
    "        if self.head is None:\n",
    "            self.head = new_node\n",
    "            return\n",
    "        current = self.head\n",
    "        while current.next:\n",
    "            current = current.next\n",
    "        current.next = new_node\n",
    "    \n",
    "    def traverse(self):\n",
    "        current = self.head\n",
    "        while current:\n",
    "            print(current.data, end=\" -> \")\n",
    "            current = current.next\n",
    "        print(\"None\")\n"
   ]
  },
  {
   "cell_type": "code",
   "execution_count": 78,
   "metadata": {},
   "outputs": [],
   "source": [
    "# Creating a linked list\n",
    "linked_list = LinkedList()\n",
    "linked_list.append(1)\n",
    "linked_list.append(2)\n",
    "linked_list.append(3)\n",
    "linked_list.append(4)"
   ]
  },
  {
   "cell_type": "code",
   "execution_count": 79,
   "metadata": {},
   "outputs": [
    {
     "data": {
      "text/plain": [
       "<__main__.LinkedList at 0x109408d10>"
      ]
     },
     "execution_count": 79,
     "metadata": {},
     "output_type": "execute_result"
    }
   ],
   "source": [
    "linked_list"
   ]
  },
  {
   "cell_type": "code",
   "execution_count": null,
   "metadata": {},
   "outputs": [],
   "source": [
    "# Traversing through the linked list\n",
    "linked_list.traverse()"
   ]
  },
  {
   "attachments": {},
   "cell_type": "markdown",
   "metadata": {},
   "source": [
    "# Reverse the linked list"
   ]
  },
  {
   "cell_type": "code",
   "execution_count": 80,
   "metadata": {},
   "outputs": [
    {
     "ename": "AttributeError",
     "evalue": "'list' object has no attribute 'head'",
     "output_type": "error",
     "traceback": [
      "\u001b[0;31m---------------------------------------------------------------------------\u001b[0m",
      "\u001b[0;31mAttributeError\u001b[0m                            Traceback (most recent call last)",
      "Cell \u001b[0;32mIn[80], line 16\u001b[0m\n\u001b[1;32m     14\u001b[0m         left\u001b[39m.\u001b[39mdata, right\u001b[39m.\u001b[39mdata \u001b[39m=\u001b[39m right\u001b[39m.\u001b[39mdata, left\u001b[39m.\u001b[39mdata\n\u001b[1;32m     15\u001b[0m         left \u001b[39m=\u001b[39m left\u001b[39m.\u001b[39mnext   \n\u001b[0;32m---> 16\u001b[0m \u001b[39mprint\u001b[39m(reverselist(\u001b[39mlist\u001b[39m))\n",
      "Cell \u001b[0;32mIn[80], line 5\u001b[0m, in \u001b[0;36mreverselist\u001b[0;34m(list)\u001b[0m\n\u001b[1;32m      3\u001b[0m \u001b[39mdef\u001b[39;00m \u001b[39mreverselist\u001b[39m(\u001b[39mlist\u001b[39m):\n\u001b[1;32m      4\u001b[0m     length\u001b[39m=\u001b[39m\u001b[39m0\u001b[39m\n\u001b[0;32m----> 5\u001b[0m     temp\u001b[39m=\u001b[39m\u001b[39mlist\u001b[39m\u001b[39m.\u001b[39mhead\n\u001b[1;32m      6\u001b[0m     \u001b[39mwhile\u001b[39;00m temp:\n\u001b[1;32m      7\u001b[0m         length \u001b[39m+\u001b[39m\u001b[39m=\u001b[39m\u001b[39m1\u001b[39m\n",
      "\u001b[0;31mAttributeError\u001b[0m: 'list' object has no attribute 'head'"
     ]
    }
   ],
   "source": [
    "list = [5, 3, 6, 4, 7] \n",
    "\n",
    "def reverselist(list):\n",
    "    length=0\n",
    "    temp=list.head\n",
    "    while temp:\n",
    "        length +=1\n",
    "        temp = temp.next\n",
    "    left = list.head\n",
    "    for i in range(length//2):\n",
    "        right = list.head\n",
    "        for j in range(length-i-1):\n",
    "            right = right.next\n",
    "        left.data, right.data = right.data, left.data\n",
    "        left = left.next   \n",
    "print(reverselist(list))            "
   ]
  },
  {
   "cell_type": "code",
   "execution_count": 81,
   "metadata": {},
   "outputs": [
    {
     "name": "stdout",
     "output_type": "stream",
     "text": [
      "Original List:\n",
      "5 -> 3 -> 6 -> 4 -> 7 -> None\n",
      "Reversed List:\n",
      "7 -> 4 -> 6 -> 3 -> 5 -> None\n"
     ]
    }
   ],
   "source": [
    "class Node:\n",
    "    def __init__(self, data):\n",
    "        self.data = data\n",
    "        self.next = None\n",
    "\n",
    "class LinkedList:\n",
    "    def __init__(self):\n",
    "        self.head = None\n",
    "\n",
    "    def append(self, data):\n",
    "        new_node = Node(data)\n",
    "        if self.head is None:\n",
    "            self.head = new_node\n",
    "            return\n",
    "        current = self.head\n",
    "        while current.next:\n",
    "            current = current.next\n",
    "        current.next = new_node\n",
    "\n",
    "    def traverse(self):\n",
    "        current = self.head\n",
    "        while current:\n",
    "            print(current.data, end=\" -> \")\n",
    "            current = current.next\n",
    "        print(\"None\")\n",
    "\n",
    "def reverselist(linked_list):\n",
    "    length = 0\n",
    "    temp = linked_list.head\n",
    "    while temp:\n",
    "        length += 1\n",
    "        temp = temp.next\n",
    "\n",
    "    left = linked_list.head\n",
    "    for i in range(length // 2):\n",
    "        right = linked_list.head\n",
    "        for j in range(length - i - 1):\n",
    "            right = right.next\n",
    "        left.data, right.data = right.data, left.data\n",
    "        left = left.next\n",
    "\n",
    "# Creating a linked list\n",
    "list = LinkedList()\n",
    "list.append(5)\n",
    "list.append(3)\n",
    "list.append(6)\n",
    "list.append(4)\n",
    "list.append(7)\n",
    "\n",
    "# Printing original list\n",
    "print(\"Original List:\")\n",
    "list.traverse()\n",
    "\n",
    "# Reversing the list\n",
    "reverselist(list)\n",
    "\n",
    "# Printing reversed list\n",
    "print(\"Reversed List:\")\n",
    "list.traverse()\n"
   ]
  },
  {
   "cell_type": "code",
   "execution_count": 8,
   "metadata": {},
   "outputs": [
    {
     "name": "stdout",
     "output_type": "stream",
     "text": [
      "[1, 2]\n"
     ]
    }
   ],
   "source": [
    "nums = [2,7,11,15]\n",
    "nums = [3,2,4]\n",
    "# nums = [2,7,11,15]\n",
    "\n",
    "target = 6\n",
    "\n",
    "def twoSum(nums, target):\n",
    "        n= len(nums)\n",
    "        for i in range(n-1):\n",
    "            for j in range(i+1,n):\n",
    "                if (nums[i]+nums[j]==target):\n",
    "                    return [i,j]\n",
    "        return []           \n",
    "print(twoSum(nums, target))"
   ]
  },
  {
   "cell_type": "code",
   "execution_count": null,
   "metadata": {},
   "outputs": [],
   "source": []
  },
  {
   "attachments": {},
   "cell_type": "markdown",
   "metadata": {},
   "source": [
    "# Palindrom Number"
   ]
  },
  {
   "cell_type": "code",
   "execution_count": 33,
   "metadata": {},
   "outputs": [
    {
     "name": "stdout",
     "output_type": "stream",
     "text": [
      "This is a palindrome\n"
     ]
    }
   ],
   "source": [
    "# x=12345\n",
    "x=121\n",
    "\n",
    "nums= str(x)\n",
    "length= len(nums)\n",
    "for i in range(len(nums)//2):\n",
    "    if (nums[i]!= nums[length-i-1]):\n",
    "        print( 'This is not a palindrome')\n",
    "        break\n",
    "    else:\n",
    "        print('This is a palindrome')\n",
    "        \n",
    "        "
   ]
  },
  {
   "cell_type": "code",
   "execution_count": 39,
   "metadata": {},
   "outputs": [
    {
     "name": "stdout",
     "output_type": "stream",
     "text": [
      "This is not a palindrome\n",
      "None\n"
     ]
    }
   ],
   "source": [
    "# x=12345\n",
    "# x=1221\n",
    "# x=12345\n",
    "x=-121\n",
    "\n",
    "def isPalindrome(x):\n",
    "    nums= str(x)\n",
    "    length= len(nums)\n",
    "    for i in range(len(nums)//2):\n",
    "        if (nums[i]!= nums[length-i-1]):\n",
    "            print('This is not a palindrome')\n",
    "            break\n",
    "        else:\n",
    "            print('This is a palindrome')\n",
    "            break\n",
    "            \n",
    "print(isPalindrome(x))            "
   ]
  },
  {
   "cell_type": "code",
   "execution_count": null,
   "metadata": {},
   "outputs": [],
   "source": [
    "def is_palindrome(number):\n",
    "    number_str = str(number)\n",
    "    reversed_str = number_str[::-1]\n",
    "    return number_str == reversed_str\n",
    "\n",
    "# Test cases\n",
    "print(is_palindrome(121))    # True\n",
    "print(is_palindrome(12321))  # True\n",
    "print(is_palindrome(12345))  # False"
   ]
  },
  {
   "cell_type": "code",
   "execution_count": null,
   "metadata": {},
   "outputs": [],
   "source": [
    "def is_palindrome(number):\n",
    "    reversed_number = 0\n",
    "    original_number = number\n",
    "\n",
    "    while number > 0:\n",
    "        last_digit = number % 10\n",
    "        reversed_number = (reversed_number * 10) + last_digit\n",
    "        number = number // 10\n",
    "\n",
    "    return original_number == reversed_number\n",
    "\n",
    "# Test cases\n",
    "print(is_palindrome(121))    # True\n",
    "print(is_palindrome(12321))  # True\n",
    "print(is_palindrome(12345))  # False\n"
   ]
  },
  {
   "cell_type": "code",
   "execution_count": null,
   "metadata": {},
   "outputs": [],
   "source": [
    "def is_palindrome(word):\n",
    "    length = len(word)\n",
    "    for i in range(length // 2):\n",
    "        if word[i] != word[length - i - 1]:\n",
    "            return False\n",
    "    return True\n",
    "\n",
    "# Test cases\n",
    "print(is_palindrome(\"level\"))         # True\n",
    "print(is_palindrome(\"racecar\"))       # True\n",
    "print(is_palindrome(\"hello\"))         # False\n",
    "print(is_palindrome(\"madam\"))         # True\n",
    "print(is_palindrome(\"openai\"))        # False"
   ]
  },
  {
   "cell_type": "markdown",
   "metadata": {},
   "source": [
    "# Roman to Integer"
   ]
  },
  {
   "attachments": {},
   "cell_type": "markdown",
   "metadata": {},
   "source": [
    "## 1st method"
   ]
  },
  {
   "cell_type": "code",
   "execution_count": null,
   "metadata": {},
   "outputs": [],
   "source": [
    "def romantoInt(s):\n",
    "    roman_values = {'I': 1, 'V': 5, 'X': 10, 'L': 50, 'C': 100, 'D': 500, 'M': 1000}\n",
    "    result = 0\n",
    "    \n",
    "    for i in range(len(s)):\n",
    "        if i > 0 and roman_values[s[i]] > roman_values[s[i - 1]]:\n",
    "            result += roman_values[s[i]] - 2 * roman_values[s[i - 1]]\n",
    "        else:\n",
    "            result += roman_values[s[i]]\n",
    "    \n",
    "    return result\n"
   ]
  },
  {
   "cell_type": "code",
   "execution_count": null,
   "metadata": {},
   "outputs": [],
   "source": [
    "# roman_numeral = \"XLVII\"\n",
    "# roman_numeral = \"VII\"\n",
    "# roman_numeral = \"XL\"\n",
    "# roman_numeral = \"LV\"\n",
    "roman_numeral = \"XVXL\"\n",
    "\n",
    "\n",
    "integer_value = romantoInt(roman_numeral)\n",
    "print(integer_value)  # Output: 47\n"
   ]
  },
  {
   "cell_type": "markdown",
   "metadata": {},
   "source": [
    "# 2nd Method"
   ]
  },
  {
   "cell_type": "code",
   "execution_count": 42,
   "metadata": {},
   "outputs": [
    {
     "ename": "NameError",
     "evalue": "name 'romanToInt' is not defined",
     "output_type": "error",
     "traceback": [
      "\u001b[0;31m---------------------------------------------------------------------------\u001b[0m",
      "\u001b[0;31mNameError\u001b[0m                                 Traceback (most recent call last)",
      "Cell \u001b[0;32mIn[42], line 20\u001b[0m\n\u001b[1;32m     17\u001b[0m             number \u001b[39m+\u001b[39m\u001b[39m=\u001b[39m translations[char]\n\u001b[1;32m     18\u001b[0m         \u001b[39mreturn\u001b[39;00m number\n\u001b[0;32m---> 20\u001b[0m \u001b[39mprint\u001b[39m(romanToInt(III))    \n",
      "\u001b[0;31mNameError\u001b[0m: name 'romanToInt' is not defined"
     ]
    }
   ],
   "source": [
    "class Solution:\n",
    "    def romanToInt(self, s: str) -> int:\n",
    "        translations = {\n",
    "            \"I\": 1,\n",
    "            \"V\": 5,\n",
    "            \"X\": 10,\n",
    "            \"L\": 50,\n",
    "            \"C\": 100,\n",
    "            \"D\": 500,\n",
    "            \"M\": 1000\n",
    "        }\n",
    "        number = 0\n",
    "        s = s.replace(\"IV\", \"IIII\").replace(\"IX\", \"VIIII\")\n",
    "        s = s.replace(\"XL\", \"XXXX\").replace(\"XC\", \"LXXXX\")\n",
    "        s = s.replace(\"CD\", \"CCCC\").replace(\"CM\", \"DCCCC\")\n",
    "        for char in s:\n",
    "            number += translations[char]\n",
    "        return number\n",
    "    \n",
    "print(romanToInt(III))    "
   ]
  },
  {
   "cell_type": "code",
   "execution_count": 43,
   "metadata": {},
   "outputs": [],
   "source": [
    "def romantoInt(s):\n",
    "    roman_values = {'I': 1, 'V': 5, 'X': 10, 'L': 50, 'C': 100, 'D': 500, 'M': 1000}\n",
    "    result = 0\n",
    "    previous_value = 0\n",
    "    \n",
    "    for char in reversed(s):\n",
    "        current_value = roman_values[char]\n",
    "        if current_value >= previous_value:\n",
    "            result += current_value\n",
    "        else:\n",
    "            result -= current_value\n",
    "        previous_value = current_value\n",
    "    \n",
    "    return result\n"
   ]
  },
  {
   "cell_type": "code",
   "execution_count": 44,
   "metadata": {},
   "outputs": [
    {
     "name": "stdout",
     "output_type": "stream",
     "text": [
      "14\n"
     ]
    }
   ],
   "source": [
    "roman_numeral = \"XIV\"\n",
    "integer_value = romantoInt(roman_numeral)\n",
    "print(integer_value)  # Output: 14\n"
   ]
  },
  {
   "attachments": {},
   "cell_type": "markdown",
   "metadata": {},
   "source": [
    "# Remove Duplicates from sorted list"
   ]
  },
  {
   "cell_type": "code",
   "execution_count": 90,
   "metadata": {},
   "outputs": [
    {
     "name": "stdout",
     "output_type": "stream",
     "text": [
      "[0, 1, 2, 3, 4, 5, 6, 7]\n"
     ]
    }
   ],
   "source": [
    "# nums = [0,0,1,1,1,2,2,3,3,4]\n",
    "nums = [0,0,1,1,1,2,2,3,3,4,5,5,6,6,7,7]\n",
    "\n",
    "a=[]\n",
    "for i in range(len(nums)):\n",
    "    if nums[i] not in a:\n",
    "        a.append(nums[i])\n",
    "print(a) "
   ]
  },
  {
   "cell_type": "code",
   "execution_count": 91,
   "metadata": {},
   "outputs": [
    {
     "name": "stdout",
     "output_type": "stream",
     "text": [
      "8\n"
     ]
    }
   ],
   "source": [
    "nums = [0,0,1,1,1,2,2,3,3,4,5,5,6,6,7,7]\n",
    "\n",
    "def removeDuplicates(nums):\n",
    "    if not nums:\n",
    "        return \n",
    "    slow = fast = 0\n",
    "    while fast <= len(nums) - 1:\n",
    "        if nums[fast] != nums[slow]:\n",
    "            nums[slow+1] = nums[fast]\n",
    "            slow += 1\n",
    "        fast += 1\n",
    "    return slow + 1\n",
    "\n",
    "print(removeDuplicates(nums))"
   ]
  },
  {
   "cell_type": "code",
   "execution_count": 92,
   "metadata": {},
   "outputs": [
    {
     "name": "stdout",
     "output_type": "stream",
     "text": [
      "8\n"
     ]
    }
   ],
   "source": [
    "nums = [0,0,1,1,1,2,2,3,3,4,5,5,6,6,7,7]\n",
    "\n",
    "def removeDuplicates(nums):\n",
    "    if not nums: \n",
    "        return 0\n",
    "    i = 0\n",
    "    for j in range(1, len(nums)):\n",
    "        if nums[i] != nums[j]:\n",
    "            nums[i + 1] = nums[j]\n",
    "            i += 1\n",
    "    return i + 1\n",
    "print(removeDuplicates(nums))\n"
   ]
  },
  {
   "attachments": {},
   "cell_type": "markdown",
   "metadata": {},
   "source": [
    "# Find the Index of the first occurrence in a String"
   ]
  },
  {
   "cell_type": "markdown",
   "metadata": {},
   "source": [
    "Input: haystack = \"sadbutsad\", needle = \"sad\"\n",
    "Output: 0\n",
    "Explanation: \"sad\" occurs at index 0 and 6.\n",
    "The first occurrence is at index 0, so we return 0."
   ]
  },
  {
   "cell_type": "code",
   "execution_count": 102,
   "metadata": {},
   "outputs": [
    {
     "name": "stdout",
     "output_type": "stream",
     "text": [
      "3\n"
     ]
    }
   ],
   "source": [
    "haystack = \"butsad\"\n",
    "needle = \"sad\"\n",
    "\n",
    "n = len(haystack)\n",
    "m = len(needle)\n",
    "\n",
    "def  iocf(str1, str2):\n",
    "    for i in range(n-m+1):\n",
    "        for j in range(m):\n",
    "            if str1[i+j] != str2[j]:\n",
    "                break\n",
    "            else:\n",
    "                return i\n",
    "    return -1\n",
    "\n",
    "print(iocf(haystack, needle))\n",
    "\n"
   ]
  },
  {
   "cell_type": "code",
   "execution_count": 105,
   "metadata": {},
   "outputs": [
    {
     "name": "stdout",
     "output_type": "stream",
     "text": [
      "3\n"
     ]
    }
   ],
   "source": [
    "haystack = \"butsad\"\n",
    "needle = \"sad\"\n",
    "\n",
    "def strStr(haystack, needle):\n",
    "    for i in range(len(haystack)-len(needle)+1):\n",
    "        if haystack[i:i+len(needle)]==needle:\n",
    "            return i\n",
    "    return -1\n",
    "print(strStr(haystack, needle))\n"
   ]
  },
  {
   "cell_type": "code",
   "execution_count": 113,
   "metadata": {},
   "outputs": [
    {
     "ename": "SyntaxError",
     "evalue": "incomplete input (1473486102.py, line 16)",
     "output_type": "error",
     "traceback": [
      "\u001b[0;36m  Cell \u001b[0;32mIn[113], line 16\u001b[0;36m\u001b[0m\n\u001b[0;31m    print( strStr( haystack, needle)\u001b[0m\n\u001b[0m                                            ^\u001b[0m\n\u001b[0;31mSyntaxError\u001b[0m\u001b[0;31m:\u001b[0m incomplete input\n"
     ]
    }
   ],
   "source": [
    "haystack = \"butsad\"\n",
    "needle = \"sad\"\n",
    "\n",
    "def strStr(haystack, needle):\n",
    "    if needle == \"\":\n",
    "        return 0\n",
    "    n = len(needle)\n",
    "    m = len(haystack)\n",
    "    if m < n:\n",
    "        return -1\n",
    "    else:\n",
    "        for i in range(m-n+1):\n",
    "            if haystack[i:i+n] == needle:\n",
    "                return i\n",
    "        return -1\n",
    "print( strStr( haystack, needle)        "
   ]
  },
  {
   "cell_type": "code",
   "execution_count": 114,
   "metadata": {},
   "outputs": [
    {
     "name": "stdout",
     "output_type": "stream",
     "text": [
      "3\n"
     ]
    }
   ],
   "source": [
    "haystack = \"butsad\"\n",
    "needle = \"sad\"\n",
    "\n",
    "def strStr(haystack, needle):\n",
    "    for p1 in range(len(haystack)-len(needle)+1):\n",
    "        if haystack[p1:p1+len(needle)] == needle:\n",
    "            return p1\n",
    "    return -1\n",
    "print( strStr(haystack, needle))"
   ]
  },
  {
   "cell_type": "markdown",
   "metadata": {},
   "source": [
    "# Search Insert Position"
   ]
  },
  {
   "cell_type": "markdown",
   "metadata": {},
   "source": [
    "Given a sorted array of distinct integers and a target value, return the index if the target is found. If not, return the index where it would be if it were inserted in order.\n",
    "You must write an algorithm with O(log n) runtime complexity."
   ]
  },
  {
   "attachments": {},
   "cell_type": "markdown",
   "metadata": {},
   "source": [
    "example1:-\n",
    "-  Input: nums = [1,3,5,6], target = 5\n",
    "- Output: 2\n",
    "example2:-\n",
    "- Input: nums = [1,3,5,6], target = 2\n",
    "- Output: 1\n",
    "example3:-\n",
    "- Input: nums = [1,3,5,6], target = 7\n",
    "- Output: 4"
   ]
  },
  {
   "cell_type": "code",
   "execution_count": 132,
   "metadata": {},
   "outputs": [
    {
     "name": "stdout",
     "output_type": "stream",
     "text": [
      "3\n"
     ]
    }
   ],
   "source": [
    "nums=[2,3,5,6]\n",
    "target=6\n",
    "\n",
    "def searchInsert(nums, target):\n",
    "        if target <= nums[0]:\n",
    "            return 0\n",
    "        if target == nums[-1]:\n",
    "            return len(nums)-1\n",
    "        \n",
    "        if target > nums[-1]:\n",
    "            return len(nums)\n",
    "        \n",
    "        for i in range(0,len(nums)-1):\n",
    "            if nums[i] == target:\n",
    "                return i\n",
    "            if nums[i] < target <= nums[i+1]:\n",
    "                return i+1\n",
    "print(searchInsert(nums, target))         "
   ]
  },
  {
   "cell_type": "code",
   "execution_count": 133,
   "metadata": {},
   "outputs": [
    {
     "ename": "TypeError",
     "evalue": "list indices must be integers or slices, not float",
     "output_type": "error",
     "traceback": [
      "\u001b[0;31m---------------------------------------------------------------------------\u001b[0m",
      "\u001b[0;31mTypeError\u001b[0m                                 Traceback (most recent call last)",
      "Cell \u001b[0;32mIn[133], line 16\u001b[0m\n\u001b[1;32m     14\u001b[0m         res \u001b[39m=\u001b[39m \u001b[39mself\u001b[39m\u001b[39m.\u001b[39msearchInsert(nums[mid\u001b[39m+\u001b[39m\u001b[39m1\u001b[39m:],target)\n\u001b[1;32m     15\u001b[0m         \u001b[39mreturn\u001b[39;00m res \u001b[39m+\u001b[39m mid \u001b[39m+\u001b[39m \u001b[39m1\u001b[39m\n\u001b[0;32m---> 16\u001b[0m \u001b[39mprint\u001b[39m(searchInsert(nums, target))            \n",
      "Cell \u001b[0;32mIn[133], line 9\u001b[0m, in \u001b[0;36msearchInsert\u001b[0;34m(nums, target)\u001b[0m\n\u001b[1;32m      7\u001b[0m N \u001b[39m=\u001b[39m \u001b[39mlen\u001b[39m(nums)\n\u001b[1;32m      8\u001b[0m mid \u001b[39m=\u001b[39m N \u001b[39m/\u001b[39m \u001b[39m2\u001b[39m\n\u001b[0;32m----> 9\u001b[0m \u001b[39mif\u001b[39;00m nums[mid] \u001b[39m==\u001b[39m target:\n\u001b[1;32m     10\u001b[0m     \u001b[39mreturn\u001b[39;00m mid\n\u001b[1;32m     11\u001b[0m \u001b[39melif\u001b[39;00m nums[mid] \u001b[39m>\u001b[39m target:\n",
      "\u001b[0;31mTypeError\u001b[0m: list indices must be integers or slices, not float"
     ]
    }
   ],
   "source": [
    "nums=[2,3,5,6]\n",
    "target=6\n",
    "def searchInsert(nums, target):\n",
    "# binary search O(log N)\n",
    "    if len(nums) == 0:\n",
    "        return 0\n",
    "    N = len(nums)\n",
    "    mid = N / 2\n",
    "    if nums[mid] == target:\n",
    "        return mid\n",
    "    elif nums[mid] > target:\n",
    "        return self.searchInsert(nums[:mid],target)\n",
    "    else:\n",
    "        res = self.searchInsert(nums[mid+1:],target)\n",
    "        return res + mid + 1\n",
    "\n",
    "print(searchInsert(nums, target))"
   ]
  },
  {
   "cell_type": "markdown",
   "metadata": {},
   "source": [
    "### Solve the problem [Python]\n",
    "Given an array of integers arr and an integer k, create a boolean function that checks if there exist two elements in arr such that we get k when we add them together.\n",
    "\n",
    "- Example 1:\n",
    "\n",
    "Input: arr = [4, 5, 1, -3, 6], k = 11\n",
    "\n",
    "Output: true\n",
    "\n",
    "Explanation: 5 + 6 is equal to 11\n",
    "\n",
    "- Example 2:\n",
    "\n",
    "Input: arr = [4, 5, 1, -3, 6], k = -2\n",
    "\n",
    "Output: true\n",
    "\n",
    "Explanation: 1 + (-3) is equal to -2\n",
    "\n",
    "- Example 3:\n",
    "\n",
    "Input: arr = [4, 5, 1, -3, 6], k = 8\n",
    "\n",
    "Output: false\n",
    "\n",
    "Explanation: there is no pair that sums up to 8"
   ]
  },
  {
   "cell_type": "code",
   "execution_count": null,
   "metadata": {},
   "outputs": [],
   "source": [
    "#### 1st-Method\n",
    "# def sum_cond(arr, k):\n",
    "#     n = len(arr)\n",
    "#     for i in range(n):\n",
    "#         for j in range(i + 1, n):  # Avoid using the same element twice\n",
    "#             # print(i,j)\n",
    "#             if arr[i] + arr[j] == k:\n",
    "#                 print('True')\n",
    "#                 return\n",
    "#     print('False')\n",
    "\n",
    "# Test case\n",
    "# arr = [4, 5, 1, -3, 6]\n",
    "# k = 11\n",
    "# sum_cond(arr, k)\n",
    "#####-------------------------------\n",
    "## 2nd -method\n",
    "# arr = [4, 5, 1, -3, 6]\n",
    "# k = 11\n",
    "# Found=any([arr[i]+arr[j]==k for i in range(len(arr)) for j in range(i+1,len(arr))])\n",
    "# print(\"True\" if Found else False)\n",
    "\n",
    "###---3rd method:\n",
    "\n",
    "\n",
    "# def find_sum_cond(arr,k):\n",
    "#     l=0\n",
    "#     r=len(arr)-1\n",
    "    #   arr.sort()\n",
    "#     while l<r:\n",
    "#         if arr[l]+arr[r]==k:\n",
    "#             return True\n",
    "#         elif arr[l]+arr[r]<k:\n",
    "#             l+=1\n",
    "#         else:\n",
    "#             r-=1\n",
    "#     return False \n",
    "# # arr = [4, 5, 1, -3, 6]\n",
    "# arr=[2,3,4, 5,1, 1, -3, 4,6,3]\n",
    "# k = 11\n",
    "# find_sum_cond(arr,k)    \n",
    "\n",
    "### 4th- method:    \n",
    "def find_sum_cond(arr, k):\n",
    "    n = len(arr)\n",
    "    for i in range(n):\n",
    "        for j in range(i + 1, n):\n",
    "            if arr[i] + arr[j] == k:\n",
    "                return True\n",
    "    return False\n",
    "arr=[2,3,4, 5,1, 1, -3, 4,6,3]\n",
    "k = 11\n",
    "find_sum_cond(arr,k)   "
   ]
  },
  {
   "cell_type": "markdown",
   "metadata": {},
   "source": [
    "# Removing Dupicates and Findings\n",
    "## Solve the problem [Python]\n",
    "Given a string str, create a function that returns the first repeating character.\n",
    "If such character doesn't exist, return the null character '\\0'.\n",
    "\n",
    "- Example 1:\n",
    "\n",
    "Input: str = \"inside code\"\n",
    "\n",
    "Output: 'i'\n",
    "\n",
    "- Example 2:\n",
    "\n",
    "Input: str = \"programming\"\n",
    "\n",
    "Output: 'r'\n",
    "\n",
    "- Example 3:\n",
    "\n",
    "Input: str = \"abcd\"\n",
    "\n",
    "Output: '\\0'\n",
    "\n",
    "- Example 4:\n",
    "\n",
    "Input: str = \"abba\"\n",
    "\n",
    "Output: 'b'"
   ]
  },
  {
   "cell_type": "code",
   "execution_count": 1,
   "metadata": {},
   "outputs": [
    {
     "data": {
      "text/plain": [
       "[100, 200, 300, 400, 500]"
      ]
     },
     "execution_count": 1,
     "metadata": {},
     "output_type": "execute_result"
    }
   ],
   "source": [
    "def remove_duplicates(arr):\n",
    "    \"\"\"Given an array of integers, remove all duplicates and return the resulting array.\"\"\"\n",
    "    d={}\n",
    "    for i in range(len(arr)):\n",
    "        if arr[i] not in d:\n",
    "            d[arr[i]]=1\n",
    "        else:\n",
    "            d[arr[i]]+=1\n",
    "    return list(d.keys())        \n",
    "        \n",
    "# arr=[4,4,2,3,2,2,4,3]  \n",
    "arr=[100,200,300,200,300,400,400,400,400,500]    \n",
    "  \n",
    "remove_duplicates(arr)    "
   ]
  },
  {
   "cell_type": "code",
   "execution_count": 2,
   "metadata": {},
   "outputs": [
    {
     "data": {
      "text/plain": [
       "[200, 300, 400]"
      ]
     },
     "execution_count": 2,
     "metadata": {},
     "output_type": "execute_result"
    }
   ],
   "source": [
    "def find_all_duplicates(arr):\n",
    "    \"\"\"Given an array of integers, remove all duplicates and return the resulting array.\"\"\"\n",
    "    duplicates={}\n",
    "    for i in range(len(arr)):\n",
    "        if arr[i] in duplicates:\n",
    "            duplicates[arr[i]]+=1\n",
    "        else:\n",
    "            duplicates[arr[i]]=1\n",
    "    d={key for key, value in duplicates.items() if value>1}        \n",
    "    return list(d)       \n",
    "               \n",
    "        \n",
    "# arr=[4,4,2,3,2,2,4,3]\n",
    "arr=[100,200,300,200,300,400,400,400,400,500]    \n",
    "find_all_duplicates(arr)"
   ]
  },
  {
   "cell_type": "markdown",
   "metadata": {},
   "source": [
    "# Maximum Sub_Array "
   ]
  },
  {
   "cell_type": "markdown",
   "metadata": {},
   "source": [
    "<h4> Solve the problem [Python] </h4>\n",
    "Given a non-empty array of integers arr, create a function that returns the sum of the subarray that has the greatest sum.\n",
    "We don't consider the empty array [] as a subarray.\n",
    "\n",
    "- Example 1:\n",
    "\n",
    "Input: arr = [2, 3, -6, 4, 2, -8, 3]\n",
    "\n",
    "Output: 6\n",
    "\n",
    "- Explanation: the maximum subarray is [4, 2], its sum is 6\n",
    "\n",
    "Example 2:\n",
    "\n",
    "Input: arr = [2, 3, -1, 4, -10, 2, 5]\n",
    "\n",
    "Output: 8\n",
    "\n",
    "- Explanation: the maximum subarray is [2, 3, -1, 4], its sum is 8\n",
    "\n",
    "Example 3:\n",
    "\n",
    "Input: arr = [-3, -1, -2]\n",
    "\n",
    "Output: -1\n",
    "\n",
    "- Explanation: the maximum subarray is [-1], its sum is -1"
   ]
  },
  {
   "cell_type": "code",
   "execution_count": 4,
   "metadata": {},
   "outputs": [
    {
     "name": "stdout",
     "output_type": "stream",
     "text": [
      "Maximum Sum: 6\n",
      "Subarray: [4, -1, 2, 1]\n"
     ]
    }
   ],
   "source": [
    "def max_subarray(nums):\n",
    "    \"\"\"\n",
    "    Finds the contiguous subarray (containing at least one number) which has the largest sum\n",
    "    and returns its sum along with the subarray.\n",
    "    \n",
    "    :param nums: List[int] - list of integers\n",
    "    :return: Tuple[int, List[int]] - the sum of the maximum subarray and the subarray itself\n",
    "    \"\"\"\n",
    "    max_sum = float('-inf')  # Initialize the maximum sum to negative infinity\n",
    "    start = end = 0  # Initialize the starting and ending indices of the max subarray\n",
    "    \n",
    "    # Loop through each starting point of the subarray\n",
    "    for i in range(len(nums)):\n",
    "        current_sum = 0  # Initialize the current sum\n",
    "        \n",
    "        # Loop through each ending point of the subarray\n",
    "        for j in range(i, len(nums)):\n",
    "            current_sum += nums[j]  # Add the current element to the current sum\n",
    "            \n",
    "            # Update the maximum sum and indices if the current sum is greater\n",
    "            if current_sum > max_sum:\n",
    "                max_sum = current_sum\n",
    "                start = i\n",
    "                end = j\n",
    "    \n",
    "    return max_sum, nums[start:end+1]\n",
    "\n",
    "# Test case\n",
    "nums = [-2, 1, -3, 4, -1, 2, 1, -5, 4]\n",
    "max_sum, subarray = max_subarray(nums)\n",
    "print(f\"Maximum Sum: {max_sum}\")  # Expected output: 6\n",
    "print(f\"Subarray: {subarray}\")    # Expected output: [4, -1, 2, 1]\n"
   ]
  },
  {
   "cell_type": "code",
   "execution_count": null,
   "metadata": {},
   "outputs": [],
   "source": [
    "# Kadane's Algorithm\n",
    "def max_subarray_kadane(arr):\n",
    "    max_sum = float('-inf')\n",
    "    current_sum = 0\n",
    "\n",
    "    for num in arr:\n",
    "        current_sum = max(num, current_sum + num)\n",
    "        max_sum = max(max_sum, current_sum)\n",
    "\n",
    "    return max_sum\n",
    "\n",
    "# Divide and Conquer\n",
    "def max_subarray_divide_conquer(arr, low, high):\n",
    "    if low == high:\n",
    "        return arr[low]\n",
    "    \n",
    "    mid = (low + high) // 2\n",
    "\n",
    "    left_max = max_subarray_divide_conquer(arr, low, mid)\n",
    "    right_max = max_subarray_divide_conquer(arr, mid + 1, high)\n",
    "    cross_max = max_crossing_subarray(arr, low, mid, high)\n",
    "    \n",
    "    return max(left_max, right_max, cross_max)\n",
    "\n",
    "def max_crossing_subarray(arr, low, mid, high):\n",
    "    left_sum = float('-inf')\n",
    "    sum_ = 0\n",
    "    for i in range(mid, low - 1, -1):\n",
    "        sum_ += arr[i]\n",
    "        left_sum = max(left_sum, sum_)\n",
    "    \n",
    "    right_sum = float('-inf')\n",
    "    sum_ = 0\n",
    "    for j in range(mid + 1, high + 1):\n",
    "        sum_ += arr[j]\n",
    "        right_sum = max(right_sum, sum_)\n",
    "    \n",
    "    return left_sum + right_sum\n",
    "\n",
    "# Dynamic Programming\n",
    "def max_subarray_dp(arr):\n",
    "    max_ending_here = max_so_far = arr[0]\n",
    "    for num in arr[1:]:\n",
    "        max_ending_here = max(num, max_ending_here + num)\n",
    "        max_so_far = max(max_so_far, max_ending_here)\n",
    "    return max_so_far\n",
    "\n",
    "# Brute Force\n",
    "def max_subarray_bruteforce(arr):\n",
    "    max_sum = float('-inf')\n",
    "    for i in range(len(arr)):\n",
    "        current_sum = 0\n",
    "        for j in range(i, len(arr)):\n",
    "            current_sum += arr[j]\n",
    "            max_sum = max(max_sum, current_sum)\n",
    "    return max_sum\n",
    "\n",
    "# Using Prefix Sum\n",
    "def max_subarray_prefix_sum(arr):\n",
    "    prefix_sum = [0] * len(arr)\n",
    "    prefix_sum[0] = arr[0]\n",
    "    for i in range(1, len(arr)):\n",
    "        prefix_sum[i] = prefix_sum[i - 1] + arr[i]\n",
    "    \n",
    "    max_sum = float('-inf')\n",
    "    min_prefix = 0\n",
    "    \n",
    "    for num in prefix_sum:\n",
    "        max_sum = max(max_sum, num - min_prefix)\n",
    "        min_prefix = min(min_prefix, num)\n",
    "    \n",
    "    return max_sum\n",
    "\n",
    "arr = [-2, 1, -3, 4, -1, 2, 1, -5, 4]\n",
    "\n",
    "print(\"Using Kadane's Algorithm:\", max_subarray_kadane(arr))\n",
    "print(\"Using Divide and Conquer:\", max_subarray_divide_conquer(arr, 0, len(arr) - 1))\n",
    "print(\"Using Dynamic Programming:\", max_subarray_dp(arr))\n",
    "print(\"Using Brute Force:\", max_subarray_bruteforce(arr))\n",
    "print(\"Using Prefix Sum:\", max_subarray_prefix_sum(arr))\n"
   ]
  },
  {
   "cell_type": "code",
   "execution_count": null,
   "metadata": {},
   "outputs": [],
   "source": []
  },
  {
   "cell_type": "markdown",
   "metadata": {},
   "source": [
    "# Longest substring without repeating characters\n",
    "#### Solve the problem [Python]\n",
    "Given a string str made of alphabetical letters only, create a function that returns the length of the longest substring without repeating characters.\n",
    "\n",
    "- Example 1:\n",
    "\n",
    "Input: str = \"abcdbeghef\"\n",
    "\n",
    "Output: 6\n",
    "\n",
    "Explanation: the longest substring without repeating characters is \"cdbegh\", its length is 6\n",
    "\n",
    "- Example 2:\n",
    "\n",
    "Input: str = \"aaaaa\"\n",
    "\n",
    "Output: 1\n",
    "\n",
    "Explanation: the longest substring without repeating characters is \"a\", its length is 1\n",
    "\n",
    "- Example 3:\n",
    "\n",
    "Input: str = \"eddy\"\n",
    "\n",
    "Output: 2\n",
    "\n",
    "Explanation: the longest substring without repeating characters is \"ed\" (or \"dy\"), its length is 2"
   ]
  },
  {
   "cell_type": "code",
   "execution_count": 7,
   "metadata": {},
   "outputs": [
    {
     "name": "stdout",
     "output_type": "stream",
     "text": [
      "Longest substring without repeating characters is: cdbegh\n",
      "Length of this substring is: 6\n"
     ]
    }
   ],
   "source": [
    "def longest_substring_without_repeating(s):\n",
    "    # Dictionary to store the last position of each character\n",
    "    char_index = {}\n",
    "    start = 0  # Start index of the current window\n",
    "    max_length = 0  # Maximum length of substring found\n",
    "    longest_substr = \"\"  # The longest substring without repeating characters\n",
    "\n",
    "    for end in range(len(s)):\n",
    "        current_char = s[end]\n",
    "\n",
    "        # If the character is in the dictionary and its index is within the current window\n",
    "        if current_char in char_index and char_index[current_char] >= start:\n",
    "            start = char_index[current_char] + 1  # Move the start to the right of the last seen index\n",
    "\n",
    "        char_index[current_char] = end  # Update the last seen index of the character\n",
    "\n",
    "        # Calculate the length of the current window\n",
    "        window_length = end - start + 1\n",
    "\n",
    "        # Update the maximum length and longest substring if needed\n",
    "        if window_length > max_length:\n",
    "            max_length = window_length\n",
    "            longest_substr = s[start:end + 1]\n",
    "\n",
    "    return longest_substr, max_length\n",
    "\n",
    "# Example usage\n",
    "# s = \"abcabcbb\"\n",
    "s = \"abcdbeghef\"\n",
    "\n",
    "longest_substr, max_length = longest_substring_without_repeating(s)\n",
    "print(\"Longest substring without repeating characters is:\", longest_substr)\n",
    "print(\"Length of this substring is:\", max_length)\n"
   ]
  },
  {
   "cell_type": "code",
   "execution_count": 8,
   "metadata": {},
   "outputs": [
    {
     "name": "stdout",
     "output_type": "stream",
     "text": [
      "Longest substring without repeating characters is: abc\n",
      "Length of this substring is: 3\n"
     ]
    }
   ],
   "source": [
    "def is_unique(s):\n",
    "    \"\"\"\n",
    "    Check if all characters in the string are unique.\n",
    "    \"\"\"\n",
    "    return len(s) == len(set(s))\n",
    "\n",
    "def longest_substring_without_repeating_classical(s):\n",
    "    \"\"\"\n",
    "    Find the longest substring without repeating characters using a classical approach.\n",
    "    \"\"\"\n",
    "    max_length = 0\n",
    "    longest_substr = \"\"\n",
    "\n",
    "    # Iterate over all possible substrings\n",
    "    for i in range(len(s)):\n",
    "        for j in range(i + 1, len(s) + 1):\n",
    "            substring = s[i:j]\n",
    "            if is_unique(substring):\n",
    "                if len(substring) > max_length:\n",
    "                    max_length = len(substring)\n",
    "                    longest_substr = substring\n",
    "\n",
    "    return longest_substr, max_length\n",
    "\n",
    "# Example usage\n",
    "s = \"abcabcbb\"\n",
    "longest_substr, max_length = longest_substring_without_repeating_classical(s)\n",
    "print(\"Longest substring without repeating characters is:\", longest_substr)\n",
    "print(\"Length of this substring is:\", max_length)\n"
   ]
  },
  {
   "cell_type": "markdown",
   "metadata": {},
   "source": [
    "\n",
    "## Minimum cost path\n",
    "Solve the problem [Python]\n",
    "Given a matrix of integers matrix of size n*m, where each element matrix[i][j] represents the cost of passing from that cell, create a function that returns the cost of the minimum cost path to go from the top left cell to the right bottom cell, knowing that you can only move to the right or to the bottom.\n",
    "\n",
    "- Example 1:\n",
    "\n",
    "Input: matrix = [[3, 12, 4, 7, 10], [6, 8, 15, 11, 4], [19, 5, 14, 32, 21], [1, 20, 2, 9, 7]]\n",
    "\n",
    "Output: 54\n",
    "\n",
    "Explanation:"
   ]
  },
  {
   "cell_type": "code",
   "execution_count": 18,
   "metadata": {},
   "outputs": [
    {
     "data": {
      "text/plain": [
       "54"
      ]
     },
     "execution_count": 18,
     "metadata": {},
     "output_type": "execute_result"
    }
   ],
   "source": [
    "matrix = [[3, 12, 4, 7, 10], [6, 8, 15, 11, 4], [19, 5, 14, 32, 21], [1, 20, 2, 9, 7]]\n",
    "\n",
    "\n",
    "def minimum_Cost_pth(matrix,i=0, j=0):\n",
    "    n=len(matrix)\n",
    "    m=len(matrix[0])\n",
    "    if i== n-1 and j== m-1:\n",
    "        return matrix[i][j]\n",
    "    elif i== n-1:\n",
    "        return matrix[i][j]+minimum_Cost_pth(matrix,i,j+1)\n",
    "    elif j== m-1:\n",
    "        return matrix[i][j]+minimum_Cost_pth(matrix,i+1,j)\n",
    "    else:\n",
    "        return matrix[i][j]+min(minimum_Cost_pth(matrix,i+1,j), minimum_Cost_pth(matrix,i, j+1))\n",
    "minimum_Cost_pth(matrix)    \n",
    "\n",
    "        "
   ]
  },
  {
   "cell_type": "code",
   "execution_count": 50,
   "metadata": {},
   "outputs": [
    {
     "name": "stdout",
     "output_type": "stream",
     "text": [
      "[3, 15, 19, 26, 36]\n",
      "[9, 11, 26, 30, 30]\n",
      "[28, 14, 25, 57, 51]\n",
      "[29, 34, 16, 25, 32]\n"
     ]
    }
   ],
   "source": [
    "def minimum_cost_path(matrix):\n",
    "    n = len(matrix)\n",
    "    m = len(matrix[0])\n",
    "    \n",
    "    minimumCostMatrix = [[0 for _ in range(m)] for _ in range(n)]\n",
    "    minimumCostMatrix[0][0] = matrix[0][0]\n",
    "\n",
    "    # Initialize the first column of the cost matrix\n",
    "    for i in range(1, n):\n",
    "        minimumCostMatrix[i][0] = minimumCostMatrix[i-1][0] + matrix[i][0]\n",
    "\n",
    "    # Initialize the first row of the cost matrix\n",
    "    for j in range(1, m):\n",
    "        minimumCostMatrix[0][j] = minimumCostMatrix[0][j-1] + matrix[0][j]\n",
    "\n",
    "    # Fill the rest of the cost matrix\n",
    "    for i in range(1, n):\n",
    "        for j in range(1, m):\n",
    "            minimumCostMatrix[i][j] = matrix[i][j] + min(\n",
    "                minimumCostMatrix[i-1][j],  # Cost from above\n",
    "                minimumCostMatrix[i][j-1],  # Cost from left\n",
    "                minimumCostMatrix[i-1][j-1] # Cost from diagonal\n",
    "            )\n",
    "\n",
    "    return minimumCostMatrix\n",
    "\n",
    "# Example usage\n",
    "matrix = [[3, 12, 4, 7, 10], [6, 8, 15, 11, 4], [19, 5, 14, 32, 21], [1, 20, 2, 9, 7]]\n",
    "result = minimum_cost_path(matrix)\n",
    "\n",
    "for row in result:\n",
    "    print(row)\n"
   ]
  },
  {
   "cell_type": "markdown",
   "metadata": {},
   "source": [
    "# Top 100 DSA questions asked in MNCs "
   ]
  },
  {
   "cell_type": "markdown",
   "metadata": {},
   "source": [
    "### 1. Sliding Window\n",
    "- Q1: Find the maximum sum subarray of size k.\n",
    "Given an array of integers and a number k, find the maximum sum of a subarray of size k.\n",
    "- Q2: Longest substring without repeating characters.\n",
    "Given a string, find the length of the longest substring without repeating characters.\n",
    "- Q3: Permutation in String.\n",
    "Given two strings s1 and s2, write a function to return true if s2 contains the permutation of s1. In other words, one of the first string's permutations is the substring of the second string.\n",
    "- Q4: Minimum Window Substring.\n",
    "Given a string S and a string T, find the minimum window in S which will contain all the characters in T.\n",
    "- Q5: Longest Repeating Character Replacement.\n",
    "Given a string s that consists of only uppercase English letters, you can perform at most k operations to change any character in the string. Find the length of the longest substring containing the same letter you can get after performing the operations.\n",
    "### 2. Two Pointers\n",
    "- Q1: Two Sum II - Input array is sorted.\n",
    "Given an array of integers that is already sorted in ascending order, find two numbers such that they add up to a specific target number.\n",
    "- Q2: 3Sum.\n",
    "Given an array nums of n integers, find all uni- que triplets in the array which gives the sum of zero.\n",
    "- Q3: 3Sum Closest.\n",
    "Given an array nums of n integers and an integer target, find three integers in nums such that the sum is closest to target.\n",
    "- Q4: 4Sum.\n",
    "Given an array nums of n integers and an integer target, find all uni- que - quadruplets in the array which gives the sum of target.\n",
    "- Q5: Remove Nth Node From End of List.\n",
    "Given a linked list, remove the n-th node from the end of list and return its head.\n",
    "- Q6: Trapping Rain Water.\n",
    "Given n non-negative integers representing an elevation map where the width of each bar is 1, compute how much water it is able to trap after raining.\n",
    "- Q7: Container With Most Water.\n",
    "Given n non-negative integers a1, a2, ..., an , where each represents a point at coordinate (i, ai). n vertical lines are drawn such that the two endpoints of line i is at (i, ai) and (i, 0). Find two lines, which together with x-axis forms a container, such that the container contains the most water.\n",
    "### 3. Union Find\n",
    "- Q1: Number of Connected Components in an Undirected Graph.\n",
    "Given n nodes labeled from 0 to n - 1 and a list of undirected edges, write a function to find the number of connected components in an undirected graph.\n",
    "- Q2: Friend Circles.\n",
    "There are n students in a class. Some of them are friends, while some are not. Their friendship is transitive in nature. Given a n x n matrix M representing the friend relationship between students, return the number of friend circles among all the students.\n",
    "- Q3: Redundant Connection.\n",
    "In this problem, a tree is an undirected graph that is connected and has no cycles. You are given a graph that started as a tree with n nodes (with distinct values 1, 2, ..., n), with one additional edge added. The added edge has two different vertices chosen from 1 to n, and was not an edge that already existed. The graph is represented as an array edges of length n where edges[i] = [ai, bi] indicates that there is an edge between nodes ai and bi in the graph. Return an edge that can be removed so that the resulting graph is a tree of n nodes. If there are multiple answers, return the answer that occurs last in the input.\n",
    "- Q4: Graph Valid Tree.\n",
    "Given n nodes labeled from 0 to n-1 and a list of undirected edges (each edge is a pair of nodes), write a function to check whether these edges make up a valid tree.\n",
    "- Q5: Accounts Merge.\n",
    "Given a list of accounts where each element accounts[i] is a list of strings, where the first element accounts[i][0] is a name, and the rest of the elements are emails representing emails of the account. Now, we would like to merge these accounts. Two accounts definitely belong to the same person if there is some common email to both accounts. Note that even if two accounts have the same name, they may belong to different people as people could have the same name. A person can have any number of accounts initially, but all of their accounts definitely have the same name. After merging the accounts, return the accounts in the following format: the first element of each account is the name, and the rest of the elements are emails in sorted order. The accounts themselves can be returned in any order.\n",
    "### 4. Binary Search\n",
    "- Q1: Binary Search.\n",
    "Implement binary search on a sorted array to find the position of a target value.\n",
    "- Q2: Search Insert Position.\n",
    "Given a sorted array and a target value, return the index if the target is found. If not, return the index where it would be if it were inserted in order.\n",
    "- Q3: Search in Rotated Sorted Array.\n",
    "Suppose an array sorted in ascending order is rotated at some pivot unknown to you beforehand. You are given a target value to search. If found in the array return its index, otherwise return -1.\n",
    "- Q4: Find Minimum in Rotated Sorted Array.\n",
    "Suppose an array sorted in ascending order is rotated at some pivot unknown to you beforehand. Find the minimum element.\n",
    "- Q5: Find Peak Element.\n",
    "A peak element is an element that is strictly greater than its neighbors. Given an integer array nums, find a peak element, and return its index. If the array contains multiple peaks, return the index to any of the peaks.\n",
    "- Q6: First Bad Version.\n",
    "You are a product manager and currently leading a team to develop a new product. Unfortunately, the latest version of your product fails the - quality check. Since each version is developed based on the previous version, all the versions after a bad version are also bad. Suppose you have n versions and you want to find out the first bad one, which causes all the following ones to be bad. Implement a function to find the first bad version.\n",
    "- Q7: Median of Two Sorted Arrays.\n",
    "Given two sorted arrays nums1 and nums2 of size m and n respectively, return the median of the two sorted arrays.\n",
    "### 5. Dynamic Programming\n",
    "- Q1: Fibonacci Number.\n",
    "The Fibonacci numbers, commonly denoted F(n) form a se- quence, called the Fibonacci se- quence, such that each number is the sum of the two preceding ones, starting from 0 and 1.\n",
    "- Q2: Climbing Stairs.\n",
    "You are climbing a staircase. It takes n steps to reach the top. Each time you can either climb 1 or 2 steps. In how many distinct ways can you climb to the top?\n",
    "- Q3: Coin Change.\n",
    "You are given an integer array coins representing coins of different denominations and an integer amount representing a total amount of money. Return the fewest number of coins that you need to make up that amount. If that amount of money cannot be made up by any combination of the coins, return -1.\n",
    "- Q4: Longest Increasing Subse- quence.\n",
    "Given an integer array nums, return the length of the longest strictly increasing subse- quence.\n",
    "- Q5: Longest Common Subse- quence.\n",
    "Given two strings text1 and text2, return the length of their longest common subse- quence.\n",
    "- Q6: Word Break.\n",
    "Given a string s and a dictionary of strings wordDict, return true if s can be segmented into a space-separated se- quence of one or more dictionary words.\n",
    "- Q7: House Robber.\n",
    "You are a professional robber planning to rob houses along a street. Each house has a certain amount of money stashed, the only constraint stopping you from robbing each of them is that adjacent houses have security systems connected and it will automatically contact the police if two adjacent houses were broken into on the same night.\n",
    "- Q8: House Robber II.\n",
    "You are a professional robber planning to rob houses along a street. Each house has a certain amount of money stashed. All houses at this place are arranged in a circle. That means the first house is the neighbor of the last one. Meanwhile, adjacent houses have a security system connected, and it will automatically contact the police if two adjacent houses were broken into on the same night.\n",
    "- Q9: Maximum Subarray.\n",
    "Given an integer array nums, find the contiguous subarray (containing at least one number) which has the largest sum and return its sum.\n",
    "- Q10: Decode Ways.\n",
    "A message containing letters from A-Z can be encoded into numbers using the following mapping: 'A' -> 1, 'B' -> 2, ..., 'Z' -> 26. Given a string s containing only digits, return the number of ways to decode it.\n",
    "### 6. Linked List\n",
    "- Q1: Reverse Linked List.\n",
    "Reverse a singly linked list.\n",
    "- Q2: Merge Two Sorted Lists.\n",
    "Merge two sorted linked lists and return it as a sorted list.\n",
    "- Q3: Remove Nth Node From End of List.\n",
    "Given a linked list, remove the n-th node from the end of list and return its head.\n",
    "- Q4: Linked List Cycle.\n",
    "Given a linked list, determine if it has a cycle in it.\n",
    "- Q5: Palindrome Linked List.\n",
    "Given a singly linked list, determine if it is a palindrome.\n",
    "- Q6: Intersection of Two Linked Lists.\n",
    "Write a program to find the node at which the intersection of two singly linked lists begins.\n",
    "- Q7: Add Two Numbers.\n",
    "You are given two non-empty linked lists representing two non-negative integers. The digits are stored in reverse order, and each of their nodes contains a single digit. Add the two numbers and return the sum as a linked list.\n",
    "### 7. Trees\n",
    "- Q1: Invert Binary Tree.\n",
    "Invert a binary tree.\n",
    "- Q2: Maximum Depth of Binary Tree.\n",
    "Given a binary tree, find its maximum depth.\n",
    "- Q3: Same Tree.\n",
    "Given two binary trees, write a function to check if they are the same or not.\n",
    "- Q4: Symmetric Tree.\n",
    "Given a binary tree, check whether it is a mirror of itself.\n",
    "- Q5: Binary Tree Level Order Traversal.\n",
    "Given a binary tree, return the level order traversal of its nodes' values. (ie, from left to right, level by level).\n",
    "- Q6: Convert Sorted Array to Binary Search Tree.\n",
    "Given an array where elements are sorted in ascending order, convert it to a height balanced BST.\n",
    "- Q7: Construct Binary Tree from Preorder and Inorder Traversal.\n",
    "Given preorder and inorder traversal of a tree, construct the binary tree.\n",
    "- Q8: Serialize and Deserialize Binary Tree.\n",
    "Design an algorithm to serialize and deserialize a binary tree. There is no restriction on how your serialization/deserialization algorithm should work. You just need to ensure that a binary tree can be serialized to a string and this string can be deserialized to the original tree structure.\n",
    "### 8. Graphs\n",
    "- Q1: Clone Graph.\n",
    "Given a reference of a node in a connected undirected graph, return a deep copy (clone) of the graph.\n",
    "- Q2: Course Schedule.\n",
    "There are a total of numCourses courses you have to take, labeled from 0 to numCourses-1. Some courses may have prere- quisites, for example to take course 0 you have to first take course 1, which is expressed as a pair: [0,1]. Given the total number of courses and a list of prere- quisite pairs, is it possible for you to finish all courses?\n",
    "- Q3: Course Schedule II.\n",
    "There are a total of numCourses courses you have to take, labeled from 0 to numCourses-1. Some courses may have prere- quisites, for example to take course 0 you have to first take course 1, which is expressed as a pair: [0,1]. Given the total number of courses and a list of prere- quisite pairs, return the ordering of courses you should take to finish all courses.\n",
    "- Q4: Pacific Atlantic Water Flow.\n",
    "Given an m x n matrix of non-negative integers representing the height of each unit cell in a continent, the \"Pacific ocean\" touches the left and top edges of the matrix and the \"Atlantic ocean\" touches the right and bottom edges. Water can only flow in four directions (up, down, left, or right) from a cell to another one with height e- qual or lower. Find the list of grid coordinates where water can flow to both the Pacific and Atlantic ocean.\n",
    "- Q5: Number of Islands.\n",
    "Given a 2d grid map of '1's (land) and '0's (water), count the number of islands. An island is surrounded by water and is formed by connecting adjacent lands horizontally or vertically. You may assume all four edges of the grid are all surrounded by water.\n",
    "- Q6: Word Ladder.\n",
    "Given two words (beginWord and endWord), and a dictionary's word list, find the length of shortest transformation se- quence from beginWord to endWord, such that only one letter can be changed at a time and each transformed word must exist in the word list.\n",
    "- Q7: Minimum Height Trees.\n",
    "For an undirected graph with tree characteristics, we can choose any node as the root. The result graph is then a rooted tree. Among all possible rooted trees, those with minimum height are called minimum height trees (MHTs). Given such a graph, write a function to find all the MHTs and return a list of their root labels.\n",
    "### 9. Backtracking\n",
    "- Q1: Subsets.\n",
    "Given a set of distinct integers, nums, return all possible subsets (the power set).\n",
    "- Q2: Subsets II.\n",
    "Given a collection of integers that might contain duplicates, nums, return all possible subsets.\n",
    "- Q3: Permutations.\n",
    "Given a collection of distinct integers, return all possible permutations.\n",
    "- Q4: Permutations II.\n",
    "Given a collection of numbers, nums, that might contain duplicates, return all possible uni- que permutations.\n",
    "- Q5: Combination Sum.\n",
    "Given an array of distinct integers candidates and a target integer target, return a list of all uni- que combinations of candidates where the chosen numbers sum to target.\n",
    "- Q6: Combination Sum II.\n",
    "Given a collection of candidate numbers (candidates) and a target number (target), find all uni- que combinations in candidates where the candidate numbers sum to target.\n",
    "- Q7: Word Search.\n",
    "Given an m x n grid of characters board and a string word, return true if word exists in the grid.\n",
    "- Q8: Palindrome Partitioning.\n",
    "Given a string s, partition s such that every substring of the partition is a palindrome. Return all possible palindrome partitioning of s.\n",
    "### 10. Greedy\n",
    "- Q1: Assign Cookies.\n",
    "Assume you are an awesome parent and want to give your children some cookies. But, you should give each child at most one cookie. Each child i has a greed factor g[i], which is the minimum size of a cookie that the child will be content with; and each cookie j has a size s[j]. If s[j] >= g[i], you can assign the cookie j to the child i, and the child i will be content. Your goal is to maximize the number of your content children and output the maximum number.\n",
    "- Q2: Gas Station.\n",
    "There are n gas stations along a circular route, where the amount of gas at the i-th station is gas[i]. You have a car with an unlimited gas tank and it costs cost[i] of gas to travel from the i-th station to its next (i+1)-th station. You begin the journey with an empty tank at one of the gas stations. Return the starting gas station's index if you can travel around the circuit once in the clockwise direction, otherwise return -1.\n",
    "- Q3: Candy.\n",
    "There are n children standing in a line. Each child is assigned a rating value given in the integer array ratings. You are giving candies to these children subjected to the following re- quirements:\n",
    "Each child must have at least one candy.\n",
    "Children with a higher rating get more candies than their neighbors.\n",
    "Return the minimum number of candies you need to have to distribute the candies to the children.\n",
    "- Q4: Jump Game.\n",
    "Given an array of non-negative integers nums, you are initially positioned at the first index of the array. Each element in the array represents your maximum jump length at that position. Determine if you are able to reach the last index.\n",
    "- Q5: Jump Game II.\n",
    "Given an array of non-negative integers nums, you are initially positioned at the first index of the array. Each element in the array represents your maximum jump length at that position. Your goal is to reach the last index in the minimum number of jumps.\n",
    "- Q6: Merge Intervals.\n",
    "Given a collection of intervals, merge all overlapping intervals.\n",
    "- Q7: Non-overlapping Intervals.\n",
    "Given a collection of intervals, find the minimum number of intervals you need to remove to make the rest of the intervals non-overlapping.\n",
    "### 11. Heap\n",
    "- Q1: Kth Largest Element in an Array.\n",
    "Find the k-th largest element in an unsorted array.\n",
    "- Q2: Top K Fre- quent Elements.\n",
    "Given a non-empty array of integers, return the k most fre- quent elements.\n",
    "- Q3: Find Median from Data Stream.\n",
    "The median is the middle value in an ordered integer list. If the size of the list is even, there is no middle value and the median is the mean of the two middle values. Implement a data structure that supports the following two operations:\n",
    "void addNum(int num) - Add a integer number from the data stream to the data structure.\n",
    "double findMedian() - Return the median of all elements so far.\n",
    "- Q4: Merge k Sorted Lists.\n",
    "Merge k sorted linked lists and return it as one sorted list. Analyze and describe its complexity.\n",
    "- Q5: Sliding Window Maximum.\n",
    "Given an array nums and a sliding window size k, find the maximum value in each sliding window.\n",
    "### 12. Bit Manipulation\n",
    "- Q1: Single Number.\n",
    "Given a non-empty array of integers, every element appears twice except for one. Find that single one.\n",
    "- Q2: Single Number II.\n",
    "Given a non-empty array of integers, every element appears three times except for one, which appears exactly once. Find that single one.\n",
    "- Q3: Missing Number.\n",
    "Given an array containing n distinct numbers taken from 0, 1, 2, ..., n, find the one that is missing from the array.\n",
    "- Q4: Sum of Two Integers.\n",
    "Calculate the sum of two integers a and b, but you are not allowed to use the operator + and -.\n",
    "- Q5: Counting Bits.\n",
    "Given a non negative integer number num, for every numbers i in the range 0 ≤ i ≤ num calculate the number of 1's in their binary representation and return them as an array.\n",
    "### 13. Stack\n",
    "- Q1: Valid Parentheses.\n",
    "Given a string s containing just the characters '(', ')', '{', '}', '[' and ']', determine if the input string is valid.\n",
    "- Q2: Min Stack.\n",
    "Design a stack that supports push, pop, top, and retrieving the minimum element in constant time.\n",
    "- Q3: Evaluate Reverse Polish Notation.\n",
    "Evaluate the value of an arithmetic expression in Reverse Polish Notation.\n",
    "- Q4: Largest Rectangle in Histogram.\n",
    "Given n non-negative integers representing the histogram's bar height where the width of each bar is 1, find the area of largest rectangle in the histogram.\n",
    "- Q5: Basic Calculator II.\n",
    "Implement a basic calculator to evaluate a simple expression string.\n",
    "- Q6: Decode String.\n",
    "Given an encoded string, return its decoded string.\n",
    "### 14. Trie\n",
    "- Q1: Implement Trie (Prefix Tree).\n",
    "Implement a trie with insert, search, and startsWith methods.\n",
    "- Q2: Add and Search Word - Data structure design.\n",
    "Design a data structure that supports the following two operations:\n",
    "void addWord(word)\n",
    "bool search(word)\n",
    "- Q3: Word Search II.\n",
    "Given a 2D board and a list of words from the dictionary, find all words in the board.\n",
    "### 15. String\n",
    "- Q1: Longest Palindromic Substring.\n",
    "Given a string s, return the longest palindromic substring in s.\n",
    "- Q2: Longest Substring Without Repeating Characters.\n",
    "Given a string s, find the length of the longest substring without repeating characters.\n",
    "- Q3: String to Integer (atoi).\n",
    "Implement the myAtoi(string s) function, which converts a string to an integer.\n",
    "- Q4: Implement strStr().\n",
    "Implement strStr(). Return the index of the first occurrence of needle in haystack, or -1 if needle is not part of haystack.\n",
    "- Q5: Group Anagrams.\n",
    "Given an array of strings, group anagrams together.\n",
    "### 16. Matrix\n",
    "- Q1: Set Matrix Zeroes.\n",
    "Given an m x n matrix. If an element is 0, set its entire row and column to 0. Do it in-place.\n",
    "- Q2: Spiral Matrix.\n",
    "Given an m x n matrix, return all elements of the matrix in spiral order.\n",
    "- Q3: Rotate Image.\n",
    "You are given an n x n 2D matrix representing an image, rotate the image by 90 degrees (clockwise).\n",
    "- Q4: Word Search.\n",
    "Given an m x n grid of characters board and a string word, return true if word exists in the grid.\n",
    "### 17. Math\n",
    "- Q1: S- qrt(x).\n",
    "Given a non-negative integer x, compute and return the s- quare root of x.\n",
    "- Q2: Pow(x, n).\n",
    "Implement pow(x, n), which calculates x raised to the power n.\n",
    "- Q3: Plus One.\n",
    "Given a non-empty array of digits representing a non-negative integer, increment one to the integer.\n",
    "- Q4: Multiply Strings.\n",
    "Given two non-negative integers num1 and num2 represented as strings, return the product of num1 and num2, also represented as a string.\n",
    "- Q5: Integer to Roman.\n",
    "Given an integer, convert it to a roman numeral.\n",
    "These - questions cover a wide range of topics and are fre- quently asked in coding interviews at major tech companies.\n",
    "\n",
    "\n",
    "### 18. Dynamic Programming\n",
    "- Q1: Climbing Stairs.\n",
    "You are climbing a staircase. It takes n steps to reach the top. Each time you can either climb 1 or 2 steps. In how many distinct ways can you climb to the top?\n",
    "- Q2: Coin Change.\n",
    "You are given coins of different denominations and a total amount of money. Write a function to compute the fewest number of coins that you need to make up that amount.\n",
    "- Q3: Longest Increasing Subse- quence.\n",
    "Given an integer array nums, return the length of the longest strictly increasing subse- quence.\n",
    "- Q4: Longest Common Subse- quence.\n",
    "Given two strings text1 and text2, return the length of their longest common subse- quence.\n",
    "- Q5: Word Break.\n",
    "Given a string s and a dictionary of strings wordDict, return true if s can be segmented into a space-separated se- quence of one or more dictionary words.\n",
    "- Q6: Maximum Subarray.\n",
    "Given an integer array nums, find the contiguous subarray (containing at least one number) which has the largest sum and return its sum.\n",
    "- Q7: Edit Distance.\n",
    "Given two strings word1 and word2, return the minimum number of operations required to convert word1 to word2.\n",
    "- Q8: House Robber.\n",
    "You are a professional robber planning to rob houses along a street. Each house has a certain amount of money stashed, the only constraint stopping you from robbing each of them is that adjacent houses have security systems connected, and it will automatically contact the police if two adjacent houses were broken into on the same night.\n",
    "### 19. Recursion\n",
    "- Q1: Reverse String.\n",
    "Write a function that reverses a string. The input string is given as an array of characters s.\n",
    "- Q2: Swap Nodes in Pairs.\n",
    "Given a linked list, swap every two adjacent nodes and return its head.\n",
    "- Q3: Pascal's Triangle.\n",
    "Given an integer numRows, return the first numRows of Pascal's triangle.\n",
    "- Q4: Generate Parentheses.\n",
    "Given n pairs of parentheses, write a function to generate all combinations of well-formed parentheses.\n",
    "- Q5: Fibonacci Number.\n",
    "The Fibonacci numbers, commonly denoted F(n) form a se- quence, called the Fibonacci se- quence, such that each number is the sum of the two preceding ones, starting from 0 and 1.\n",
    "### 20. Design\n",
    "- Q1: LRU Cache.\n",
    "Design a data structure that follows the constraints of a Least Recently Used (LRU) cache.\n",
    "- Q2: Design Twitter.\n",
    "Design a simplified version of Twitter where users can post tweets, follow/unfollow another user, and is able to see the 10 most recent tweets in the user’s news feed.\n",
    "- Q3: Serialize and Deserialize Binary Tree.\n",
    "Design an algorithm to serialize and deserialize a binary tree. There is no restriction on how your serialization/deserialization algorithm should work. You just need to ensure that a binary tree can be serialized to a string and this string can be deserialized to the original tree structure.\n",
    "- Q4: Design Tic-Tac-Toe.\n",
    "Design a Tic-tac-toe game that is played between two players on a n x n grid.\n",
    "### 21. Geometry\n",
    "- Q1: Number of Boomerangs.\n",
    "Given n points in the plane that are all pairwise distinct, a boomerang is a tuple of points (i, j, k) such that the distance between i and j e- quals the distance between i and k (the order of the tuple matters). Find the number of boomerangs.\n",
    "- Q2: Max Points on a Line.\n",
    "Given n points on a 2D plane, find the maximum number of points that lie on the same straight line.\n",
    "### 22. Simulation\n",
    "- Q1: Game of Life.\n",
    "According to Wikipedia's article: \"The Game of Life, also known simply as Life, is a cellular automaton devised by the British mathematician John Horton Conway in 1970.\"\n",
    "- Q2: Spiral Matrix.\n",
    "Given an m x n matrix, return all elements of the matrix in spiral order.\n",
    "### 23. Random\n",
    "- Q1: Shuffle an Array.\n",
    "Shuffle a set of numbers without duplicates.\n",
    "- Q2: Random Pick with Weight.\n",
    "You are given an array of positive integers w where w[i] describes the weight of index i (0-indexed). Write a function pickIndex which randomly picks an index in proportion to its weight.\n",
    "These - questions cover a broad range of topics and can be used to help prepare for technical interviews at major tech companies.\n",
    "\n",
    "continue\n",
    "ChatGPT\n",
    "### 24. Greedy\n",
    "- Q1: Jump Game.\n",
    "Given an array of non-negative integers nums, you are initially positioned at the first index of the array. Each element in the array represents your maximum jump length at that position. Determine if you are able to reach the last index.\n",
    "- Q2: Jump Game II.\n",
    "Given an array of non-negative integers nums, you are initially positioned at the first index of the array. Each element in the array represents your maximum jump length at that position. Your goal is to reach the last index in the minimum number of jumps.\n",
    "- Q3: Gas Station.\n",
    "There are n gas stations along a circular route, where the amount of gas at station i is gas[i]. You have a car with an unlimited gas tank and it costs cost[i] of gas to travel from station i to its next station. Given two integer arrays gas and cost, return the starting gas station's index if you can travel around the circuit once in the clockwise direction, otherwise return -1.\n",
    "- Q4: Candy.\n",
    "There are N children standing in a line. Each child is assigned a rating value. You are giving candies to these children subjected to the following re- quirements:\n",
    "Each child must have at least one candy.\n",
    "Children with a higher rating get more candies than their neighbors.\n",
    "What is the minimum number of candies you need to have to distribute the candies to the children?\n",
    "- Q5: Minimum Number of Arrows to Burst Balloons.\n",
    "There are some spherical balloons spread in two-dimensional space. For each balloon, provided input is the start and end coordinates of the horizontal diameter. Since it's horizontal, y-coordinates don't matter and hence the x-coordinates of start and end of the diameter suffice. The goal is to burst all the balloons using the minimum number of arrows.\n",
    "### 25. Sliding Window\n",
    "- Q1: Minimum Window Substring.\n",
    "Given two strings s and t, return the minimum window in s which will contain all the characters in t.\n",
    "- Q2: Longest Substring with At Least K Repeating Characters.\n",
    "Given a string s and an integer k, return the length of the longest substring of s such that the fre- quency of each character in this substring is greater than or e- qual to k.\n",
    "- Q3: Permutation in String.\n",
    "Given two strings s1 and s2, write a function to return true if s2 contains the permutation of s1.\n",
    "- Q4: Find All Anagrams in a String.\n",
    "Given a string s and a non-empty string p, find all the start indices of p's anagrams in s.\n",
    "- Q5: Longest Substring with At Most K Distinct Characters.\n",
    "Given a string s and an integer k, return the length of the longest substring that contains at most k distinct characters.\n",
    "### 26. Graphs\n",
    "- Q1: Number of Islands.\n",
    "Given a 2D grid map of '1's (land) and '0's (water), count the number of islands.\n",
    "- Q2: Clone Graph.\n",
    "Given a reference of a node in a connected undirected graph, return a deep copy (clone) of the graph.\n",
    "- Q3: Course Schedule.\n",
    "There are a total of numCourses courses you have to take, labeled from 0 to numCourses-1. Some courses may have prere- quisites, given as a list of pairs courses[i, j] which indicates that you must take course j before course i.\n",
    "- Q4: Pacific Atlantic Water Flow.\n",
    "Given an m x n matrix of non-negative integers representing the height of each unit cell in a continent, the \"Pacific ocean\" touches the left and top edges of the matrix and the \"Atlantic ocean\" touches the right and bottom edges. Find the list of grid coordinates where water can flow to both the Pacific and Atlantic ocean.\n",
    "- Q5: Alien Dictionary.\n",
    "There is a new alien language which uses the latin alphabet. However, the order among letters are unknown to you. You receive a list of non-empty words from the dictionary, where words are sorted lexicographically by the rules of this new language. Derive the order of letters in this language.\n",
    "### 27. Backtracking\n",
    "- Q1: Letter Combinations of a Phone Number.\n",
    "Given a string containing digits from 2-9 inclusive, return all possible letter combinations that the number could represent.\n",
    "- Q2: Generate Parentheses.\n",
    "Given n pairs of parentheses, write a function to generate all combinations of well-formed parentheses.\n",
    "- Q3: Word Search.\n",
    "Given an m x n grid of characters board and a string word, return true if word exists in the grid.\n",
    "- Q4: N-- Queens.\n",
    "The n-- queens puzzle is the problem of placing n - queens on an n x n chessboard such that no two - queens attack each other.\n",
    "- Q5: Combination Sum.\n",
    "Given an array of distinct integers candidates and a target integer target, return a list of all uni- que combinations of candidates where the chosen numbers sum to target.\n",
    "### 28. Topological Sort\n",
    "- Q1: Course Schedule.\n",
    "There are a total of numCourses courses you have to take, labeled from 0 to numCourses-1. Some courses may have prere- quisites, given as a list of pairs courses[i, j] which indicates that you must take course j before course i.\n",
    "- Q2: Alien Dictionary.\n",
    "There is a new alien language which uses the latin alphabet. However, the order among letters are unknown to you. You receive a list of non-empty words from the dictionary, where words are sorted lexicographically by the rules of this new language. Derive the order of letters in this language.\n",
    "- Q3: Se- quence Reconstruction.\n",
    "Check whether the original se- quence org can be uni- quely reconstructed from the se- quences in se- qs.\n",
    "### 29. Two Pointers\n",
    "- Q1: Two Sum II - Input array is sorted.\n",
    "Given an array of integers numbers that is already sorted in ascending order, find two numbers such that they add up to a specific target number.\n",
    "- Q2: 3Sum.\n",
    "Given an array nums of n integers, are there elements a, b, c in nums such that a + b + c = 0?\n",
    "- Q3: Container With Most Water.\n",
    "Given n non-negative integers a1, a2, ..., an, where each represents a point at coordinate (i, ai). n vertical lines are drawn such that the two endpoints of the line i is at (i, ai) and (i, 0). Find two lines, which together with the x-axis forms a container, such that the container contains the most water.\n",
    "- Q4: Remove Nth Node From End of List.\n",
    "Given a linked list, remove the n-th node from the end of list and return its head.\n",
    "- Q5: Valid Palindrome.\n",
    "Given a string s, determine if it is a palindrome, considering only alphanumeric characters and ignoring cases.\n",
    "### 30. Union Find\n",
    "- Q1: Number of Connected Components in an Undirected Graph.\n",
    "Given n nodes labeled from 0 to n-1 and a list of undirected edges, write a function to find the number of connected components in an undirected graph.\n",
    "- Q2: Friend Circles.\n",
    "There are N students in a class. Some of them are friends, while some are not. Their friendship is transitive in nature. Find the number of friend circles among all the students.\n",
    "- Q3: Redundant Connection.\n",
    "In this problem, a tree is an undirected graph that is connected and has no cycles. The given input is a graph that started as a tree with N nodes (with distinct values 1, 2, ..., N), with one additional edge added. The added edge has two different vertices chosen from 1 to N, and was not an edge that already existed. The graph is given as a 2D-array of edges. Return an edge that can be removed so that the resulting graph is a tree of N nodes.\n",
    "These questions should provide a comprehensive list to help with preparation for technical interviews at major tech companies."
   ]
  },
  {
   "cell_type": "code",
   "execution_count": null,
   "metadata": {},
   "outputs": [],
   "source": []
  },
  {
   "cell_type": "code",
   "execution_count": null,
   "metadata": {},
   "outputs": [],
   "source": []
  },
  {
   "cell_type": "code",
   "execution_count": null,
   "metadata": {},
   "outputs": [],
   "source": []
  }
 ],
 "metadata": {
  "kernelspec": {
   "display_name": "tensorflow",
   "language": "python",
   "name": "python3"
  },
  "language_info": {
   "codemirror_mode": {
    "name": "ipython",
    "version": 3
   },
   "file_extension": ".py",
   "mimetype": "text/x-python",
   "name": "python",
   "nbconvert_exporter": "python",
   "pygments_lexer": "ipython3",
   "version": "3.11.9"
  },
  "orig_nbformat": 4
 },
 "nbformat": 4,
 "nbformat_minor": 2
}
