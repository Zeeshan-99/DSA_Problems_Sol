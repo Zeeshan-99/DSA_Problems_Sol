{
 "cells": [
  {
   "cell_type": "code",
   "execution_count": 29,
   "metadata": {},
   "outputs": [],
   "source": [
    "#Q1: Write a Python Program to Check if a String is a Palindrome or Not?\n",
    "# Q2: Reversed number in Python.\n",
    "# Q3: Reversed string in Python.\n",
    "# Q4: How do you calculate the number of vowels and consonant peresent in a strings.\n",
    "#Q5: Binary search tree algorithm.\n",
    "#Q6:-Binary tree and Binary search tree algorithm.\n",
    "#Q7: Recursion programming.\n",
    "#Q8. All/ Bubble sort algorithm  (shorting list array: numeric & string).\n",
    "#Q9: Counts the alphabets using hashtable.\n",
    "#Question given by the Rishabh.\n",
    "#Q10: Write a Python program to find the maximum and minimum element in a list, using,recursion, binary, heap, stack,queue,linked,tree\n",
    "#Q11: Write a python programm that Transpose a matrix.\n",
    "#Q12: Write a python program that flatten a nested list.\n",
    "#Q13: Sum of All Elements in a Nested List\n",
    "#Q14: Find Maximum Value in a Nested List\n",
    "#Q15: Flatten a Nested Dictionary\n",
    "#Q16: Reverse a Nested List\n",
    "#Q17: Filter Nested List by a Condition\n",
    "\n",
    "#####-----TOP 30 Python programming often asked in mid rage company's interview------\n",
    "# 1. Reverse a String\n",
    "# Problem: Write a Python function to reverse a string.\n",
    "# Example Input: \"hello\"\n",
    "# Example Output: \"olleh\"\n",
    "# 2. Check if a String is a Palindrome\n",
    "# Problem: Write a function that checks if a given string is a palindrome (reads the same forward and backward).\n",
    "# Example Input: \"racecar\"\n",
    "# Example Output: True\n",
    "# 3. Find the Largest Element in a List\n",
    "# Problem: Write a Python function to find the largest number in a list.\n",
    "# Example Input: [3, 5, 7, 2, 8]\n",
    "# Example Output: 8\n",
    "# 4. FizzBuzz Problem\n",
    "# Problem: Write a function that prints the numbers from 1 to 100, but for multiples of three, print \"Fizz\" instead of the number, and for multiples of five, print \"Buzz\". For numbers which are multiples of both three and five, print \"FizzBuzz\".\n",
    "# Example Output: 1, 2, Fizz, 4, Buzz, Fizz, 7, 8, Fizz, Buzz, 11, Fizz, 13, 14, FizzBuzz, ...\n",
    "# 5. Remove Duplicates from a List\n",
    "# Problem: Write a function that removes duplicates from a list and returns the unique elements.\n",
    "# Example Input: [1, 2, 2, 3, 4, 4, 5]\n",
    "# Example Output: [1, 2, 3, 4, 5]\n",
    "# 6. Find the Missing Number in an Array\n",
    "# Problem: Given a list of n-1 integers in the range from 1 to n, find the missing number.\n",
    "# Example Input: [1, 2, 4, 6, 3, 7, 8]\n",
    "# Example Output: 5\n",
    "# 7. Check for Anagrams\n",
    "# Problem: Write a Python function to check if two strings are anagrams.\n",
    "# Example Input: \"listen\", \"silent\"\n",
    "# Example Output: True\n",
    "# 8. Flatten a Nested List\n",
    "# Problem: Write a function to flatten a nested list structure into a single list.\n",
    "# Example Input: [1, [2, [3, 4], 5], 6]\n",
    "# Example Output: [1, 2, 3, 4, 5, 6]\n",
    "# 9. Find the First Non-Repeated Character in a String\n",
    "# Problem: Write a function to find the first non-repeating character in a string.\n",
    "# Example Input: \"swiss\"\n",
    "# Example Output: 'w'\n",
    "# 10. Implement a Queue Using Two Stacks\n",
    "# Problem: Implement a queue using two stacks.\n",
    "# Operations: enqueue, dequeue\n",
    "# Example:\n",
    "# enqueue(1), enqueue(2), dequeue() should return 1.\n",
    "# 11. Count the Number of Vowels in a String\n",
    "# Problem: Write a Python function to count the number of vowels in a string.\n",
    "# Example Input: \"hello\"\n",
    "# Example Output: 2\n",
    "# 12. Generate All Permutations of a String\n",
    "# Problem: Write a function to generate all permutations of a string.\n",
    "# Example Input: \"abc\"\n",
    "# Example Output: ['abc', 'acb', 'bac', 'bca', 'cab', 'cba']\n",
    "# 13. Find the Intersection of Two Lists\n",
    "# Problem: Write a Python function to find the intersection of two lists.\n",
    "# Example Input: [1, 2, 3, 4], [2, 4, 6, 8]\n",
    "# Example Output: [2, 4]\n",
    "# 14. Implement a Binary Search Algorithm\n",
    "# Problem: Write a Python function to perform binary search on a sorted list.\n",
    "# Example Input: [1, 2, 3, 4, 5, 6, 7], target 4\n",
    "# Example Output: 3 (index of 4 in the list)\n",
    "# 15. Merge Two Sorted Lists\n",
    "# Problem: Write a Python function to merge two sorted lists into one sorted list.\n",
    "# Example Input: [1, 3, 5], [2, 4, 6]\n",
    "# Example Output: [1, 2, 3, 4, 5, 6]\n",
    "# 16. Rotate a Matrix\n",
    "# Problem: Write a function to rotate a given n x n matrix 90 degrees clockwise.\n",
    "# Example Input:\n",
    "# csharp\n",
    "# Copy code\n",
    "# [\n",
    "#   [1, 2, 3],\n",
    "#   [4, 5, 6],\n",
    "#   [7, 8, 9]\n",
    "# ]\n",
    "# Example Output:\n",
    "# csharp\n",
    "# Copy code\n",
    "# [\n",
    "#   [7, 4, 1],\n",
    "#   [8, 5, 2],\n",
    "#   [9, 6, 3]\n",
    "# ]\n",
    "# 17. Find the Longest Common Prefix\n",
    "# Problem: Write a Python function to find the longest common prefix among a list of strings.\n",
    "# Example Input: [\"flower\", \"flow\", \"flight\"]\n",
    "# Example Output: \"fl\"\n",
    "# 18. Check if a Linked List is a Palindrome\n",
    "# Problem: Given the head of a singly linked list, write a function to check if the list is a palindrome.\n",
    "# Example Input: [1, 2, 3, 2, 1]\n",
    "# Example Output: True\n",
    "# 19. Merge Intervals\n",
    "# Problem: Write a function to merge all overlapping intervals in a list of intervals.\n",
    "# Example Input: [[1, 3], [2, 6], [8, 10], [15, 18]]\n",
    "# Example Output: [[1, 6], [8, 10], [15, 18]]\n",
    "# 20. Find the Majority Element\n",
    "# Problem: Write a Python function to find the majority element in a list, which is an element that appears more than half the time.\n",
    "# Example Input: [3, 3, 4, 2, 4, 4, 2, 4, 4]\n",
    "# Example Output: 4\n",
    "# 21. Count and Say\n",
    "# Problem: Write a Python function to generate the nth term of the \"count-and-say\" sequence.\n",
    "# Example Input: n = 4\n",
    "# Example Output: \"1211\" (The sequence starts with \"1\", then \"11\", \"21\", \"1211\", ...)\n",
    "# 22. Find the kth Largest Element in an Array\n",
    "# Problem: Write a Python function to find the kth largest element in an unsorted array.\n",
    "# Example Input: [3, 2, 1, 5, 6, 4], k = 2\n",
    "# Example Output: 5\n",
    "# 23. Valid Parentheses\n",
    "# Problem: Write a Python function to check if a given string containing just the characters '(', ')', '{', '}', '[' and ']' is valid.\n",
    "# Example Input: \"()[]{}\"\n",
    "# Example Output: True\n",
    "# 24. Climbing Stairs\n",
    "# Problem: Write a function to calculate the number of distinct ways you can climb a staircase with n steps, where each time you can either climb 1 or 2 steps.\n",
    "# Example Input: n = 3\n",
    "# Example Output: 3 (ways: 1+1+1, 1+2, 2+1)\n",
    "# 25. Find All Subsets of a Set\n",
    "# Problem: Write a Python function to find all subsets of a given set of numbers.\n",
    "# Example Input: [1, 2, 3]\n",
    "# Example Output: [[], [1], [2], [3], [1, 2], [1, 3], [2, 3], [1, 2, 3]]\n",
    "# 26. Zigzag Conversion\n",
    "# Problem: Write a Python function to rearrange a given string in a zigzag pattern on a given number of rows.\n",
    "# Example Input: \"PAYPALISHIRING\", numRows = 3\n",
    "# Example Output: \"PAHNAPLSIIGYIR\"\n",
    "# 27. Container with Most Water\n",
    "# Problem: Write a Python function to find two lines from a list of heights that together with the x-axis form a container, which would hold the most water.\n",
    "# Example Input: [1,8,6,2,5,4,8,3,7]\n",
    "# Example Output: 49\n",
    "# 28. Maximum Subarray Sum\n",
    "# Problem: Write a Python function to find the contiguous subarray within a one-dimensional array of numbers which has the largest sum.\n",
    "# Example Input: [-2,1,-3,4,-1,2,1,-5,4]\n",
    "# Example Output: 6 (subarray: [4,-1,2,1])\n",
    "# 29. Product of Array Except Self\n",
    "# Problem: Write a Python function to return an array output such that output[i] is equal to the product of all the elements of the input array except the element at index i.\n",
    "# Example Input: [1,2,3,4]\n",
    "# Example Output: [24,12,8,6]\n",
    "# 30. Find the Missing Number in a Sequence\n",
    "# Problem: Given an array containing n distinct numbers taken from 0, 1, 2, ..., n, write a Python function to find the one that is missing from the array.\n",
    "# Example Input: [3, 0, 1]\n",
    "# Example Output: 2"
   ]
  },
  {
   "cell_type": "code",
   "execution_count": 2,
   "metadata": {},
   "outputs": [
    {
     "name": "stdout",
     "output_type": "stream",
     "text": [
      "The string is a palindrome\n"
     ]
    }
   ],
   "source": [
    "# Q1:Write a Python Program to Check if a String is a Palindrome or Not\n",
    "\n",
    "string=input(\"Enter string:\")\n",
    "if(string==string[::-1]):\n",
    "    print(\"The string is a palindrome\")\n",
    "else:\n",
    "    print(\"The string isn't a palindrome\")\n"
   ]
  },
  {
   "cell_type": "code",
   "execution_count": 5,
   "metadata": {},
   "outputs": [
    {
     "name": "stdout",
     "output_type": "stream",
     "text": [
      "Reversed order : 456521\n"
     ]
    }
   ],
   "source": [
    "# Q2: Reversed number in Python\n",
    "num= 125654\n",
    "rev_num=0\n",
    "while (num>0):\n",
    "    reminder = num%10\n",
    "    rev_num = (rev_num*10)+reminder\n",
    "    num=num//10\n",
    "print(\"Reversed order :\", rev_num)\n",
    "###------- reveresed function\n",
    "def rev_numb(numb):\n",
    "    rev_numb=0\n",
    "    while (numb>0):\n",
    "        reminder= numb%10\n",
    "        rev_numb= rev_numb*10+reminder\n",
    "        numb= numb//10\n",
    "    return rev_numb    \n",
    "rev_numb(567897)  "
   ]
  },
  {
   "cell_type": "code",
   "execution_count": 92,
   "metadata": {},
   "outputs": [
    {
     "data": {
      "text/plain": [
       "'nahseez'"
      ]
     },
     "execution_count": 92,
     "metadata": {},
     "output_type": "execute_result"
    }
   ],
   "source": [
    "# Q3: Reversed string in Python\n",
    "def rev_str(str):\n",
    "    n= len(str)\n",
    "    rev_string=''\n",
    "    for i in range(n):\n",
    "        rev_string=rev_string+(str[(n-1)-i])\n",
    "    return rev_string  \n",
    "        \n",
    "str='zeeshan'        \n",
    "rev_str(str)   \n",
    "####---- func::::::::\n",
    "# def revers_func(str):\n",
    "#     rev_str=''\n",
    "#     for i in str:\n",
    "#         rev_str=i+rev_str\n",
    "#     return rev_str\n",
    "# revers_func(\"ZEESHAN\")  \n",
    "\n",
    " "
   ]
  },
  {
   "cell_type": "code",
   "execution_count": 23,
   "metadata": {},
   "outputs": [
    {
     "name": "stdout",
     "output_type": "stream",
     "text": [
      "Total number of vowels persent in string : 19\n",
      "Total number of consonant persent in string : 44\n"
     ]
    }
   ],
   "source": [
    "# Q4: How do you calculate the number of vowels and consonant peresent in a string\n",
    "# vowels=['a','e','i','o','u']\n",
    "\n",
    "# vowels_cnt=0\n",
    "# consonant_cnt =0\n",
    "\n",
    "# strn=\"I am your best friend. Why don't you consider me as your friend\"\n",
    "\n",
    "# for i in strn.lower():\n",
    "#     if i in vowels:\n",
    "#         vowels_cnt=vowels_cnt+1\n",
    "#     else:\n",
    "#         consonant_cnt= consonant_cnt+1\n",
    "\n",
    "# print('Total number of vowels persent in string :', vowels_cnt)\n",
    "# print('Total number of consonant persent in string :', consonant_cnt)\n",
    "######----------------------------------------------------\n",
    "\n",
    "def counts_alpha(strn):\n",
    "    vowels=['a','e','i','o','u']\n",
    "    vowels_cnt=0\n",
    "    consonant_cnt =0\n",
    "    \n",
    "    for i in strn.lower():\n",
    "        if i in vowels:\n",
    "            vowels_cnt+=1\n",
    "        else:\n",
    "            consonant_cnt+=1\n",
    "    return (f\"vowels counts: {vowels_cnt}, consonant counts:{consonant_cnt}\")\n",
    "\n",
    "strn=\"I am your best friend. Why don't you consider me as your friend\"\n",
    "counts_alpha(strn)\n",
    "        "
   ]
  },
  {
   "cell_type": "markdown",
   "metadata": {},
   "source": [
    "# All searching algorithm"
   ]
  },
  {
   "cell_type": "code",
   "execution_count": 122,
   "metadata": {},
   "outputs": [
    {
     "data": {
      "text/plain": [
       "-1"
      ]
     },
     "execution_count": 122,
     "metadata": {},
     "output_type": "execute_result"
    }
   ],
   "source": [
    "#---------------------------------------------------\n",
    "### Q: Linear sear method\n",
    "# def linear_search(arr, target):\n",
    "#     for index, element in enumerate(arr):\n",
    "#         if element == target:\n",
    "#             return index\n",
    "#     return -1\n",
    "        \n",
    "# arr=[4, 7, 8, 12, 45, 99, 102, 702, 10987, 5666]\n",
    "# n=99\n",
    "# linear_search(arr,n)\n",
    "\n",
    "# def linear_search(arr,target):\n",
    "#     for i in enumerate(arr):\n",
    "#         if i[1] == target:\n",
    "#             return i[0]\n",
    "# arr=[4, 7, 8, 12, 45, 99, 102, 702, 10987, 5666]\n",
    "# n=99\n",
    "# linear_search(arr,n)        \n",
    "###---------------------------------------------------\n",
    "# Q5: Binary search algorithm\n",
    "def binary_search(arr, target):\n",
    "    start_index=0\n",
    "    end_index= len(arr)\n",
    "    mid_index= 0\n",
    "    \n",
    "    while start_index <= end_index:\n",
    "        mid_index=(start_index + end_index)//2\n",
    "        if arr[mid_index] == target:\n",
    "            return mid_index\n",
    "        elif arr[mid_index] < target:\n",
    "            start_index = mid_index +1\n",
    "        else:\n",
    "            end_index = mid_index -1\n",
    "    return -1\n",
    "\n",
    "arr=[4, 7, 8, 12, 45, 99, 102, 702, 10987, 5666]\n",
    "n=5666\n",
    "binary_search(arr,n)"
   ]
  },
  {
   "cell_type": "code",
   "execution_count": 28,
   "metadata": {},
   "outputs": [
    {
     "name": "stdout",
     "output_type": "stream",
     "text": [
      "USA is in the list True\n",
      "Sweeden is in the list False\n"
     ]
    }
   ],
   "source": [
    "#Q6:-Binary tree and Binary search tree algorithm\n",
    "\n",
    "class BinarySearchTreeNode:\n",
    "    def __init__(self, data):\n",
    "        self.data = data\n",
    "        self.left = None\n",
    "        self.right = None\n",
    "    \n",
    "    def add_child(self, data):\n",
    "        if data == self.data:\n",
    "            return\n",
    "        if data <self.data:\n",
    "            # add data in the left\n",
    "            if self.left:\n",
    "                self.left.add_child(data) \n",
    "            else:\n",
    "                self.left = BinarySearchTreeNode(data)\n",
    "        else:\n",
    "            if self.right:\n",
    "                self.right.add_child(data)\n",
    "            else:\n",
    "                self.right = BinarySearchTreeNode(data)\n",
    "                \n",
    "    def in_order_traversal(self):\n",
    "        elements=[]\n",
    "        # visit left tree first\n",
    "        if self.left:\n",
    "            elements+= self.left.in_order_traversal()\n",
    "        # visit base node\n",
    "        elements.append(self.data)\n",
    "        # visit right tree\n",
    "        if self.right:\n",
    "            elements += self.right.in_order_traversal()\n",
    "        return elements  \n",
    "    def search( self, val):\n",
    "        if self.data == val:\n",
    "            return True\n",
    "        if val < self.data:\n",
    "            # val might be in left subtree\n",
    "            if self.left:\n",
    "                return self.left.search(val)\n",
    "            else:\n",
    "                return False\n",
    "        if val > self.data:\n",
    "            \n",
    "            # val might be in the right tree\n",
    "            if self.right:\n",
    "                return self.right.search(val)\n",
    "            else:\n",
    "                return False\n",
    "          \n",
    "                  \n",
    "def build_tree(elements):\n",
    "    root= BinarySearchTreeNode(elements[0])\n",
    "    for i in range(1, len(elements)):\n",
    "        root.add_child(elements[i])\n",
    "    return root\n",
    "        \n",
    "if __name__=='__main__':\n",
    "    numbers= [17,4,1,20,9,23,18,34]\n",
    "    countries=['India','Pakistan','Germany','USA','China','India','UK','USA']\n",
    "    country_tree= build_tree(countries)\n",
    "    \n",
    "    # print( numbers_tree.search(20))\n",
    "    print( \"USA is in the list\", country_tree.search(\"USA\"))\n",
    "    print( \"Sweeden is in the list\", country_tree.search(\"Sweeden\"))\n"
   ]
  },
  {
   "cell_type": "code",
   "execution_count": 3,
   "metadata": {},
   "outputs": [
    {
     "name": "stdout",
     "output_type": "stream",
     "text": [
      "500\n"
     ]
    }
   ],
   "source": [
    "#Q7: Recursion programming \n",
    "# 1st method\n",
    "# def greet():\n",
    "#     print(\"Hello\")\n",
    "#     greet()\n",
    "# print(greet())\n",
    "\n",
    "#2nd method\n",
    "\n",
    "import sys\n",
    "sys.setrecursionlimit(500)\n",
    "print(sys.getrecursionlimit())\n",
    "\n",
    "i=0\n",
    "def greet():\n",
    "    global i\n",
    "    i+=1\n",
    "    print(\"Hello\", i)\n",
    "    greet()\n",
    "    \n",
    "# greet()    \n",
    "#         return n\n",
    "#     else:\n"
   ]
  },
  {
   "cell_type": "markdown",
   "metadata": {},
   "source": [
    "# Sort Algorithms"
   ]
  },
  {
   "cell_type": "code",
   "execution_count": 120,
   "metadata": {},
   "outputs": [
    {
     "name": "stdout",
     "output_type": "stream",
     "text": [
      "[1, 2, 25, 45, 55, 600]\n"
     ]
    }
   ],
   "source": [
    "\n",
    "# Q8: Bubble sort algorithm  (shorting list array: numeric & string)\n",
    "###------------------------------------------------------\n",
    "\n",
    "## 1st-method--Bubble sort\n",
    "# def bubble_sort(arr):\n",
    "#     size=len(arr)\n",
    "#     for i in range(size-1):\n",
    "#         for j in range(size-1):\n",
    "#             if arr[j]>arr[j+1]:\n",
    "#                 tmp= arr[j]\n",
    "#                 arr[j]=arr[j+1]\n",
    "#                 arr[j+1]=tmp\n",
    "###---------------------------------------------------\n",
    "\n",
    "## 1st-Method-- Bubble sort\n",
    "# def bubble_sort(arr):\n",
    "#     n = len(arr)\n",
    "#     for i in range(n):\n",
    "#         for j in range(0, n-i-1):\n",
    "#             if arr[j]>arr[j+1]:\n",
    "#                 arr[j],arr[j+1]=arr[j+1], arr[j]\n",
    "#     return arr   \n",
    "###-----------------------------------------------------\n",
    "\n",
    "### 3rd- Insersion sort method  :::: link:https://www.youtube.com/watch?v=9j7llneJ77o\n",
    "# def insert_sort(arr):\n",
    "#     n= len(arr)\n",
    "#     for i in range(1,n):\n",
    "#         key=arr[i]\n",
    "#         j=i-1\n",
    "#         while j>=0 and key<arr[j]:\n",
    "#             arr[j+1]=arr[j]\n",
    "#             j-=1\n",
    "#         arr[j+1]=key    \n",
    "\n",
    "###------------------------------------------------------------\n",
    "\n",
    "#### 4th: Merge sort method :::: link::https://www.youtube.com/watch?v=nCNfu_zNhyI\n",
    "\n",
    "# def merge_sort(arr):\n",
    "#     if len(arr)<=1:\n",
    "#         return arr\n",
    "    \n",
    "#     mid= len(arr)//2\n",
    "    \n",
    "#     left=arr[:mid]\n",
    "#     right=arr[mid:]\n",
    "    \n",
    "#     left=merge_sort(left)\n",
    "#     right= merge_sort(right)\n",
    "#     return merge_two_sorted_arr(left, right)\n",
    "    \n",
    "    \n",
    "\n",
    "# def merge_two_sorted_arr(a,b):\n",
    "#     sorted_list=[]\n",
    "#     len_a = len(a)\n",
    "#     len_b = len(b)\n",
    "#     i=0\n",
    "#     j=0\n",
    "#     while i < len_a and j < len_b:\n",
    "#         if a[i]<=b[j]:\n",
    "#             sorted_list.append(a[i])\n",
    "#             i+=1\n",
    "#         else:\n",
    "#             sorted_list.append(b[j])\n",
    "#             j+=1\n",
    "#     while i< len_a:\n",
    "#         sorted_list.append(a[i])\n",
    "#         i+=1\n",
    "#     while j< len_b:\n",
    "#         sorted_list.append(b[j]) \n",
    "#         j+=1           \n",
    "#     return sorted_list\n",
    "\n",
    "# arr=[5,8,12,2,4,9,45,51]\n",
    "# merge_sort(arr)     \n",
    "###-----------------------------------------------------\n",
    "        \n",
    "# 5th- Quick sort Algorithm  ::::https://www.youtube.com/watch?v=5iSZ7mh_RAk&list=PLeo1K3hjS3uu_n_a__MI_KktGTLYopZ12&index=15\n",
    "# def swap(a, b, arr):\n",
    "#     if a != b:\n",
    "#         arr[a], arr[b] = arr[b], arr[a]\n",
    "\n",
    "# def partition(arr):\n",
    "#     pivot_index = 0\n",
    "#     pivot = arr[pivot_index]\n",
    "    \n",
    "#     start = pivot_index + 1\n",
    "#     end = len(arr) - 1\n",
    "    \n",
    "#     while True:\n",
    "#         while start <= end and arr[start] <= pivot:\n",
    "#             start += 1\n",
    "#         while start <= end and arr[end] > pivot:\n",
    "#             end -= 1\n",
    "#         if start <= end:\n",
    "#             swap(start, end, arr)\n",
    "#         else:\n",
    "#             break\n",
    "    \n",
    "#     swap(pivot_index, end, arr)\n",
    "#     return end\n",
    "\n",
    "# def quick_sort(arr):\n",
    "#     if len(arr) <= 1:\n",
    "#         return arr\n",
    "    \n",
    "#     pivot_index = partition(arr)\n",
    "    \n",
    "#     left_part = quick_sort(arr[:pivot_index])\n",
    "#     right_part = quick_sort(arr[pivot_index + 1:])\n",
    "    \n",
    "#     return left_part + [arr[pivot_index]] + right_part\n",
    "\n",
    "# arr = [29, 9, 2, 7, 11, 15, 28]\n",
    "# sorted_arr = quick_sort(arr)\n",
    "# print(sorted_arr)\n",
    "\n",
    "    \n",
    "######-----------------------------------------------------\n",
    "### Selection sort Algorithm  ::::https://www.youtube.com/watch?v=hhkLdjIimlw&list=PLeo1K3hjS3uu_n_a__MI_KktGTLYopZ12&index=19\n",
    "\n",
    "\n",
    "def selection_sort(arr):\n",
    "    size = len(arr)\n",
    "    \n",
    "    for i in range(size):\n",
    "        min_index = i\n",
    "        for j in range(min_index + 1, size):\n",
    "            if arr[j] < arr[min_index]:\n",
    "                min_index = j\n",
    "        if i != min_index:   \n",
    "            arr[i], arr[min_index] = arr[min_index], arr[i]\n",
    "    return arr\n",
    "\n",
    "arr = [25, 45, 55, 2, 600,1]\n",
    "sorted_arr = selection_sort(arr)\n",
    "print(sorted_arr)\n",
    "\n"
   ]
  },
  {
   "cell_type": "markdown",
   "metadata": {},
   "source": [
    "# Counts alphabet using Hashtable"
   ]
  },
  {
   "cell_type": "code",
   "execution_count": 14,
   "metadata": {},
   "outputs": [
    {
     "name": "stdout",
     "output_type": "stream",
     "text": [
      "{'a': 2, 'b': 2, 'c': 1, 'v': 1, 'e': 3}\n",
      "Count of all characters in ZeeshanHaleem {'Z': 1, 'e': 4, 's': 1, 'h': 1, 'a': 2, 'n': 1, 'H': 1, 'l': 1, 'm': 1}\n"
     ]
    }
   ],
   "source": [
    "#Q9: Counts the alphabets using hashtable\n",
    "#1st method\n",
    "my_list=['a','b','c','a','v','b', 'e','e','e']\n",
    "freq ={}\n",
    "for item in my_list:\n",
    "      if(item in freq):\n",
    "          freq[item]+=1\n",
    "      else:\n",
    "          freq[item]=1\n",
    "print(freq)\n",
    "\n",
    "#2nd method\n",
    "\n",
    "test_str= 'ZeeshanHaleem'\n",
    "\n",
    "all_freq={}\n",
    "for i in test_str:\n",
    "    if i in all_freq:\n",
    "        all_freq[i]+=1\n",
    "    else:\n",
    "        all_freq[i]=1\n",
    "        \n",
    "print(\"Count of all characters in ZeeshanHaleem\", all_freq)     \n",
    "#---------\n",
    "dict = {'a':0, 'b':0,........,'z':0}\n",
    "all_freq[i] =+1 \n",
    "\n",
    "   \n"
   ]
  },
  {
   "cell_type": "code",
   "execution_count": 38,
   "metadata": {},
   "outputs": [
    {
     "name": "stdout",
     "output_type": "stream",
     "text": [
      "{'a': 2, 'b': 0, 'c': 0, 'd': 0, 'e': 4, 'f': 0, 'g': 0, 'h': 2, 'i': 0, 'j': 0, 'k': 0, 'l': 1, 'm': 1, 'n': 1, 'o': 0, 'p': 0, 'q': 0, 'r': 0, 's': 1, 't': 0, 'u': 0, 'v': 0, 'w': 0, 'x': 0, 'y': 0, 'z': 1}\n"
     ]
    }
   ],
   "source": [
    "import string\n",
    "\n",
    "d = dict.fromkeys(string.ascii_lowercase, 0)\n",
    "\n",
    "test_str= 'zeeshanhaleem'\n",
    "\n",
    "for i in test_str:\n",
    "        d[i]+=1\n",
    "print(d)    "
   ]
  },
  {
   "cell_type": "code",
   "execution_count": 36,
   "metadata": {},
   "outputs": [
    {
     "data": {
      "text/plain": [
       "{'a': 0,\n",
       " 'b': 0,\n",
       " 'c': 0,\n",
       " 'd': 0,\n",
       " 'e': 0,\n",
       " 'f': 0,\n",
       " 'g': 0,\n",
       " 'h': 0,\n",
       " 'i': 0,\n",
       " 'j': 0,\n",
       " 'k': 0,\n",
       " 'l': 0,\n",
       " 'm': 0,\n",
       " 'n': 0,\n",
       " 'o': 0,\n",
       " 'p': 0,\n",
       " 'q': 0,\n",
       " 'r': 0,\n",
       " 's': 0,\n",
       " 't': 0,\n",
       " 'u': 0,\n",
       " 'v': 0,\n",
       " 'w': 0,\n",
       " 'x': 0,\n",
       " 'y': 0,\n",
       " 'z': 0}"
      ]
     },
     "execution_count": 36,
     "metadata": {},
     "output_type": "execute_result"
    }
   ],
   "source": [
    "import string\n",
    "\n",
    "d = dict.fromkeys(string.ascii_lowercase, 0)\n",
    "d"
   ]
  },
  {
   "cell_type": "code",
   "execution_count": null,
   "metadata": {},
   "outputs": [],
   "source": []
  },
  {
   "cell_type": "code",
   "execution_count": 25,
   "metadata": {},
   "outputs": [
    {
     "name": "stdout",
     "output_type": "stream",
     "text": [
      "{'r': 2, 'i': 2, 's': 2, 'h': 4, 'a': 2, 'b': 2, ',': 1, ' ': 1}\n",
      "None\n"
     ]
    }
   ],
   "source": [
    "import string\n",
    "def LetterCount(str):\n",
    "    str= str.lower().strip()\n",
    "    str = str.strip(string.punctuation)\n",
    "    list1=list(str)\n",
    "    lcDict= {}\n",
    "    for l in list1:\n",
    "        if l in lcDict:\n",
    "            lcDict[l] +=1\n",
    "        else:\n",
    "            lcDict[l]= 1\n",
    "    print(lcDict)\n",
    "\n",
    "print(LetterCount(\"Rishabh, Rishabh\"))"
   ]
  },
  {
   "cell_type": "code",
   "execution_count": 16,
   "metadata": {},
   "outputs": [],
   "source": [
    "letter_count = dict([(chr(i),0) for i in range(97,123)])\n",
    "# letter_count"
   ]
  },
  {
   "cell_type": "code",
   "execution_count": 10,
   "metadata": {},
   "outputs": [
    {
     "name": "stdout",
     "output_type": "stream",
     "text": [
      "The count of all characters in string is :\n",
      " {'r': 2, 'n': 1, 'd': 1, 'e': 1, 'R': 1, 't': 1, 'b': 1, ' ': 4, 'a': 3, 'i': 3, 'g': 1, 'h': 1, 'o': 2, 's': 2}\n"
     ]
    }
   ],
   "source": [
    "test_str = \"Rishab is a good trainer\"\n",
    "  \n",
    "# using set() + count() to get count \n",
    "# of each element in string \n",
    "res = {i : test_str.count(i) for i in set(test_str)}\n",
    "  \n",
    "# printing result \n",
    "print (\"The count of all characters in string is :\\n \"\n",
    "                                               +  str(res))"
   ]
  },
  {
   "cell_type": "code",
   "execution_count": null,
   "metadata": {},
   "outputs": [],
   "source": [
    "# finding the pairs in such a way that it satifies the k value\n",
    "arr=[4,5,1,-3,6]\n",
    "k=11\n",
    "\n",
    "def findPair(arr, k):\n",
    "    # your code here\n",
    "    for i in enumerate(arr):\n",
    "        for j in enumerate(arr):\n",
    "                if (i[1]+j[1]==k):\n",
    "                    print('There is a pair of {}, {} that is equal to {}'.format(i[1], j[1],k))\n",
    "                else: \n",
    "                    print('There is not a pait that is equal to {}'.format(k))\n",
    "                    \n",
    "# def findPair(arr,k):\n",
    "#     n=len(arr)\n",
    "#     for i in range(n):\n",
    "#         for j in range(n):\n",
    "#             if (i!=j) & (arr[i]+arr[j]==k):\n",
    "#                 return (arr[i],arr[j])\n",
    "#     return 'Not found target sum'  \n",
    "\n",
    "findPair(arr, k)    "
   ]
  },
  {
   "cell_type": "code",
   "execution_count": null,
   "metadata": {},
   "outputs": [],
   "source": []
  },
  {
   "cell_type": "code",
   "execution_count": null,
   "metadata": {},
   "outputs": [],
   "source": [
    "# finding the pairs in such a way that it satifies the k value\n",
    "arr=[4,5,1,-3,6]\n",
    "k=11\n",
    "\n",
    "def findPair(arr, k):\n",
    "    left= 0\n",
    "    right= len(arr)-1\n",
    "\n",
    "    while (left<right):\n",
    "        if (arr[left]+arr[right]==k):\n",
    "            return 'These values are {} and {}'.format(arr[left], arr[right]),True\n",
    "        elif (arr[left]+arr[right]<k):\n",
    "            left=left+1\n",
    "        else:\n",
    "            right=right+1\n",
    "    return  False\n",
    "findPair(arr, k)    \n"
   ]
  },
  {
   "cell_type": "code",
   "execution_count": 136,
   "metadata": {},
   "outputs": [
    {
     "data": {
      "text/plain": [
       "'r'"
      ]
     },
     "execution_count": 136,
     "metadata": {},
     "output_type": "execute_result"
    }
   ],
   "source": [
    "### Find the first repeating character in the given string\n",
    "\n",
    "# Parameters:\n",
    "str = \"programming\"\n",
    "# str = \"probability\"\n",
    "# str = \"inside code\"\n",
    "# str = \"abcd\"\n",
    "# return type: char\n",
    "\n",
    "# def firstRepeatingCharacter(str):\n",
    "#     left=0\n",
    "#     right= len(str)-1\n",
    "#     while (left<right):\n",
    "#         if (str[left]==str[right]):\n",
    "#             return str[left]\n",
    "#         elif (str[left]!=str[right]):\n",
    "#             left=left+1\n",
    "#         else:\n",
    "#             right= right-1\n",
    "#     return 'There are no repeating characters'\n",
    "\n",
    "#####-----------------------------\n",
    "def firstRepeatingCharacter(str):\n",
    "    for i in range(len(str)):\n",
    "        for j in range(len(str)):\n",
    "            if (i!=j) & (str[i] == str[j]):\n",
    "                return str[i]\n",
    "    else:\n",
    "        return 'There is no repeating character'\n",
    "\n",
    "firstRepeatingCharacter(str)"
   ]
  },
  {
   "cell_type": "markdown",
   "metadata": {},
   "source": [
    "# Remove duplicate enties"
   ]
  },
  {
   "cell_type": "code",
   "execution_count": null,
   "metadata": {},
   "outputs": [],
   "source": [
    "# Parameters:\n",
    "arr = [4, 2, 5, 3, 3, 1, 2, 4, 1, 5, 5, 5, 3, 1]\n",
    "\n",
    "def removeDuplicates(arr):\n",
    "    a=[]\n",
    "    for i in range(len(arr)):\n",
    "        if arr[i] not in a:\n",
    "            a.append(arr[i])\n",
    "    return a     \n",
    "####-----------------------\n",
    "def removeDuplicates(arr):\n",
    "    a=[]\n",
    "    for element in arr:\n",
    "        if element not in a:\n",
    "            a.append(element)\n",
    "    return a   \n",
    "####-----------------------\n",
    "####-----------------------\n",
    "\n",
    "def removeDuplicates(arr):\n",
    "    nonDuplicates={}\n",
    "    # your code here\n",
    "    for element in arr:\n",
    "        nonDuplicates[element]=True\n",
    "    return list(nonDuplicates.keys())    \n",
    "removeDuplicates(arr)        \n",
    "\n",
    "removeDuplicates(arr)"
   ]
  },
  {
   "cell_type": "code",
   "execution_count": null,
   "metadata": {},
   "outputs": [],
   "source": []
  },
  {
   "cell_type": "markdown",
   "metadata": {},
   "source": [
    "# Finding the Duplicated"
   ]
  },
  {
   "cell_type": "code",
   "execution_count": 165,
   "metadata": {},
   "outputs": [
    {
     "data": {
      "text/plain": [
       "[1, 3]"
      ]
     },
     "execution_count": 165,
     "metadata": {},
     "output_type": "execute_result"
    }
   ],
   "source": [
    "# Parameters:\n",
    "# arr = [4, 2, 5, 3, 3, 1, 2, 4, 1, 5, 5, 5, 3, 1]\n",
    "arr = [4, 2, 1, 3, 1,3,3]\n",
    "    \n",
    "###--------------------\n",
    "###--------------------\n",
    "\n",
    "# def findDuplicate(arr):\n",
    "#     for i in range(len(arr)):\n",
    "#         for j in range(i+1,len(arr)):\n",
    "#             if arr[i]==arr[j]:\n",
    "#                 return arr[i]  \n",
    "            \n",
    "def findDuplicate(arr):\n",
    "    dup=[]\n",
    "    for i in range(len(arr)):\n",
    "        for j in range(i+1, len(arr)):\n",
    "            if (arr[i] == arr[j]) & (arr[i] not in dup):\n",
    "                dup.append(arr[i])\n",
    "    return dup             \n",
    "findDuplicate(arr)"
   ]
  },
  {
   "cell_type": "markdown",
   "metadata": {},
   "source": [
    "# Longest substring without repeating the first character"
   ]
  },
  {
   "cell_type": "code",
   "execution_count": null,
   "metadata": {},
   "outputs": [],
   "source": [
    "str = \"abcdbeghef\"\n",
    "\n",
    "def longestSubstring(str):\n",
    "    # initialize a dictionary to store the last occurrence of each character\n",
    "    last_seen = {}\n",
    "    # initialize two pointers to track the start and end of the current substring\n",
    "    start = 0\n",
    "    end = 0\n",
    "    # initialize a variable to keep track of the length of the longest substring\n",
    "    max_len = a\n",
    "    \n",
    "    for i, char in enumerate(str):\n",
    "        # check if the current character has been seen before and update the start pointer accordingly\n",
    "        # if char in last_seen and last_seen[char] >= start:\n",
    "        if char in last_seen:\n",
    "            start = last_seen[char] + 1\n",
    "        # update the end pointer and the last_seen dictionary\n",
    "        end = i\n",
    "        last_seen[char] = i\n",
    "        # update the max_len variable if the current substring is longer than the previous longest substring\n",
    "        max_len = max(max_len, end - start + 1)\n",
    "    return max_len\n",
    "\n",
    "longestSubstring(str)"
   ]
  },
  {
   "cell_type": "code",
   "execution_count": null,
   "metadata": {},
   "outputs": [],
   "source": [
    "str = \"abcdbeghef\"\n",
    "start=0\n",
    "end=0\n",
    "last_seen = {}\n",
    "for i,char in enumerate(str):\n",
    "    if char in last_seen:\n",
    "            start = last_seen[char] + 1\n",
    "            print('start:',start,'end:', end, ' char:',char, 'last_seen:',last_seen)\n",
    "    end=i\n",
    "    last_seen[char] =i\n",
    "print(last_seen)    "
   ]
  },
  {
   "cell_type": "code",
   "execution_count": null,
   "metadata": {},
   "outputs": [],
   "source": [
    "str = \"abcdbeghef\"\n",
    "\n",
    "def lengthOfLongestSubstring(s: str) -> int:\n",
    "    char_set = set()\n",
    "    left, right, longest = 0, 0, 0\n",
    "    \n",
    "    while right < len(s):\n",
    "        if s[right] not in char_set:\n",
    "            char_set.add(s[right])\n",
    "            right += 1\n",
    "            longest = max(longest, right - left)\n",
    "        else:\n",
    "            char_set.remove(s[left])\n",
    "            left += 1\n",
    "            \n",
    "    return longest\n",
    "lengthOfLongestSubstring(str)"
   ]
  },
  {
   "cell_type": "markdown",
   "metadata": {},
   "source": [
    "# Traversing Linked list\n"
   ]
  },
  {
   "cell_type": "code",
   "execution_count": null,
   "metadata": {},
   "outputs": [],
   "source": [
    "class Node:\n",
    "    def __init__(self, data):\n",
    "        self.data = data\n",
    "        self.next = None\n",
    "\n",
    "class LinkedList:\n",
    "    def __init__(self):\n",
    "        self.head = None\n",
    "    \n",
    "    def append(self, data):\n",
    "        new_node = Node(data)\n",
    "        if self.head is None:\n",
    "            self.head = new_node\n",
    "            return\n",
    "        current = self.head\n",
    "        while current.next:\n",
    "            current = current.next\n",
    "        current.next = new_node\n",
    "    \n",
    "    def traverse(self):\n",
    "        current = self.head\n",
    "        while current:\n",
    "            print(current.data, end=\" -> \")\n",
    "            current = current.next\n",
    "        print(\"None\")\n"
   ]
  },
  {
   "cell_type": "code",
   "execution_count": null,
   "metadata": {},
   "outputs": [],
   "source": [
    "# Creating a linked list\n",
    "linked_list = LinkedList()\n",
    "linked_list.append(1)\n",
    "linked_list.append(2)\n",
    "linked_list.append(3)\n",
    "linked_list.append(4)"
   ]
  },
  {
   "cell_type": "code",
   "execution_count": null,
   "metadata": {},
   "outputs": [],
   "source": [
    "# Traversing through the linked list\n",
    "linked_list.traverse()"
   ]
  },
  {
   "cell_type": "markdown",
   "metadata": {},
   "source": [
    "# Reverse the linked list"
   ]
  },
  {
   "cell_type": "code",
   "execution_count": null,
   "metadata": {},
   "outputs": [],
   "source": [
    "list = [5, 3, 6, 4, 7] \n",
    "\n",
    "def reverselist(list):\n",
    "    length=0\n",
    "    temp=list.head\n",
    "    while temp:\n",
    "        length +=1\n",
    "        temp = temp.next\n",
    "    left = list.head\n",
    "    for i in range(length//2):\n",
    "        right = list.head\n",
    "        for j in range(length-i-1):\n",
    "            right = right.next\n",
    "        left.data, right.data = right.data, left.data\n",
    "        left = left.next   \n",
    "print(reverselist(list))            "
   ]
  },
  {
   "cell_type": "code",
   "execution_count": null,
   "metadata": {},
   "outputs": [],
   "source": [
    "class Node:\n",
    "    def __init__(self, data):\n",
    "        self.data = data\n",
    "        self.next = None\n",
    "\n",
    "class LinkedList:\n",
    "    def __init__(self):\n",
    "        self.head = None\n",
    "\n",
    "    def append(self, data):\n",
    "        new_node = Node(data)\n",
    "        if self.head is None:\n",
    "            self.head = new_node\n",
    "            return\n",
    "        current = self.head\n",
    "        while current.next:\n",
    "            current = current.next\n",
    "        current.next = new_node\n",
    "\n",
    "    def traverse(self):\n",
    "        current = self.head\n",
    "        while current:\n",
    "            print(current.data, end=\" -> \")\n",
    "            current = current.next\n",
    "        print(\"None\")\n",
    "\n",
    "def reverselist(linked_list):\n",
    "    length = 0\n",
    "    temp = linked_list.head\n",
    "    while temp:\n",
    "        length += 1\n",
    "        temp = temp.next\n",
    "\n",
    "    left = linked_list.head\n",
    "    for i in range(length // 2):\n",
    "        right = linked_list.head\n",
    "        for j in range(length - i - 1):\n",
    "            right = right.next\n",
    "        left.data, right.data = right.data, left.data\n",
    "        left = left.next\n",
    "\n",
    "# Creating a linked list\n",
    "list = LinkedList()\n",
    "list.append(5)\n",
    "list.append(3)\n",
    "list.append(6)\n",
    "list.append(4)\n",
    "list.append(7)\n",
    "\n",
    "# Printing original list\n",
    "print(\"Original List:\")\n",
    "list.traverse()\n",
    "\n",
    "# Reversing the list\n",
    "reverselist(list)\n",
    "\n",
    "# Printing reversed list\n",
    "print(\"Reversed List:\")\n",
    "list.traverse()\n"
   ]
  },
  {
   "cell_type": "code",
   "execution_count": null,
   "metadata": {},
   "outputs": [],
   "source": [
    "def is_palindrome(number):\n",
    "    reversed_number = 0\n",
    "    original_number = number\n",
    "\n",
    "    while number > 0:\n",
    "        last_digit = number % 10\n",
    "        reversed_number = (reversed_number * 10) + last_digit\n",
    "        number = number // 10\n",
    "\n",
    "    return original_number == reversed_number\n",
    "\n",
    "# Test cases\n",
    "print(is_palindrome(121))    # True\n",
    "print(is_palindrome(12321))  # True\n",
    "print(is_palindrome(12345))  # False\n"
   ]
  },
  {
   "cell_type": "code",
   "execution_count": null,
   "metadata": {},
   "outputs": [],
   "source": [
    "def is_palindrome(word):\n",
    "    length = len(word)\n",
    "    for i in range(length // 2):\n",
    "        if word[i] != word[length - i - 1]:\n",
    "            return False\n",
    "    return True\n",
    "\n",
    "# Test cases\n",
    "print(is_palindrome(\"level\"))         # True\n",
    "print(is_palindrome(\"racecar\"))       # True\n",
    "print(is_palindrome(\"hello\"))         # False\n",
    "print(is_palindrome(\"madam\"))         # True\n",
    "print(is_palindrome(\"openai\"))        # False"
   ]
  },
  {
   "cell_type": "code",
   "execution_count": 219,
   "metadata": {},
   "outputs": [
    {
     "name": "stdout",
     "output_type": "stream",
     "text": [
      "60\n"
     ]
    }
   ],
   "source": [
    "# Roman to Integer\n",
    "## 1st method\n",
    "def romantoInt(s):\n",
    "    roman_values = {'I': 1, 'V': 5, 'X': 10, 'L': 50, 'C': 100, 'D': 500, 'M': 1000}\n",
    "    result = 0\n",
    "    \n",
    "    for i in range(len(s)):\n",
    "        if i > 0 and roman_values[s[i]] > roman_values[s[i - 1]]:\n",
    "            result += roman_values[s[i]] - 2 * roman_values[s[i - 1]]\n",
    "        else:\n",
    "            result += roman_values[s[i]]\n",
    "    \n",
    "    return result\n",
    "\n",
    "##2nd :Method (which is not 100% correct)\n",
    "# def roman_to_int(s):\n",
    "#     roman_values = {'I': 1, 'V': 5, 'X': 10, 'L': 50, 'C': 100, 'D': 500, 'M': 1000}\n",
    "\n",
    "#     int_value=0\n",
    "#     for i in range(len(s)):\n",
    "#         if s[i] in roman_values:\n",
    "#                 int_value=int_value+roman_values[s[i]]\n",
    "#     return int_value \n",
    "\n",
    "## 3rd: Method (using for loop: 100% correct)\n",
    "\n",
    "def roman_to_int(s):\n",
    "    roman_values = {'I': 1, 'V': 5, 'X': 10, 'L': 50, 'C': 100, 'D': 500, 'M': 1000}\n",
    "\n",
    "    int_value = 0\n",
    "    i = 0\n",
    "    while i < len(s):\n",
    "        # If this is not the last character and the current character's value is less than the next one\n",
    "        if i + 1 < len(s) and roman_values[s[i]] < roman_values[s[i + 1]]:\n",
    "            int_value += roman_values[s[i + 1]] - roman_values[s[i]]\n",
    "            i += 2\n",
    "        else:\n",
    "            int_value += roman_values[s[i]]\n",
    "            i += 1\n",
    "\n",
    "    return int_value\n",
    "\n",
    "\n",
    "# -------\n",
    "\n",
    "# roman_numeral = \"XLVII\"\n",
    "# roman_numeral = \"VII\"\n",
    "# roman_numeral = \"XL\"\n",
    "# roman_numeral = \"LV\"\n",
    "# roman_numeral = \"XVXL\"\n",
    "# roman_numeral = \"LXV\" ##65\n",
    "roman_numeral = \"XLV\" ## 45\n",
    "\n",
    "\n",
    "integer_value = romantoInt(roman_numeral)\n",
    "print(integer_value)  # Output: 47"
   ]
  },
  {
   "cell_type": "code",
   "execution_count": null,
   "metadata": {},
   "outputs": [],
   "source": [
    "# 2nd Method\n"
   ]
  },
  {
   "cell_type": "code",
   "execution_count": null,
   "metadata": {},
   "outputs": [],
   "source": [
    "def romantoInt(s):\n",
    "    roman_values = {'I': 1, 'V': 5, 'X': 10, 'L': 50, 'C': 100, 'D': 500, 'M': 1000}\n",
    "    result = 0\n",
    "    previous_value = 0\n",
    "    \n",
    "    for char in reversed(s):\n",
    "        current_value = roman_values[char]\n",
    "        if current_value >= previous_value:\n",
    "            result += current_value\n",
    "        else:\n",
    "            result -= current_value\n",
    "        previous_value = current_value\n",
    "    \n",
    "    return result\n"
   ]
  },
  {
   "cell_type": "code",
   "execution_count": null,
   "metadata": {},
   "outputs": [],
   "source": [
    "# Q: Writing a python code to reverse (Transpose) the given matrix.\n",
    "ls=[[1, 2, 3], \n",
    "    [4, 5, 6], \n",
    "    [7, 8, 9]]\n",
    "# ootput: \n",
    "# [[1, 4, 7], \n",
    "# [2, 5, 8], \n",
    "# [3, 6, 9]]\n",
    "\n",
    "### Sol 1: \n",
    "import numpy as np\n",
    "np.array(ls).T\n",
    "### Sol2:\n",
    "transport_mt=[]\n",
    "for i in range(len(ls)):\n",
    "    matrix_mt=[]\n",
    "    for row in ls:\n",
    "        matrix_mt.append(row[i])\n",
    "    transport_mt.append(matrix_mt)        \n",
    "transport_mt        "
   ]
  },
  {
   "cell_type": "code",
   "execution_count": 228,
   "metadata": {},
   "outputs": [
    {
     "name": "stdout",
     "output_type": "stream",
     "text": [
      "[1, 2, 3, 4, 5, 6]\n"
     ]
    }
   ],
   "source": [
    "#Q12: Write a python program that flatten a nested list.\n",
    "\n",
    "### Ans: Flattening the nested list\n",
    "# def flatten_list_iterative(nested_list):\n",
    "#     flat_list = []\n",
    "#     stack = nested_list[::-1]  # Start with a reversed stack for easy popping\n",
    "    \n",
    "#     while stack:\n",
    "#         element = stack.pop()\n",
    "#         if isinstance(element, list):\n",
    "#             stack.extend(element[::-1])  # Add elements of sublist in reversed order\n",
    "#         else:\n",
    "#             flat_list.append(element)\n",
    "    \n",
    "#     return flat_list\n",
    "\n",
    "### 2nd: Approch \n",
    "def flatten_list_iterative(nested_list):\n",
    "    flat_list = []\n",
    "    for item in nested_list:\n",
    "        if isinstance(item, list):\n",
    "            flat_list.extend(flatten_list_iterative(item))  # Recursively flatten the nested list\n",
    "        else:\n",
    "            flat_list.append(item)  # Append non-list items directly to the result\n",
    "    return flat_list\n",
    "\n",
    "### 3rd: Approch\n",
    "# def flatten_list_iterative(nested_list):\n",
    "#     flat_list = []\n",
    "#     for sublist in nested_list:\n",
    "#         if isinstance(sublist, list):\n",
    "#             for item in sublist:\n",
    "#                 if isinstance(item, list):\n",
    "#                     for subitem in item:\n",
    "#                         flat_list.append(subitem)\n",
    "#                 else:\n",
    "#                     flat_list.append(item)\n",
    "#         else:\n",
    "#             flat_list.append(sublist)\n",
    "#     return flat_list\n",
    "\n",
    "# Example usage\n",
    "ls = [1, [2, [3, 4], 5], 6]\n",
    "flattened_list = flatten_list_iterative(ls)\n",
    "print(flattened_list)\n"
   ]
  },
  {
   "cell_type": "code",
   "execution_count": 232,
   "metadata": {},
   "outputs": [
    {
     "name": "stdout",
     "output_type": "stream",
     "text": [
      "Item is a list: [1, 2, 3]\n",
      "Item is not a list: 5\n"
     ]
    }
   ],
   "source": [
    "def process_item(item):\n",
    "    if isinstance(item, list):\n",
    "        print(f\"Item is a list: {item}\")\n",
    "    else:\n",
    "        print(f\"Item is not a list: {item}\")\n",
    "\n",
    "process_item([1, 2, 3])  # Output: Item is a list: [1, 2, 3]\n",
    "process_item(5)          # Output: Item is not a list: 5\n"
   ]
  },
  {
   "cell_type": "code",
   "execution_count": 231,
   "metadata": {},
   "outputs": [
    {
     "name": "stdout",
     "output_type": "stream",
     "text": [
      "21\n"
     ]
    }
   ],
   "source": [
    "#Q13: Sum of All Elements in a Nested List\n",
    "# Task: Write a function that takes a nested list of integers and returns the sum of all elements, regardless of the depth of nesting.\n",
    "\n",
    "def flatten_sum_ls(nested_list):\n",
    "    total=0\n",
    "    for item in nested_list:\n",
    "        if isinstance(item, list):\n",
    "            total+=flatten_sum_ls(item)\n",
    "        else:\n",
    "            total+=item\n",
    "    return total       \n",
    "\n",
    "nested_list = [1, [2, [3, 4], 5], 6]\n",
    "# Output: 21\n",
    "print(flatten_sum_ls(nested_list))  # Output: 21"
   ]
  },
  {
   "cell_type": "code",
   "execution_count": 239,
   "metadata": {},
   "outputs": [
    {
     "name": "stdout",
     "output_type": "stream",
     "text": [
      "60\n"
     ]
    }
   ],
   "source": [
    "#Q14: Find Maximum Value in a Nested List\n",
    "def Flatten_max_nested_ls(nested_list):\n",
    "    # max_val= float('-inf')\n",
    "    max_val= 0\n",
    "    for item in nested_list:\n",
    "        if isinstance(item, list):\n",
    "            max_val = max(max_val, Flatten_max_nested_ls(item))\n",
    "        else:\n",
    "            max_val = max(max_val, item)\n",
    "    return max_val        \n",
    "\n",
    "nested_list = [1, [2, [7, 4], 5], 60]\n",
    "print(Flatten_max_nested_ls(nested_list))  # Output: 6"
   ]
  },
  {
   "cell_type": "code",
   "execution_count": 242,
   "metadata": {},
   "outputs": [
    {
     "name": "stdout",
     "output_type": "stream",
     "text": [
      "{'a': 1, 'b.c': 2, 'b.d.e': 3}\n",
      "{'a': 1, 'b.c': 2, 'b.d.e': 3}\n"
     ]
    }
   ],
   "source": [
    "#Q15: Flatten a Nested Dictionary\n",
    "\n",
    "# def flatten_dict(nested_dict):\n",
    "#     flat_dict = {}\n",
    "#     for key, value in nested_dict.items():\n",
    "#         if isinstance(value, dict):\n",
    "#             flat_dict.update(flatten_dict(value))\n",
    "            \n",
    "#         else:\n",
    "#             flat_dict[key] = value\n",
    "#     return flat_dict\n",
    "\n",
    "def flatten_dict(d, parent_key='', sep='.'):\n",
    "    items = {}\n",
    "    for k, v in d.items():\n",
    "        new_key = f\"{parent_key}{sep}{k}\" if parent_key else k\n",
    "        if isinstance(v, dict):\n",
    "            items.update(flatten_dict(v, new_key, sep=sep))\n",
    "        else:\n",
    "            items[new_key] = v\n",
    "    return items\n",
    "###---------------------\n",
    "\n",
    "nested_dict = {'a': 1, 'b': {'c': 2, 'd': {'e': 3}}}\n",
    "print(flatten_dict(nested_dict))  # Output: {'a': 1, 'b.c': 2, 'b.d.e': 3}"
   ]
  },
  {
   "cell_type": "code",
   "execution_count": 245,
   "metadata": {},
   "outputs": [
    {
     "name": "stdout",
     "output_type": "stream",
     "text": [
      "[6, [5, [4, 3], 2], 1]\n"
     ]
    }
   ],
   "source": [
    "#Q16: Reverse a Nested List\n",
    "def reverse_nested_list(nested_list):\n",
    "    nested_list.reverse()\n",
    "    for i in range(len(nested_list)):\n",
    "        if isinstance(nested_list[i], list):\n",
    "            reverse_nested_list(nested_list[i])\n",
    "    return nested_list\n",
    "\n",
    "nested_list = [1, [2, [3, 4], 5], 6]\n",
    "print(reverse_nested_list(nested_list))  # Output: [6, [5, [4, 3], 2], 1]\n"
   ]
  },
  {
   "cell_type": "code",
   "execution_count": null,
   "metadata": {},
   "outputs": [],
   "source": [
    "# Problem 6: Count All Elements in a Nested List\n",
    "def count_elements_nested_list(nested_list):\n",
    "    count = 0\n",
    "    for element in nested_list:\n",
    "        if isinstance(element, list):\n",
    "            count += count_elements_nested_list(element)\n",
    "        else:\n",
    "            count += 1\n",
    "    return count\n",
    "\n",
    "nested_list = [1, [2, [3, 4], 5], 6]\n",
    "print(count_elements_nested_list(nested_list))  # Output: 6\n"
   ]
  },
  {
   "cell_type": "code",
   "execution_count": 249,
   "metadata": {},
   "outputs": [
    {
     "name": "stdout",
     "output_type": "stream",
     "text": [
      "[2, 4, 6]\n"
     ]
    }
   ],
   "source": [
    "#Q17: Filter Nested List by a Condition\n",
    "def filter_nested_list(nested_list, condition):\n",
    "    result = []\n",
    "    for element in nested_list:\n",
    "        if isinstance(element, list):\n",
    "            result.extend(filter_nested_list(element, condition))\n",
    "        elif condition(element):\n",
    "            result.append(element)\n",
    "    return result\n",
    "\n",
    "nested_list = [1, [2, [3, 4], 5], 6]\n",
    "print(filter_nested_list(nested_list, lambda x: x % 2 == 0))  # Output: [2, 4, 6]"
   ]
  },
  {
   "cell_type": "markdown",
   "metadata": {},
   "source": [
    "# Recursion Examples"
   ]
  },
  {
   "cell_type": "markdown",
   "metadata": {},
   "source": [
    "- ## 1. Factorial Calculation\n",
    "##### Problem:\n",
    "Calculate the factorial of a number n. The factorial of n (denoted as n!) is the product of all positive integers less than or equal to n.\n"
   ]
  },
  {
   "cell_type": "code",
   "execution_count": null,
   "metadata": {},
   "outputs": [],
   "source": [
    "def factorial(n):\n",
    "    if n == 1:  # Base case\n",
    "        return 1\n",
    "    else:\n",
    "        return n * factorial(n - 1)  # Recursive case\n",
    "\n",
    "print(factorial(5))  # Output: 120\n"
   ]
  },
  {
   "cell_type": "markdown",
   "metadata": {},
   "source": [
    "- ## 2. Fibonacci Sequence\n",
    "- ### Problem:\n",
    "Generate the nth Fibonacci number. The Fibonacci sequence is a series of numbers where each number is the sum of the two preceding ones, starting with 0 and 1."
   ]
  },
  {
   "cell_type": "code",
   "execution_count": null,
   "metadata": {},
   "outputs": [],
   "source": [
    "def fibonacci(n):\n",
    "    if n == 0:  # Base case\n",
    "        return 0\n",
    "    elif n == 1:  # Base case\n",
    "        return 1\n",
    "    else:\n",
    "        return fibonacci(n - 1) + fibonacci(n - 2)  # Recursive case\n",
    "\n",
    "print(fibonacci(6))  # Output: 8\n"
   ]
  },
  {
   "cell_type": "markdown",
   "metadata": {},
   "source": [
    "- ## 3. Tower of Hanoi\n",
    "- ##### Problem:\n",
    "Solve the Tower of Hanoi puzzle. You have three rods and n disks of different sizes, and the goal is to move all the disks from the first rod to the third rod, following specific rules."
   ]
  },
  {
   "cell_type": "code",
   "execution_count": null,
   "metadata": {},
   "outputs": [],
   "source": [
    "def tower_of_hanoi(n, source, target, auxiliary):\n",
    "    if n == 1:  # Base case\n",
    "        print(f\"Move disk 1 from {source} to {target}\")\n",
    "        return\n",
    "    tower_of_hanoi(n - 1, source, auxiliary, target)\n",
    "    print(f\"Move disk {n} from {source} to {target}\")\n",
    "    tower_of_hanoi(n - 1, auxiliary, target, source)\n",
    "\n",
    "tower_of_hanoi(3, 'A', 'C', 'B')\n"
   ]
  },
  {
   "cell_type": "markdown",
   "metadata": {},
   "source": [
    "- ## 4. Binary Search\n",
    "- ##### Problem:\n",
    "Implement a binary search algorithm, which finds the position of a target value within a sorted array."
   ]
  },
  {
   "cell_type": "code",
   "execution_count": null,
   "metadata": {},
   "outputs": [],
   "source": [
    "def binary_search(arr, target, left, right):\n",
    "    if left > right:  # Base case\n",
    "        return -1\n",
    "    mid = (left + right) // 2\n",
    "    if arr[mid] == target:\n",
    "        return mid\n",
    "    elif arr[mid] > target:\n",
    "        return binary_search(arr, target, left, mid - 1)\n",
    "    else:\n",
    "        return binary_search(arr, target, mid + 1, right)\n",
    "\n",
    "arr = [1, 2, 3, 4, 5, 6, 7]\n",
    "target = 4\n",
    "print(binary_search(arr, target, 0, len(arr) - 1))  # Output: 3\n"
   ]
  },
  {
   "cell_type": "markdown",
   "metadata": {},
   "source": [
    "- ## 5. Sum of Digits\n",
    "- #### Problem:\n",
    "Calculate the sum of the digits of a number using recursion."
   ]
  },
  {
   "cell_type": "code",
   "execution_count": null,
   "metadata": {},
   "outputs": [],
   "source": [
    "def sum_of_digits(n):\n",
    "    if n == 0:  # Base case\n",
    "        return 0\n",
    "    else:\n",
    "        return n % 10 + sum_of_digits(n // 10)  # Recursive case\n",
    "\n",
    "print(sum_of_digits(1234))  # Output: 10\n"
   ]
  },
  {
   "cell_type": "markdown",
   "metadata": {},
   "source": [
    "# TOP 25 Python Q&A asked interview"
   ]
  },
  {
   "cell_type": "markdown",
   "metadata": {},
   "source": [
    "1. Reverse a String\n",
    "Problem: Write a Python function to reverse a string.\n",
    "Example Input: \"hello\"\n",
    "Example Output: \"olleh\""
   ]
  },
  {
   "cell_type": "code",
   "execution_count": null,
   "metadata": {},
   "outputs": [],
   "source": [
    "def reverse_string(s):\n",
    "    return s[::-1]\n",
    "\n",
    "s = \"Hello World\"\n",
    "print(reverse_string(s))  # Output: \"dlroW olleH\"\n"
   ]
  },
  {
   "cell_type": "markdown",
   "metadata": {},
   "source": [
    "2. Check if a String is a Palindrome\n",
    "Problem: Write a function that checks if a given string is a palindrome (reads the same forward and backward).\n",
    "Example Input: \"racecar\"\n",
    "Example Output: True"
   ]
  },
  {
   "cell_type": "code",
   "execution_count": null,
   "metadata": {},
   "outputs": [],
   "source": [
    "def is_palindrome(s):\n",
    "    return s == s[::-1]\n",
    "\n",
    "s = \"racecar\"\n",
    "print(is_palindrome(s))  # Output: True\n"
   ]
  },
  {
   "cell_type": "markdown",
   "metadata": {},
   "source": [
    "3. Find the Largest Element in a List\n",
    "Problem: Write a Python function to find the largest number in a list.\n",
    "Example Input: [3, 5, 7, 2, 8]\n",
    "Example Output: 8"
   ]
  },
  {
   "cell_type": "code",
   "execution_count": null,
   "metadata": {},
   "outputs": [],
   "source": [
    "def find_largest_element(lst):\n",
    "    largest = lst[0]\n",
    "    for num in lst:\n",
    "        if num > largest:\n",
    "            largest = num\n",
    "    return largest\n",
    "\n",
    "lst = [3, 5, 7, 2, 8]\n",
    "print(find_largest_element(lst))  # Output: 8\n"
   ]
  },
  {
   "cell_type": "markdown",
   "metadata": {},
   "source": [
    "4. FizzBuzz Problem\n",
    "Problem: Write a function that prints the numbers from 1 to 100, but for multiples of three, print \"Fizz\" instead of the number, and for multiples of five, print \"Buzz\". For numbers which are multiples of both three and five, print \"FizzBuzz\".\n",
    "Example Output: 1, 2, Fizz, 4, Buzz, Fizz, 7, 8, Fizz, Buzz, 11, Fizz, 13, 14, FizzBuzz, ..."
   ]
  },
  {
   "cell_type": "code",
   "execution_count": null,
   "metadata": {},
   "outputs": [],
   "source": [
    "def fizz_buzz(n):\n",
    "    for i in range(1, n + 1):\n",
    "        if i % 3 == 0 and i % 5 == 0:\n",
    "            print(\"FizzBuzz\")\n",
    "        elif i % 3 == 0:\n",
    "            print(\"Fizz\")\n",
    "        elif i % 5 == 0:\n",
    "            print(\"Buzz\")\n",
    "        else:\n",
    "            print(i)\n",
    "\n",
    "fizz_buzz(100)\n"
   ]
  },
  {
   "cell_type": "markdown",
   "metadata": {},
   "source": [
    "5. Remove Duplicates from a List\n",
    "Problem: Write a function that removes duplicates from a list and returns the unique elements.\n",
    "Example Input: [1, 2, 2, 3, 4, 4, 5]\n",
    "Example Output: [1, 2, 3, 4, 5]"
   ]
  },
  {
   "cell_type": "code",
   "execution_count": null,
   "metadata": {},
   "outputs": [],
   "source": [
    "def remove_duplicates(lst):\n",
    "    return list(set(lst))\n",
    "\n",
    "lst = [1, 2, 2, 3, 4, 4, 5]\n",
    "print(remove_duplicates(lst))  # Output: [1, 2, 3, 4, 5]\n"
   ]
  },
  {
   "cell_type": "markdown",
   "metadata": {},
   "source": [
    "6. Find the Missing Number in an Array\n",
    "Problem: Given a list of n-1 integers in the range from 1 to n, find the missing number.\n",
    "Example Input: [1, 2, 4, 6, 3, 7, 8]\n",
    "Example Output: 5"
   ]
  },
  {
   "cell_type": "code",
   "execution_count": null,
   "metadata": {},
   "outputs": [],
   "source": [
    "def find_missing_number(lst, n):\n",
    "    expected_sum = n * (n + 1) // 2\n",
    "    actual_sum = sum(lst)\n",
    "    return expected_sum - actual_sum\n",
    "\n",
    "lst = [1, 2, 4, 6, 3, 7, 8]\n",
    "n = 8\n",
    "print(find_missing_number(lst, n))  # Output: 5\n"
   ]
  },
  {
   "cell_type": "markdown",
   "metadata": {},
   "source": [
    "7. Check for Anagrams\n",
    "Problem: Write a Python function to check if two strings are anagrams.\n",
    "Example Input: \"listen\", \"silent\"\n",
    "Example Output: True"
   ]
  },
  {
   "cell_type": "code",
   "execution_count": null,
   "metadata": {},
   "outputs": [],
   "source": [
    "def are_anagrams(s1, s2):\n",
    "    return sorted(s1) == sorted(s2)\n",
    "\n",
    "s1 = \"listen\"\n",
    "s2 = \"silent\"\n",
    "print(are_anagrams(s1, s2))  # Output: True\n"
   ]
  },
  {
   "cell_type": "markdown",
   "metadata": {},
   "source": [
    "8. Flatten a Nested List\n",
    "Problem: Write a function to flatten a nested list structure into a single list.\n",
    "Example Input: [1, [2, [3, 4], 5], 6]\n",
    "Example Output: [1, 2, 3, 4, 5, 6]"
   ]
  },
  {
   "cell_type": "code",
   "execution_count": null,
   "metadata": {},
   "outputs": [],
   "source": [
    "def flatten_nested_list(nested_list):\n",
    "    flat_list = []\n",
    "    for item in nested_list:\n",
    "        if isinstance(item, list):\n",
    "            flat_list.extend(flatten_nested_list(item))\n",
    "        else:\n",
    "            flat_list.append(item)\n",
    "    return flat_list\n",
    "\n",
    "nested_list = [1, [2, [3, 4], 5], 6]\n",
    "print(flatten_nested_list(nested_list))  # Output: [1, 2, 3, 4, 5, 6]\n"
   ]
  },
  {
   "cell_type": "markdown",
   "metadata": {},
   "source": [
    "9. Find the First Non-Repeated Character in a String\n",
    "Problem: Write a function to find the first non-repeating character in a string.\n",
    "Example Input: \"swiss\"\n",
    "Example Output: 'w'"
   ]
  },
  {
   "cell_type": "code",
   "execution_count": null,
   "metadata": {},
   "outputs": [],
   "source": [
    "def first_non_repeated_char(s):\n",
    "    char_count = {}\n",
    "    for char in s:\n",
    "        char_count[char] = char_count.get(char, 0) + 1\n",
    "    for char in s:\n",
    "        if char_count[char] == 1:\n",
    "            return char\n",
    "    return None\n",
    "\n",
    "s = \"swiss\"\n",
    "print(first_non_repeated_char(s))  # Output: 'w'\n"
   ]
  },
  {
   "cell_type": "markdown",
   "metadata": {},
   "source": [
    "10. Implement a Queue Using Two Stacks\n",
    "Problem: Implement a queue using two stacks.\n",
    "Operations: enqueue, dequeue\n",
    "Example:\n",
    "enqueue(1), enqueue(2), dequeue() should return 1."
   ]
  },
  {
   "cell_type": "code",
   "execution_count": null,
   "metadata": {},
   "outputs": [],
   "source": [
    "class QueueUsingStacks:\n",
    "    def __init__(self):\n",
    "        self.stack1 = []\n",
    "        self.stack2 = []\n",
    "\n",
    "    def enqueue(self, item):\n",
    "        self.stack1.append(item)\n",
    "\n",
    "    def dequeue(self):\n",
    "        if not self.stack2:\n",
    "            while self.stack1:\n",
    "                self.stack2.append(self.stack1.pop())\n",
    "        if self.stack2:\n",
    "            return self.stack2.pop()\n",
    "        return None\n",
    "\n",
    "queue = QueueUsingStacks()\n",
    "queue.enqueue(1)\n",
    "queue.enqueue(2)\n",
    "print(queue.dequeue())  # Output: 1\n"
   ]
  },
  {
   "cell_type": "markdown",
   "metadata": {},
   "source": [
    "11. Count the Number of Vowels in a String\n",
    "Problem: Write a Python function to count the number of vowels in a string.\n",
    "Example Input: \"hello\"\n",
    "Example Output: 2"
   ]
  },
  {
   "cell_type": "code",
   "execution_count": null,
   "metadata": {},
   "outputs": [],
   "source": [
    "def count_vowels(s):\n",
    "    vowels = \"aeiouAEIOU\"\n",
    "    count = 0\n",
    "    for char in s:\n",
    "        if char in vowels:\n",
    "            count += 1\n",
    "    return count\n",
    "\n",
    "s = \"hello\"\n",
    "print(count_vowels(s))  # Output: 2\n"
   ]
  },
  {
   "cell_type": "markdown",
   "metadata": {},
   "source": [
    "12. Generate All Permutations of a String\n",
    "Problem: Write a function to generate all permutations of a string.\n",
    "Example Input: \"abc\"\n",
    "Example Output: ['abc', 'acb', 'bac', 'bca', 'cab', 'cba']"
   ]
  },
  {
   "cell_type": "code",
   "execution_count": null,
   "metadata": {},
   "outputs": [],
   "source": [
    "def generate_permutations(s):\n",
    "    if len(s) == 1:\n",
    "        return [s]\n",
    "    perms = []\n",
    "    for i, char in enumerate(s):\n",
    "        for perm in generate_permutations(s[:i] + s[i+1:]):\n",
    "            perms.append(char + perm)\n",
    "    return perms\n",
    "\n",
    "s = \"abc\"\n",
    "print(generate_permutations(s))  # Output: ['abc', 'acb', 'bac', 'bca', 'cab', 'cba']\n"
   ]
  },
  {
   "cell_type": "markdown",
   "metadata": {},
   "source": [
    "13. Find the Intersection of Two Lists\n",
    "Problem: Write a Python function to find the intersection of two lists.\n",
    "Example Input: [1, 2, 3, 4], [2, 4, 6, 8]\n",
    "Example Output: [2, 4]"
   ]
  },
  {
   "cell_type": "code",
   "execution_count": null,
   "metadata": {},
   "outputs": [],
   "source": [
    "def find_intersection(lst1, lst2):\n",
    "    return list(set(lst1) & set(lst2))\n",
    "\n",
    "lst1 = [1, 2, 3, 4]\n",
    "lst2 = [2, 4, 6, 8]\n",
    "print(find_intersection(lst1, lst2))  # Output: [2, 4]\n"
   ]
  },
  {
   "cell_type": "markdown",
   "metadata": {},
   "source": [
    "14. Implement a Binary Search Algorithm\n",
    "Problem: Write a Python function to perform binary search on a sorted list.\n",
    "Example Input: [1, 2, 3, 4, 5, 6, 7], target 4\n",
    "Example Output: 3 (index of 4 in the list)"
   ]
  },
  {
   "cell_type": "code",
   "execution_count": null,
   "metadata": {},
   "outputs": [],
   "source": [
    "def binary_search(lst, target):\n",
    "    left, right = 0, len(lst) - 1\n",
    "    while left <= right:\n",
    "        mid = (left + right) // 2\n",
    "        if lst[mid] == target:\n",
    "            return mid\n",
    "        elif lst[mid] < target:\n",
    "            left = mid + 1\n",
    "        else:\n",
    "            right = mid - 1\n",
    "    return -1\n",
    "\n",
    "lst = [1, 2, 3, 4, 5, 6, 7]\n",
    "target = 4\n",
    "print(binary_search(lst, target))  # Output: 3 (index of 4 in the list)\n"
   ]
  },
  {
   "cell_type": "markdown",
   "metadata": {},
   "source": [
    "15. Merge Two Sorted Lists\n",
    "Problem: Write a Python function to merge two sorted lists into one sorted list.\n",
    "Example Input: [1, 3, 5], [2, 4, 6]\n",
    "Example Output: [1, 2, 3, 4, 5, 6]\n"
   ]
  },
  {
   "cell_type": "code",
   "execution_count": null,
   "metadata": {},
   "outputs": [],
   "source": [
    "def merge_sorted_lists(lst1, lst2):\n",
    "    merged_list = []\n",
    "    i = j = 0\n",
    "    while i < len(lst1) and j < len(lst2):\n",
    "        if lst1[i] < lst2[j]:\n",
    "            merged_list.append(lst1[i])\n",
    "            i += 1\n",
    "        else:\n",
    "            merged_list.append(lst2[j])\n",
    "            j += 1\n",
    "    merged_list.extend(lst1[i:])\n",
    "    merged_list.extend(lst2[j:])\n",
    "    return merged_list\n",
    "\n",
    "lst1 = [1, 3, 5]\n",
    "lst2 = [2, 4, 6]\n",
    "print(merge_sorted_lists(lst1, lst2))  # Output: [1, 2, 3, 4, 5, 6]\n"
   ]
  },
  {
   "cell_type": "markdown",
   "metadata": {},
   "source": [
    "16. Rotate a Matrix\n",
    "Problem: Write a function to rotate a given n x n matrix 90 degrees clockwise.\n",
    "Example Input:\n",
    "csharp\n",
    "Copy code\n",
    "[\n",
    "  [1, 2, 3],\n",
    "  [4, 5, 6],\n",
    "  [7, 8, 9]\n",
    "]\n",
    "Example Output:\n",
    "csharp\n",
    "Copy code\n",
    "[\n",
    "  [7, 4, 1],\n",
    "  [8, 5, 2],\n",
    "  [9, 6, 3]\n",
    "]"
   ]
  },
  {
   "cell_type": "code",
   "execution_count": null,
   "metadata": {},
   "outputs": [],
   "source": [
    "def rotate_matrix(matrix):\n",
    "    n = len(matrix)\n",
    "    # Rotate the matrix 90 degrees clockwise\n",
    "    return [[matrix[n - j - 1][i] for j in range(n)] for i in range(n)]\n",
    "\n",
    "matrix = [\n",
    "    [1, 2, 3],\n",
    "    [4, 5, 6],\n",
    "    [7, 8, 9]\n",
    "]\n",
    "print(rotate_matrix(matrix))\n",
    "# Output: [[7, 4, 1], [8, 5, 2], [9, 6, 3]]\n"
   ]
  },
  {
   "cell_type": "markdown",
   "metadata": {},
   "source": [
    "17. Find the Longest Common Prefix\n",
    "Problem: Write a Python function to find the longest common prefix among a list of strings.\n",
    "Example Input: [\"flower\", \"flow\", \"flight\"]\n",
    "Example Output: \"fl\""
   ]
  },
  {
   "cell_type": "code",
   "execution_count": null,
   "metadata": {},
   "outputs": [],
   "source": [
    "def longest_common_prefix(strs):\n",
    "    if not strs:\n",
    "        return \"\"\n",
    "    prefix = strs[0]\n",
    "    for s in strs[1:]:\n",
    "        while not s.startswith(prefix):\n",
    "            prefix = prefix[:-1]\n",
    "            if not prefix:\n",
    "                return \"\"\n",
    "    return prefix\n",
    "\n",
    "strs = [\"flower\", \"flow\", \"flight\"]\n",
    "print(longest_common_prefix(strs))  # Output: \"fl\"\n"
   ]
  },
  {
   "cell_type": "markdown",
   "metadata": {},
   "source": [
    "18. Check if a Linked List is a Palindrome\n",
    "Problem: Given the head of a singly linked list, write a function to check if the list is a palindrome.\n",
    "Example Input: [1, 2, 3, 2, 1]\n",
    "Example Output: True"
   ]
  },
  {
   "cell_type": "code",
   "execution_count": null,
   "metadata": {},
   "outputs": [],
   "source": [
    "class ListNode:\n",
    "    def __init__(self, val=0, next=None):\n",
    "        self.val = val\n",
    "        self.next = next\n",
    "\n",
    "def is_palindrome(head):\n",
    "    # Convert linked list to list\n",
    "    vals = []\n",
    "    while head:\n",
    "        vals.append(head.val)\n",
    "        head = head.next\n",
    "    return vals == vals[::-1]\n",
    "\n",
    "# Example linked list: 1 -> 2 -> 3 -> 2 -> 1\n",
    "head = ListNode(1, ListNode(2, ListNode(3, ListNode(2, ListNode(1)))))\n",
    "print(is_palindrome(head))  # Output: True\n"
   ]
  },
  {
   "cell_type": "markdown",
   "metadata": {},
   "source": [
    "19. Merge Intervals\n",
    "Problem: Write a function to merge all overlapping intervals in a list of intervals.\n",
    "Example Input: [[1, 3], [2, 6], [8, 10], [15, 18]]\n",
    "Example Output: [[1, 6], [8, 10], [15, 18]]\n"
   ]
  },
  {
   "cell_type": "code",
   "execution_count": null,
   "metadata": {},
   "outputs": [],
   "source": [
    "def merge_intervals(intervals):\n",
    "    if not intervals:\n",
    "        return []\n",
    "    intervals.sort(key=lambda x: x[0])\n",
    "    merged = [intervals[0]]\n",
    "    for current in intervals[1:]:\n",
    "        last = merged[-1]\n",
    "        if current[0] <= last[1]:\n",
    "            last[1] = max(last[1], current[1])\n",
    "        else:\n",
    "            merged.append(current)\n",
    "    return merged\n",
    "\n",
    "intervals = [[1, 3], [2, 6], [8, 10], [15, 18]]\n",
    "print(merge_intervals(intervals))  # Output: [[1, 6], [8, 10], [15, 18]]\n"
   ]
  },
  {
   "cell_type": "markdown",
   "metadata": {},
   "source": [
    "20. Find the Majority Element\n",
    "Problem: Write a Python function to find the majority element in a list, which is an element that appears more than half the time.\n",
    "Example Input: [3, 3, 4, 2, 4, 4, 2, 4, 4]\n",
    "Example Output: 4"
   ]
  },
  {
   "cell_type": "code",
   "execution_count": null,
   "metadata": {},
   "outputs": [],
   "source": [
    "def majority_element(nums):\n",
    "    count, candidate = 0, None\n",
    "    for num in nums:\n",
    "        if count == 0:\n",
    "            candidate = num\n",
    "        count += (1 if num == candidate else -1)\n",
    "    return candidate\n",
    "\n",
    "nums = [3, 3, 4, 2, 4, 4, 2, 4, 4]\n",
    "print(majority_element(nums))  # Output: 4\n"
   ]
  },
  {
   "cell_type": "markdown",
   "metadata": {},
   "source": [
    "21. Count and Say\n",
    "Problem: Write a Python function to generate the nth term of the \"count-and-say\" sequence.\n",
    "Example Input: n = 4\n",
    "Example Output: \"1211\" (The sequence starts with \"1\", then \"11\", \"21\", \"1211\", ..."
   ]
  },
  {
   "cell_type": "code",
   "execution_count": null,
   "metadata": {},
   "outputs": [],
   "source": [
    "def count_and_say(n):\n",
    "    if n == 1:\n",
    "        return \"1\"\n",
    "    previous_term = count_and_say(n - 1)\n",
    "    result = []\n",
    "    count = 1\n",
    "    for i in range(1, len(previous_term)):\n",
    "        if previous_term[i] == previous_term[i - 1]:\n",
    "            count += 1\n",
    "        else:\n",
    "            result.append(str(count))\n",
    "            result.append(previous_term[i - 1])\n",
    "            count = 1\n",
    "    result.append(str(count))\n",
    "    result.append(previous_term[-1])\n",
    "    return ''.join(result)\n",
    "\n",
    "n = 4\n",
    "print(count_and_say(n))  # Output: \"1211\"\n"
   ]
  },
  {
   "cell_type": "markdown",
   "metadata": {},
   "source": [
    "22. Find the kth Largest Element in an Array\n",
    "Problem: Write a Python function to find the kth largest element in an unsorted array.\n",
    "Example Input: [3, 2, 1, 5, 6, 4], k = 2\n",
    "Example Output: 5"
   ]
  },
  {
   "cell_type": "code",
   "execution_count": null,
   "metadata": {},
   "outputs": [],
   "source": [
    "import heapq\n",
    "\n",
    "def find_kth_largest(nums, k):\n",
    "    return heapq.nlargest(k, nums)[-1]\n",
    "\n",
    "nums = [3, 2, 1, 5, 6, 4]\n",
    "k = 2\n",
    "print(find_kth_largest(nums, k))  # Output: 5\n"
   ]
  },
  {
   "cell_type": "markdown",
   "metadata": {},
   "source": [
    "23. Valid Parentheses\n",
    "Problem: Write a Python function to check if a given string containing just the characters '(', ')', '{', '}', '[' and ']' is valid.\n",
    "Example Input: \"()[]{}\"\n",
    "Example Output: True\n"
   ]
  },
  {
   "cell_type": "code",
   "execution_count": null,
   "metadata": {},
   "outputs": [],
   "source": [
    "def is_valid_parentheses(s):\n",
    "    stack = []\n",
    "    mapping = {\")\": \"(\", \"}\": \"{\", \"]\": \"[\"}\n",
    "    for char in s:\n",
    "        if char in mapping:\n",
    "            top_element = stack.pop() if stack else '#'\n",
    "            if mapping[char] != top_element:\n",
    "                return False\n",
    "        else:\n",
    "            stack.append(char)\n",
    "    return not stack\n",
    "\n",
    "s = \"()[]{}\"\n",
    "print(is_valid_parentheses(s))  # Output: True\n"
   ]
  },
  {
   "cell_type": "markdown",
   "metadata": {},
   "source": [
    "24. Climbing Stairs\n",
    "Problem: Write a function to calculate the number of distinct ways you can climb a staircase with n steps, where each time you can either climb 1 or 2 steps.\n",
    "Example Input: n = 3\n",
    "Example Output: 3 (ways: 1+1+1, 1+2, 2+1)\n"
   ]
  },
  {
   "cell_type": "code",
   "execution_count": null,
   "metadata": {},
   "outputs": [],
   "source": [
    "def climb_stairs(n):\n",
    "    if n <= 1:\n",
    "        return 1\n",
    "    first, second = 1, 1\n",
    "    for _ in range(2, n + 1):\n",
    "        first, second = second, first + second\n",
    "    return second\n",
    "\n",
    "n = 3\n",
    "print(climb_stairs(n))  # Output: 3\n"
   ]
  },
  {
   "cell_type": "markdown",
   "metadata": {},
   "source": [
    "25. Find All Subsets of a Set\n",
    "Problem: Write a Python function to find all subsets of a given set of numbers.\n",
    "Example Input: [1, 2, 3]\n",
    "Example Output: [[], [1], [2], [3], [1, 2], [1, 3], [2, 3], [1, 2, 3]]"
   ]
  },
  {
   "cell_type": "code",
   "execution_count": null,
   "metadata": {},
   "outputs": [],
   "source": [
    "def find_subsets(nums):\n",
    "    subsets = [[]]\n",
    "    for num in nums:\n",
    "        subsets += [curr + [num] for curr in subsets]\n",
    "    return subsets\n",
    "\n",
    "nums = [1, 2, 3]\n",
    "print(find_subsets(nums))  # Output: [[], [1], [2], [3], [1, 2], [1, 3], [2, 3], [1, 2, 3]]\n"
   ]
  },
  {
   "cell_type": "markdown",
   "metadata": {},
   "source": [
    "26. Zigzag Conversion\n",
    "Problem: Write a Python function to rearrange a given string in a zigzag pattern on a given number of rows.\n",
    "Example Input: \"PAYPALISHIRING\", numRows = 3\n",
    "Example Output: \"PAHNAPLSIIGYIR\""
   ]
  },
  {
   "cell_type": "code",
   "execution_count": null,
   "metadata": {},
   "outputs": [],
   "source": [
    "def zigzag_conversion(s, numRows):\n",
    "    if numRows == 1:\n",
    "        return s\n",
    "    rows = [''] * numRows\n",
    "    current_row, step = 0, 1\n",
    "    for char in s:\n",
    "        rows[current_row] += char\n",
    "        if current_row == 0 or current_row == numRows - 1:\n",
    "            step = -step\n",
    "        current_row += step\n",
    "    return ''.join(rows)\n",
    "\n",
    "s = \"PAYPALISHIRING\"\n",
    "numRows = 3\n",
    "print(zigzag_conversion(s, numRows))  # Output: \"PAHNAPLSIIGYIR\"\n"
   ]
  },
  {
   "cell_type": "markdown",
   "metadata": {},
   "source": [
    "27. Container with Most Water\n",
    "Problem: Write a Python function to find two lines from a list of heights that together with the x-axis form a container, which would hold the most water.\n",
    "Example Input: [1,8,6,2,5,4,8,3,7]\n",
    "Example Output: 49"
   ]
  },
  {
   "cell_type": "code",
   "execution_count": null,
   "metadata": {},
   "outputs": [],
   "source": [
    "def max_area(height):\n",
    "    left, right = 0, len(height) - 1\n",
    "    max_area = 0\n",
    "    while left < right:\n",
    "        width = right - left\n",
    "        max_area = max(max_area, min(height[left], height[right]) * width)\n",
    "        if height[left] < height[right]:\n",
    "            left += 1\n",
    "        else:\n",
    "            right -= 1\n",
    "    return max_area\n",
    "\n",
    "height = [1, 8, 6, 2, 5, 4, 8, 3, 7]\n",
    "print(max_area(height))  # Output: 49\n"
   ]
  },
  {
   "cell_type": "markdown",
   "metadata": {},
   "source": [
    "28. Maximum Subarray Sum\n",
    "Problem: Write a Python function to find the contiguous subarray within a one-dimensional array of numbers which has the largest sum.\n",
    "Example Input: [-2,1,-3,4,-1,2,1,-5,4]\n",
    "Example Output: 6 (subarray: [4,-1,2,1])"
   ]
  },
  {
   "cell_type": "code",
   "execution_count": null,
   "metadata": {},
   "outputs": [],
   "source": [
    "def max_subarray_sum(nums):\n",
    "    max_sum = current_sum = nums[0]\n",
    "    for num in nums[1:]:\n",
    "        current_sum = max(num, current_sum + num)\n",
    "        max_sum = max(max_sum, current_sum)\n",
    "    return max_sum\n",
    "\n",
    "nums = [-2, 1, -3, 4, -1, 2, 1, -5, 4]\n",
    "print(max_subarray_sum(nums))  # Output: 6\n"
   ]
  },
  {
   "cell_type": "markdown",
   "metadata": {},
   "source": [
    "29. Product of Array Except Self\n",
    "Problem: Write a Python function to return an array output such that output[i] is equal to the product of all the elements of the input array except the element at index i.\n",
    "Example Input: [1,2,3,4]\n",
    "Example Output: [24,12,8,6]"
   ]
  },
  {
   "cell_type": "code",
   "execution_count": null,
   "metadata": {},
   "outputs": [],
   "source": [
    "def product_except_self(nums):\n",
    "    n = len(nums)\n",
    "    output = [1] * n\n",
    "    left_product = 1\n",
    "    for i in range(n):\n",
    "        output[i] = left_product\n",
    "        left_product *= nums[i]\n",
    "    right_product = 1\n",
    "    for i in range(n - 1, -1, -1):\n",
    "        output[i] *= right_product\n",
    "        right_product *= nums[i]\n",
    "    return output\n",
    "\n",
    "nums = [1, 2, 3, 4]\n",
    "print(product_except_self(nums))  # Output: [24, 12, 8, 6]\n"
   ]
  },
  {
   "cell_type": "markdown",
   "metadata": {},
   "source": [
    "30. Find the Missing Number in a Sequence\n",
    "Problem: Given an array containing n distinct numbers taken from 0, 1, 2, ..., n, write a Python function to find the one that is missing from the array.\n",
    "Example Input: [3, 0, 1]\n",
    "Example Output: 2"
   ]
  },
  {
   "cell_type": "code",
   "execution_count": null,
   "metadata": {},
   "outputs": [],
   "source": [
    "def find_missing_number(nums):\n",
    "    n = len(nums)\n",
    "    total = n * (n + 1) // 2\n",
    "    return total - sum(nums)\n",
    "\n",
    "nums = [3, 0, 1]\n",
    "print(find_missing_number(nums))  # Output: 2\n"
   ]
  },
  {
   "cell_type": "markdown",
   "metadata": {},
   "source": []
  }
 ],
 "metadata": {
  "kernelspec": {
   "display_name": "LangChain",
   "language": "python",
   "name": "python3"
  },
  "language_info": {
   "codemirror_mode": {
    "name": "ipython",
    "version": 3
   },
   "file_extension": ".py",
   "mimetype": "text/x-python",
   "name": "python",
   "nbconvert_exporter": "python",
   "pygments_lexer": "ipython3",
   "version": "3.11.9"
  },
  "orig_nbformat": 4
 },
 "nbformat": 4,
 "nbformat_minor": 2
}
