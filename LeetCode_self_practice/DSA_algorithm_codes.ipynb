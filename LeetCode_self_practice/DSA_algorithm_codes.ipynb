{
 "cells": [
  {
   "cell_type": "code",
   "execution_count": 29,
   "metadata": {},
   "outputs": [],
   "source": [
    "#Q1: Write a Python Program to Check if a String is a Palindrome or Not?\n",
    "# Q2: Reversed number in Python.\n",
    "# Q3: Reversed string in Python.\n",
    "# Q4: How do you calculate the number of vowels and consonant peresent in a strings.\n",
    "#Q5: Binary search tree algorithm.\n",
    "#Q6:-Binary tree and Binary search tree algorithm.\n",
    "#Q7: Recursion programming.\n",
    "#Q8. All/ Bubble sort algorithm  (shorting list array: numeric & string).\n",
    "#Q9: Counts the alphabets using hashtable.\n",
    "#Question given by the Rishabh."
   ]
  },
  {
   "cell_type": "code",
   "execution_count": 2,
   "metadata": {},
   "outputs": [
    {
     "name": "stdout",
     "output_type": "stream",
     "text": [
      "The string is a palindrome\n"
     ]
    }
   ],
   "source": [
    "# Q1:Write a Python Program to Check if a String is a Palindrome or Not\n",
    "\n",
    "string=input(\"Enter string:\")\n",
    "if(string==string[::-1]):\n",
    "    print(\"The string is a palindrome\")\n",
    "else:\n",
    "    print(\"The string isn't a palindrome\")\n"
   ]
  },
  {
   "cell_type": "code",
   "execution_count": 5,
   "metadata": {},
   "outputs": [
    {
     "name": "stdout",
     "output_type": "stream",
     "text": [
      "Reversed order : 456521\n"
     ]
    }
   ],
   "source": [
    "# Q2: Reversed number in Python\n",
    "num= 125654\n",
    "rev_num=0\n",
    "while (num>0):\n",
    "    reminder = num%10\n",
    "    rev_num = (rev_num*10)+reminder\n",
    "    num=num//10\n",
    "print(\"Reversed order :\", rev_num)\n",
    "###------- reveresed function\n",
    "def rev_numb(numb):\n",
    "    rev_numb=0\n",
    "    while (numb>0):\n",
    "        reminder= numb%10\n",
    "        rev_numb= rev_numb*10+reminder\n",
    "        numb= numb//10\n",
    "    return rev_numb    \n",
    "rev_numb(567897)  "
   ]
  },
  {
   "cell_type": "code",
   "execution_count": 92,
   "metadata": {},
   "outputs": [
    {
     "data": {
      "text/plain": [
       "'nahseez'"
      ]
     },
     "execution_count": 92,
     "metadata": {},
     "output_type": "execute_result"
    }
   ],
   "source": [
    "# Q3: Reversed string in Python\n",
    "def rev_str(str):\n",
    "    n= len(str)\n",
    "    rev_string=''\n",
    "    for i in range(n):\n",
    "        rev_string=rev_string+(str[(n-1)-i])\n",
    "    return rev_string  \n",
    "        \n",
    "str='zeeshan'        \n",
    "rev_str(str)   \n",
    "####---- func::::::::\n",
    "# def revers_func(str):\n",
    "#     rev_str=''\n",
    "#     for i in str:\n",
    "#         rev_str=i+rev_str\n",
    "#     return rev_str\n",
    "# revers_func(\"ZEESHAN\")  \n",
    "\n",
    " "
   ]
  },
  {
   "cell_type": "code",
   "execution_count": null,
   "metadata": {},
   "outputs": [],
   "source": []
  },
  {
   "cell_type": "code",
   "execution_count": 23,
   "metadata": {},
   "outputs": [
    {
     "name": "stdout",
     "output_type": "stream",
     "text": [
      "Total number of vowels persent in string : 19\n",
      "Total number of consonant persent in string : 44\n"
     ]
    }
   ],
   "source": [
    "# Q4: How do you calculate the number of vowels and consonant peresent in a string\n",
    "# vowels=['a','e','i','o','u']\n",
    "\n",
    "# vowels_cnt=0\n",
    "# consonant_cnt =0\n",
    "\n",
    "# strn=\"I am your best friend. Why don't you consider me as your friend\"\n",
    "\n",
    "# for i in strn.lower():\n",
    "#     if i in vowels:\n",
    "#         vowels_cnt=vowels_cnt+1\n",
    "#     else:\n",
    "#         consonant_cnt= consonant_cnt+1\n",
    "\n",
    "# print('Total number of vowels persent in string :', vowels_cnt)\n",
    "# print('Total number of consonant persent in string :', consonant_cnt)\n",
    "######----------------------------------------------------\n",
    "\n",
    "def counts_alpha(strn):\n",
    "    vowels=['a','e','i','o','u']\n",
    "    vowels_cnt=0\n",
    "    consonant_cnt =0\n",
    "    \n",
    "    for i in strn.lower():\n",
    "        if i in vowels:\n",
    "            vowels_cnt+=1\n",
    "        else:\n",
    "            consonant_cnt+=1\n",
    "    return (f\"vowels counts: {vowels_cnt}, consonant counts:{consonant_cnt}\")\n",
    "\n",
    "strn=\"I am your best friend. Why don't you consider me as your friend\"\n",
    "counts_alpha(strn)\n",
    "        "
   ]
  },
  {
   "cell_type": "markdown",
   "metadata": {},
   "source": [
    "# All searching algorithm"
   ]
  },
  {
   "cell_type": "code",
   "execution_count": 33,
   "metadata": {},
   "outputs": [
    {
     "data": {
      "text/plain": [
       "1"
      ]
     },
     "execution_count": 33,
     "metadata": {},
     "output_type": "execute_result"
    }
   ],
   "source": [
    "#---------------------------------------------------\n",
    "### Q: Linear sear method\n",
    "# def linear_search(arr, target):\n",
    "#     for index, element in enumerate(arr):\n",
    "#         if element == target:\n",
    "#             return index\n",
    "#     return -1\n",
    "        \n",
    "# arr=[4, 7, 8, 12, 45, 99, 102, 702, 10987, 5666]\n",
    "# n=99\n",
    "# linear_search(arr,n)\n",
    "###---------------------------------------------------\n",
    "# Q5: Binary search algorithm\n",
    "def binary_search(arr, target):\n",
    "    start_index=0\n",
    "    end_index= len(arr)-1\n",
    "    mid_index= 0\n",
    "    \n",
    "    while start_index <= end_index:\n",
    "        mid_index=(start_index + end_index)//2\n",
    "        if arr[mid_index] == target:\n",
    "            return mid_index\n",
    "        elif arr[mid_index] < target:\n",
    "            start_index = mid_index +1\n",
    "        else:\n",
    "            end_index = mid_index -1\n",
    "    return -1\n",
    "\n",
    "arr=[4, 7, 8, 12, 45, 99, 102, 702, 10987, 5666]\n",
    "n=7\n",
    "binary_search(arr,n)"
   ]
  },
  {
   "cell_type": "code",
   "execution_count": 28,
   "metadata": {},
   "outputs": [
    {
     "name": "stdout",
     "output_type": "stream",
     "text": [
      "USA is in the list True\n",
      "Sweeden is in the list False\n"
     ]
    }
   ],
   "source": [
    "#Q6:-Binary tree and Binary search tree algorithm\n",
    "\n",
    "class BinarySearchTreeNode:\n",
    "    def __init__(self, data):\n",
    "        self.data = data\n",
    "        self.left = None\n",
    "        self.right = None\n",
    "    \n",
    "    def add_child(self, data):\n",
    "        if data == self.data:\n",
    "            return\n",
    "        if data <self.data:\n",
    "            # add data in the left\n",
    "            if self.left:\n",
    "                self.left.add_child(data) \n",
    "            else:\n",
    "                self.left = BinarySearchTreeNode(data)\n",
    "        else:\n",
    "            if self.right:\n",
    "                self.right.add_child(data)\n",
    "            else:\n",
    "                self.right = BinarySearchTreeNode(data)\n",
    "                \n",
    "    def in_order_traversal(self):\n",
    "        elements=[]\n",
    "        # visit left tree first\n",
    "        if self.left:\n",
    "            elements+= self.left.in_order_traversal()\n",
    "        # visit base node\n",
    "        elements.append(self.data)\n",
    "        # visit right tree\n",
    "        if self.right:\n",
    "            elements += self.right.in_order_traversal()\n",
    "        return elements  \n",
    "    def search( self, val):\n",
    "        if self.data == val:\n",
    "            return True\n",
    "        if val < self.data:\n",
    "            # val might be in left subtree\n",
    "            if self.left:\n",
    "                return self.left.search(val)\n",
    "            else:\n",
    "                return False\n",
    "        if val > self.data:\n",
    "            \n",
    "            # val might be in the right tree\n",
    "            if self.right:\n",
    "                return self.right.search(val)\n",
    "            else:\n",
    "                return False\n",
    "          \n",
    "                  \n",
    "def build_tree(elements):\n",
    "    root= BinarySearchTreeNode(elements[0])\n",
    "    for i in range(1, len(elements)):\n",
    "        root.add_child(elements[i])\n",
    "    return root\n",
    "        \n",
    "if __name__=='__main__':\n",
    "    numbers= [17,4,1,20,9,23,18,34]\n",
    "    countries=['India','Pakistan','Germany','USA','China','India','UK','USA']\n",
    "    country_tree= build_tree(countries)\n",
    "    \n",
    "    # print( numbers_tree.search(20))\n",
    "    print( \"USA is in the list\", country_tree.search(\"USA\"))\n",
    "    print( \"Sweeden is in the list\", country_tree.search(\"Sweeden\"))\n"
   ]
  },
  {
   "cell_type": "code",
   "execution_count": 3,
   "metadata": {},
   "outputs": [
    {
     "name": "stdout",
     "output_type": "stream",
     "text": [
      "500\n"
     ]
    }
   ],
   "source": [
    "#Q7: Recursion programming \n",
    "# 1st method\n",
    "# def greet():\n",
    "#     print(\"Hello\")\n",
    "#     greet()\n",
    "# print(greet())\n",
    "\n",
    "#2nd method\n",
    "\n",
    "import sys\n",
    "sys.setrecursionlimit(500)\n",
    "print(sys.getrecursionlimit())\n",
    "\n",
    "i=0\n",
    "def greet():\n",
    "    global i\n",
    "    i+=1\n",
    "    print(\"Hello\", i)\n",
    "    greet()\n",
    "    \n",
    "# greet()    \n",
    "#         return n\n",
    "#     else:\n"
   ]
  },
  {
   "cell_type": "markdown",
   "metadata": {},
   "source": [
    "# Sort Algorithms"
   ]
  },
  {
   "cell_type": "code",
   "execution_count": 120,
   "metadata": {},
   "outputs": [
    {
     "name": "stdout",
     "output_type": "stream",
     "text": [
      "[1, 2, 25, 45, 55, 600]\n"
     ]
    }
   ],
   "source": [
    "\n",
    "# Q8: Bubble sort algorithm  (shorting list array: numeric & string)\n",
    "###------------------------------------------------------\n",
    "\n",
    "## 1st-method--Bubble sort\n",
    "# def bubble_sort(arr):\n",
    "#     size=len(arr)\n",
    "#     for i in range(size-1):\n",
    "#         for j in range(size-1):\n",
    "#             if arr[j]>arr[j+1]:\n",
    "#                 tmp= arr[j]\n",
    "#                 arr[j]=arr[j+1]\n",
    "#                 arr[j+1]=tmp\n",
    "###---------------------------------------------------\n",
    "\n",
    "## 1st-Method-- Bubble sort\n",
    "# def bubble_sort(arr):\n",
    "#     n = len(arr)\n",
    "#     for i in range(n):\n",
    "#         for j in range(0, n-i-1):\n",
    "#             if arr[j]>arr[j+1]:\n",
    "#                 arr[j],arr[j+1]=arr[j+1], arr[j]\n",
    "#     return arr   \n",
    "###-----------------------------------------------------\n",
    "\n",
    "### 3rd- Insersion sort method  :::: link:https://www.youtube.com/watch?v=9j7llneJ77o\n",
    "# def insert_sort(arr):\n",
    "#     n= len(arr)\n",
    "#     for i in range(1,n):\n",
    "#         key=arr[i]\n",
    "#         j=i-1\n",
    "#         while j>=0 and key<arr[j]:\n",
    "#             arr[j+1]=arr[j]\n",
    "#             j-=1\n",
    "#         arr[j+1]=key    \n",
    "\n",
    "###------------------------------------------------------------\n",
    "\n",
    "#### 4th: Merge sort method :::: link::https://www.youtube.com/watch?v=nCNfu_zNhyI\n",
    "\n",
    "# def merge_sort(arr):\n",
    "#     if len(arr)<=1:\n",
    "#         return arr\n",
    "    \n",
    "#     mid= len(arr)//2\n",
    "    \n",
    "#     left=arr[:mid]\n",
    "#     right=arr[mid:]\n",
    "    \n",
    "#     left=merge_sort(left)\n",
    "#     right= merge_sort(right)\n",
    "#     return merge_two_sorted_arr(left, right)\n",
    "    \n",
    "    \n",
    "\n",
    "# def merge_two_sorted_arr(a,b):\n",
    "#     sorted_list=[]\n",
    "#     len_a = len(a)\n",
    "#     len_b = len(b)\n",
    "#     i=0\n",
    "#     j=0\n",
    "#     while i < len_a and j < len_b:\n",
    "#         if a[i]<=b[j]:\n",
    "#             sorted_list.append(a[i])\n",
    "#             i+=1\n",
    "#         else:\n",
    "#             sorted_list.append(b[j])\n",
    "#             j+=1\n",
    "#     while i< len_a:\n",
    "#         sorted_list.append(a[i])\n",
    "#         i+=1\n",
    "#     while j< len_b:\n",
    "#         sorted_list.append(b[j]) \n",
    "#         j+=1           \n",
    "#     return sorted_list\n",
    "\n",
    "# arr=[5,8,12,2,4,9,45,51]\n",
    "# merge_sort(arr)     \n",
    "###-----------------------------------------------------\n",
    "        \n",
    "# 5th- Quick sort Algorithm  ::::https://www.youtube.com/watch?v=5iSZ7mh_RAk&list=PLeo1K3hjS3uu_n_a__MI_KktGTLYopZ12&index=15\n",
    "# def swap(a, b, arr):\n",
    "#     if a != b:\n",
    "#         arr[a], arr[b] = arr[b], arr[a]\n",
    "\n",
    "# def partition(arr):\n",
    "#     pivot_index = 0\n",
    "#     pivot = arr[pivot_index]\n",
    "    \n",
    "#     start = pivot_index + 1\n",
    "#     end = len(arr) - 1\n",
    "    \n",
    "#     while True:\n",
    "#         while start <= end and arr[start] <= pivot:\n",
    "#             start += 1\n",
    "#         while start <= end and arr[end] > pivot:\n",
    "#             end -= 1\n",
    "#         if start <= end:\n",
    "#             swap(start, end, arr)\n",
    "#         else:\n",
    "#             break\n",
    "    \n",
    "#     swap(pivot_index, end, arr)\n",
    "#     return end\n",
    "\n",
    "# def quick_sort(arr):\n",
    "#     if len(arr) <= 1:\n",
    "#         return arr\n",
    "    \n",
    "#     pivot_index = partition(arr)\n",
    "    \n",
    "#     left_part = quick_sort(arr[:pivot_index])\n",
    "#     right_part = quick_sort(arr[pivot_index + 1:])\n",
    "    \n",
    "#     return left_part + [arr[pivot_index]] + right_part\n",
    "\n",
    "# arr = [29, 9, 2, 7, 11, 15, 28]\n",
    "# sorted_arr = quick_sort(arr)\n",
    "# print(sorted_arr)\n",
    "\n",
    "    \n",
    "######-----------------------------------------------------\n",
    "### Selection sort Algorithm  ::::https://www.youtube.com/watch?v=hhkLdjIimlw&list=PLeo1K3hjS3uu_n_a__MI_KktGTLYopZ12&index=19\n",
    "\n",
    "\n",
    "def selection_sort(arr):\n",
    "    size = len(arr)\n",
    "    \n",
    "    for i in range(size):\n",
    "        min_index = i\n",
    "        for j in range(min_index + 1, size):\n",
    "            if arr[j] < arr[min_index]:\n",
    "                min_index = j\n",
    "        if i != min_index:   \n",
    "            arr[i], arr[min_index] = arr[min_index], arr[i]\n",
    "    return arr\n",
    "\n",
    "arr = [25, 45, 55, 2, 600,1]\n",
    "sorted_arr = selection_sort(arr)\n",
    "print(sorted_arr)\n",
    "\n"
   ]
  },
  {
   "cell_type": "markdown",
   "metadata": {},
   "source": [
    "# Counts alphabet using Hashtable"
   ]
  },
  {
   "cell_type": "code",
   "execution_count": 14,
   "metadata": {},
   "outputs": [
    {
     "name": "stdout",
     "output_type": "stream",
     "text": [
      "{'a': 2, 'b': 2, 'c': 1, 'v': 1, 'e': 3}\n",
      "Count of all characters in ZeeshanHaleem {'Z': 1, 'e': 4, 's': 1, 'h': 1, 'a': 2, 'n': 1, 'H': 1, 'l': 1, 'm': 1}\n"
     ]
    }
   ],
   "source": [
    "#Q9: Counts the alphabets using hashtable\n",
    "#1st method\n",
    "my_list=['a','b','c','a','v','b', 'e','e','e']\n",
    "freq ={}\n",
    "for item in my_list:\n",
    "      if(item in freq):\n",
    "          freq[item]+=1\n",
    "      else:\n",
    "          freq[item]=1\n",
    "print(freq)\n",
    "\n",
    "#2nd method\n",
    "\n",
    "test_str= 'ZeeshanHaleem'\n",
    "\n",
    "all_freq={}\n",
    "for i in test_str:\n",
    "    if i in all_freq:\n",
    "        all_freq[i]+=1\n",
    "    else:\n",
    "        all_freq[i]=1\n",
    "        \n",
    "print(\"Count of all characters in ZeeshanHaleem\", all_freq)     \n",
    "#---------\n",
    "dict = {'a':0, 'b':0,........,'z':0}\n",
    "all_freq[i] =+1 \n",
    "\n",
    "   \n"
   ]
  },
  {
   "cell_type": "code",
   "execution_count": 38,
   "metadata": {},
   "outputs": [
    {
     "name": "stdout",
     "output_type": "stream",
     "text": [
      "{'a': 2, 'b': 0, 'c': 0, 'd': 0, 'e': 4, 'f': 0, 'g': 0, 'h': 2, 'i': 0, 'j': 0, 'k': 0, 'l': 1, 'm': 1, 'n': 1, 'o': 0, 'p': 0, 'q': 0, 'r': 0, 's': 1, 't': 0, 'u': 0, 'v': 0, 'w': 0, 'x': 0, 'y': 0, 'z': 1}\n"
     ]
    }
   ],
   "source": [
    "import string\n",
    "\n",
    "d = dict.fromkeys(string.ascii_lowercase, 0)\n",
    "\n",
    "test_str= 'zeeshanhaleem'\n",
    "\n",
    "for i in test_str:\n",
    "        d[i]+=1\n",
    "print(d)    "
   ]
  },
  {
   "cell_type": "code",
   "execution_count": 36,
   "metadata": {},
   "outputs": [
    {
     "data": {
      "text/plain": [
       "{'a': 0,\n",
       " 'b': 0,\n",
       " 'c': 0,\n",
       " 'd': 0,\n",
       " 'e': 0,\n",
       " 'f': 0,\n",
       " 'g': 0,\n",
       " 'h': 0,\n",
       " 'i': 0,\n",
       " 'j': 0,\n",
       " 'k': 0,\n",
       " 'l': 0,\n",
       " 'm': 0,\n",
       " 'n': 0,\n",
       " 'o': 0,\n",
       " 'p': 0,\n",
       " 'q': 0,\n",
       " 'r': 0,\n",
       " 's': 0,\n",
       " 't': 0,\n",
       " 'u': 0,\n",
       " 'v': 0,\n",
       " 'w': 0,\n",
       " 'x': 0,\n",
       " 'y': 0,\n",
       " 'z': 0}"
      ]
     },
     "execution_count": 36,
     "metadata": {},
     "output_type": "execute_result"
    }
   ],
   "source": [
    "import string\n",
    "\n",
    "d = dict.fromkeys(string.ascii_lowercase, 0)\n",
    "d"
   ]
  },
  {
   "cell_type": "code",
   "execution_count": null,
   "metadata": {},
   "outputs": [],
   "source": []
  },
  {
   "cell_type": "code",
   "execution_count": 25,
   "metadata": {},
   "outputs": [
    {
     "name": "stdout",
     "output_type": "stream",
     "text": [
      "{'r': 2, 'i': 2, 's': 2, 'h': 4, 'a': 2, 'b': 2, ',': 1, ' ': 1}\n",
      "None\n"
     ]
    }
   ],
   "source": [
    "import string\n",
    "def LetterCount(str):\n",
    "    str= str.lower().strip()\n",
    "    str = str.strip(string.punctuation)\n",
    "    list1=list(str)\n",
    "    lcDict= {}\n",
    "    for l in list1:\n",
    "        if l in lcDict:\n",
    "            lcDict[l] +=1\n",
    "        else:\n",
    "            lcDict[l]= 1\n",
    "    print(lcDict)\n",
    "\n",
    "print(LetterCount(\"Rishabh, Rishabh\"))"
   ]
  },
  {
   "cell_type": "code",
   "execution_count": 16,
   "metadata": {},
   "outputs": [],
   "source": [
    "letter_count = dict([(chr(i),0) for i in range(97,123)])\n",
    "# letter_count"
   ]
  },
  {
   "cell_type": "code",
   "execution_count": 10,
   "metadata": {},
   "outputs": [
    {
     "name": "stdout",
     "output_type": "stream",
     "text": [
      "The count of all characters in string is :\n",
      " {'r': 2, 'n': 1, 'd': 1, 'e': 1, 'R': 1, 't': 1, 'b': 1, ' ': 4, 'a': 3, 'i': 3, 'g': 1, 'h': 1, 'o': 2, 's': 2}\n"
     ]
    }
   ],
   "source": [
    "test_str = \"Rishab is a good trainer\"\n",
    "  \n",
    "# using set() + count() to get count \n",
    "# of each element in string \n",
    "res = {i : test_str.count(i) for i in set(test_str)}\n",
    "  \n",
    "# printing result \n",
    "print (\"The count of all characters in string is :\\n \"\n",
    "                                               +  str(res))"
   ]
  },
  {
   "cell_type": "code",
   "execution_count": null,
   "metadata": {},
   "outputs": [],
   "source": [
    "# finding the pairs in such a way that it satifies the k value\n",
    "arr=[4,5,1,-3,6]\n",
    "k=11\n",
    "\n",
    "def findPair(arr, k):\n",
    "    # your code here\n",
    "    for i in enumerate(arr):\n",
    "        for j in enumerate(arr):\n",
    "                if (i[1]+j[1]==k):\n",
    "                    print('There is a pair of {}, {} that is equal to {}'.format(i[1], j[1],k))\n",
    "                else: \n",
    "                    print('There is not a pait that is equal to {}'.format(k))\n",
    "\n",
    "findPair(arr, k)    "
   ]
  },
  {
   "cell_type": "code",
   "execution_count": null,
   "metadata": {},
   "outputs": [],
   "source": [
    "# finding the pairs in such a way that it satifies the k value\n",
    "arr=[4,5,1,-3,6]\n",
    "k=11\n",
    "\n",
    "def findPair(arr, k):\n",
    "    left= 0\n",
    "    right= len(arr)-1\n",
    "\n",
    "    while (left<right):\n",
    "        if (arr[left]+arr[right]==k):\n",
    "            return 'These values are {} and {}'.format(arr[left], arr[right]),True\n",
    "        elif (arr[left]+arr[right]<k):\n",
    "            left=left+1\n",
    "        else:\n",
    "            right=right+1\n",
    "    return  False\n",
    "findPair(arr, k)    \n"
   ]
  },
  {
   "cell_type": "code",
   "execution_count": null,
   "metadata": {},
   "outputs": [],
   "source": [
    "### Find the first repeating character in the given string\n",
    "\n",
    "# Parameters:\n",
    "# str = \"programming\"\n",
    "# str = \"probability\"\n",
    "# str = \"inside code\"\n",
    "str = \"abcd\"\n",
    "# return type: char\n",
    "\n",
    "def firstRepeatingCharacter(str):\n",
    "    left=0\n",
    "    right= len(str)-1\n",
    "    while (left<right):\n",
    "        if (str[left]==str[right]):\n",
    "            return str[left]\n",
    "        elif (str[left]!=str[right]):\n",
    "            left=left+1\n",
    "        else:\n",
    "            right= right-1\n",
    "    return 'There are no repeating characters'\n",
    "\n",
    "firstRepeatingCharacter(str)"
   ]
  },
  {
   "cell_type": "code",
   "execution_count": null,
   "metadata": {},
   "outputs": [],
   "source": [
    "### Find the first repeating character in the given string\n",
    "\n",
    "# Parameters:\n",
    "# str = \"programming\"\n",
    "# str = \"probability\"\n",
    "# str = \"inside code\"\n",
    "# str = \"abcd\"\n",
    "str = \"responsible\"\n",
    "\n",
    "# return type: char\n",
    "\n",
    "def firstRepeatingCharacter(str):\n",
    "    for i in range(len(str)):\n",
    "        for j in range(len(str)):\n",
    "            if (i!=j) & (str[i] == str[j]):\n",
    "                return str[i]\n",
    "    else:\n",
    "        return 'There is no repeating character'\n",
    "        \n",
    "firstRepeatingCharacter(str)"
   ]
  },
  {
   "cell_type": "markdown",
   "metadata": {},
   "source": [
    "# Remove duplicate enties"
   ]
  },
  {
   "cell_type": "code",
   "execution_count": null,
   "metadata": {},
   "outputs": [],
   "source": [
    "# Parameters:\n",
    "arr = [4, 2, 5, 3, 3, 1, 2, 4, 1, 5, 5, 5, 3, 1]\n",
    "\n",
    "def removeDuplicates(arr):\n",
    "    a=[]\n",
    "    for i in range(len(arr)):\n",
    "        if arr[i] not in a:\n",
    "            a.append(arr[i])\n",
    "    return a        \n",
    "\n",
    "removeDuplicates(arr)"
   ]
  },
  {
   "cell_type": "code",
   "execution_count": null,
   "metadata": {},
   "outputs": [],
   "source": [
    "# Parameters:\n",
    "arr = [4, 2, 5, 3, 3, 1, 2, 4, 1, 5, 5, 5, 3, 1]\n",
    "\n",
    "def removeDuplicates(arr):\n",
    "    a=[]\n",
    "    for element in arr:\n",
    "        if element not in a:\n",
    "            a.append(element)\n",
    "    return a        \n",
    "\n",
    "removeDuplicates(arr)"
   ]
  },
  {
   "cell_type": "code",
   "execution_count": null,
   "metadata": {},
   "outputs": [],
   "source": [
    "arr=[4, 2, 5, 3, 3, 1, 2, 4, 1, 5, 5, 5, 3, 1]\n",
    "def removeDuplicates(arr):\n",
    "    nonDuplicates={}\n",
    "    # your code here\n",
    "    for element in arr:\n",
    "        nonDuplicates[element]=True\n",
    "    return list(nonDuplicates.keys())    \n",
    "removeDuplicates(arr)"
   ]
  },
  {
   "cell_type": "markdown",
   "metadata": {},
   "source": [
    "# Finding the Duplicated"
   ]
  },
  {
   "cell_type": "code",
   "execution_count": null,
   "metadata": {},
   "outputs": [],
   "source": [
    "# Parameters:\n",
    "# arr = [4, 2, 5, 3, 3, 1, 2, 4, 1, 5, 5, 5, 3, 1]\n",
    "arr = [4, 2, 1, 3, 1]\n",
    "\n",
    "def findDuplicate(arr):\n",
    "    a=[]\n",
    "    for i in range(len(arr)):\n",
    "        for j in range(i+1,len(arr)):\n",
    "            if arr[i]==arr[j]:\n",
    "                a.append(arr[i])\n",
    "    return a        \n",
    "\n",
    "findDuplicate(arr)"
   ]
  },
  {
   "cell_type": "code",
   "execution_count": null,
   "metadata": {},
   "outputs": [],
   "source": [
    "# Parameters:\n",
    "# arr = [4, 2, 5, 3, 3, 1, 2, 4, 1, 5, 5, 5, 3, 1]\n",
    "arr = [4, 2, 1, 3, 1]\n",
    "\n",
    "def findDuplicate(arr):\n",
    "    for i in range(len(arr)):\n",
    "        for j in range(i+1,len(arr)):\n",
    "            if arr[i]==arr[j]:\n",
    "                return arr[i]      \n",
    "\n",
    "findDuplicate(arr)"
   ]
  },
  {
   "cell_type": "markdown",
   "metadata": {},
   "source": [
    "# Longest substring without repeating the first character"
   ]
  },
  {
   "cell_type": "code",
   "execution_count": null,
   "metadata": {},
   "outputs": [],
   "source": [
    "str = \"abcdbeghef\"\n",
    "\n",
    "def longestSubstring(str):\n",
    "    # initialize a dictionary to store the last occurrence of each character\n",
    "    last_seen = {}\n",
    "    # initialize two pointers to track the start and end of the current substring\n",
    "    start = 0\n",
    "    end = 0\n",
    "    # initialize a variable to keep track of the length of the longest substring\n",
    "    max_len = a\n",
    "    \n",
    "    for i, char in enumerate(str):\n",
    "        # check if the current character has been seen before and update the start pointer accordingly\n",
    "        # if char in last_seen and last_seen[char] >= start:\n",
    "        if char in last_seen:\n",
    "            start = last_seen[char] + 1\n",
    "        # update the end pointer and the last_seen dictionary\n",
    "        end = i\n",
    "        last_seen[char] = i\n",
    "        # update the max_len variable if the current substring is longer than the previous longest substring\n",
    "        max_len = max(max_len, end - start + 1)\n",
    "    return max_len\n",
    "\n",
    "longestSubstring(str)"
   ]
  },
  {
   "cell_type": "code",
   "execution_count": null,
   "metadata": {},
   "outputs": [],
   "source": [
    "str = \"abcdbeghef\"\n",
    "start=0\n",
    "end=0\n",
    "last_seen = {}\n",
    "for i,char in enumerate(str):\n",
    "    if char in last_seen:\n",
    "            start = last_seen[char] + 1\n",
    "            print('start:',start,'end:', end, ' char:',char, 'last_seen:',last_seen)\n",
    "    end=i\n",
    "    last_seen[char] =i\n",
    "print(last_seen)    "
   ]
  },
  {
   "cell_type": "code",
   "execution_count": null,
   "metadata": {},
   "outputs": [],
   "source": [
    "str = \"abcdbeghef\"\n",
    "\n",
    "def lengthOfLongestSubstring(s: str) -> int:\n",
    "    char_set = set()\n",
    "    left, right, longest = 0, 0, 0\n",
    "    \n",
    "    while right < len(s):\n",
    "        if s[right] not in char_set:\n",
    "            char_set.add(s[right])\n",
    "            right += 1\n",
    "            longest = max(longest, right - left)\n",
    "        else:\n",
    "            char_set.remove(s[left])\n",
    "            left += 1\n",
    "            \n",
    "    return longest\n",
    "lengthOfLongestSubstring(str)"
   ]
  },
  {
   "cell_type": "markdown",
   "metadata": {},
   "source": [
    "# Traversing Linked list\n"
   ]
  },
  {
   "cell_type": "code",
   "execution_count": null,
   "metadata": {},
   "outputs": [],
   "source": [
    "class Node:\n",
    "    def __init__(self, data):\n",
    "        self.data = data\n",
    "        self.next = None\n",
    "\n",
    "class LinkedList:\n",
    "    def __init__(self):\n",
    "        self.head = None\n",
    "    \n",
    "    def append(self, data):\n",
    "        new_node = Node(data)\n",
    "        if self.head is None:\n",
    "            self.head = new_node\n",
    "            return\n",
    "        current = self.head\n",
    "        while current.next:\n",
    "            current = current.next\n",
    "        current.next = new_node\n",
    "    \n",
    "    def traverse(self):\n",
    "        current = self.head\n",
    "        while current:\n",
    "            print(current.data, end=\" -> \")\n",
    "            current = current.next\n",
    "        print(\"None\")\n"
   ]
  },
  {
   "cell_type": "code",
   "execution_count": null,
   "metadata": {},
   "outputs": [],
   "source": [
    "# Creating a linked list\n",
    "linked_list = LinkedList()\n",
    "linked_list.append(1)\n",
    "linked_list.append(2)\n",
    "linked_list.append(3)\n",
    "linked_list.append(4)"
   ]
  },
  {
   "cell_type": "code",
   "execution_count": null,
   "metadata": {},
   "outputs": [],
   "source": [
    "# Traversing through the linked list\n",
    "linked_list.traverse()"
   ]
  },
  {
   "cell_type": "markdown",
   "metadata": {},
   "source": [
    "# Reverse the linked list"
   ]
  },
  {
   "cell_type": "code",
   "execution_count": null,
   "metadata": {},
   "outputs": [],
   "source": [
    "list = [5, 3, 6, 4, 7] \n",
    "\n",
    "def reverselist(list):\n",
    "    length=0\n",
    "    temp=list.head\n",
    "    while temp:\n",
    "        length +=1\n",
    "        temp = temp.next\n",
    "    left = list.head\n",
    "    for i in range(length//2):\n",
    "        right = list.head\n",
    "        for j in range(length-i-1):\n",
    "            right = right.next\n",
    "        left.data, right.data = right.data, left.data\n",
    "        left = left.next   \n",
    "print(reverselist(list))            "
   ]
  },
  {
   "cell_type": "code",
   "execution_count": null,
   "metadata": {},
   "outputs": [],
   "source": [
    "class Node:\n",
    "    def __init__(self, data):\n",
    "        self.data = data\n",
    "        self.next = None\n",
    "\n",
    "class LinkedList:\n",
    "    def __init__(self):\n",
    "        self.head = None\n",
    "\n",
    "    def append(self, data):\n",
    "        new_node = Node(data)\n",
    "        if self.head is None:\n",
    "            self.head = new_node\n",
    "            return\n",
    "        current = self.head\n",
    "        while current.next:\n",
    "            current = current.next\n",
    "        current.next = new_node\n",
    "\n",
    "    def traverse(self):\n",
    "        current = self.head\n",
    "        while current:\n",
    "            print(current.data, end=\" -> \")\n",
    "            current = current.next\n",
    "        print(\"None\")\n",
    "\n",
    "def reverselist(linked_list):\n",
    "    length = 0\n",
    "    temp = linked_list.head\n",
    "    while temp:\n",
    "        length += 1\n",
    "        temp = temp.next\n",
    "\n",
    "    left = linked_list.head\n",
    "    for i in range(length // 2):\n",
    "        right = linked_list.head\n",
    "        for j in range(length - i - 1):\n",
    "            right = right.next\n",
    "        left.data, right.data = right.data, left.data\n",
    "        left = left.next\n",
    "\n",
    "# Creating a linked list\n",
    "list = LinkedList()\n",
    "list.append(5)\n",
    "list.append(3)\n",
    "list.append(6)\n",
    "list.append(4)\n",
    "list.append(7)\n",
    "\n",
    "# Printing original list\n",
    "print(\"Original List:\")\n",
    "list.traverse()\n",
    "\n",
    "# Reversing the list\n",
    "reverselist(list)\n",
    "\n",
    "# Printing reversed list\n",
    "print(\"Reversed List:\")\n",
    "list.traverse()\n"
   ]
  },
  {
   "cell_type": "code",
   "execution_count": null,
   "metadata": {},
   "outputs": [],
   "source": [
    "nums = [2,7,11,15]\n",
    "nums = [3,2,4]\n",
    "# nums = [2,7,11,15]\n",
    "\n",
    "target = 6\n",
    "\n",
    "def twoSum(nums, target):\n",
    "        n= len(nums)\n",
    "        for i in range(n-1):\n",
    "            for j in range(i+1,n):\n",
    "                if (nums[i]+nums[j]==target):\n",
    "                    return [i,j]\n",
    "        return []           \n",
    "print(twoSum(nums, target))"
   ]
  },
  {
   "cell_type": "code",
   "execution_count": null,
   "metadata": {},
   "outputs": [],
   "source": [
    "# Palindrom Number\n"
   ]
  },
  {
   "cell_type": "code",
   "execution_count": null,
   "metadata": {},
   "outputs": [],
   "source": [
    "# x=12345\n",
    "x=121\n",
    "\n",
    "nums= str(x)\n",
    "length= len(nums)\n",
    "for i in range(len(nums)//2):\n",
    "    if (nums[i]!= nums[length-i-1]):\n",
    "        print( 'This is not a palindrome')\n",
    "        break\n",
    "    else:\n",
    "        print('This is a palindrome')\n",
    "        \n",
    "        "
   ]
  },
  {
   "cell_type": "code",
   "execution_count": null,
   "metadata": {},
   "outputs": [],
   "source": [
    "# x=12345\n",
    "# x=1221\n",
    "# x=12345\n",
    "x=-121\n",
    "\n",
    "def isPalindrome(x):\n",
    "    nums= str(x)\n",
    "    length= len(nums)\n",
    "    for i in range(len(nums)//2):\n",
    "        if (nums[i]!= nums[length-i-1]):\n",
    "            print('This is not a palindrome')\n",
    "            break\n",
    "        else:\n",
    "            print('This is a palindrome')\n",
    "            break\n",
    "            \n",
    "print(isPalindrome(x))            "
   ]
  },
  {
   "cell_type": "code",
   "execution_count": null,
   "metadata": {},
   "outputs": [],
   "source": [
    "def is_palindrome(number):\n",
    "    number_str = str(number)\n",
    "    reversed_str = number_str[::-1]\n",
    "    return number_str == reversed_str\n",
    "\n",
    "# Test cases\n",
    "print(is_palindrome(121))    # True\n",
    "print(is_palindrome(12321))  # True\n",
    "print(is_palindrome(12345))  # False"
   ]
  },
  {
   "cell_type": "code",
   "execution_count": null,
   "metadata": {},
   "outputs": [],
   "source": [
    "def is_palindrome(number):\n",
    "    reversed_number = 0\n",
    "    original_number = number\n",
    "\n",
    "    while number > 0:\n",
    "        last_digit = number % 10\n",
    "        reversed_number = (reversed_number * 10) + last_digit\n",
    "        number = number // 10\n",
    "\n",
    "    return original_number == reversed_number\n",
    "\n",
    "# Test cases\n",
    "print(is_palindrome(121))    # True\n",
    "print(is_palindrome(12321))  # True\n",
    "print(is_palindrome(12345))  # False\n"
   ]
  },
  {
   "cell_type": "code",
   "execution_count": null,
   "metadata": {},
   "outputs": [],
   "source": [
    "def is_palindrome(word):\n",
    "    length = len(word)\n",
    "    for i in range(length // 2):\n",
    "        if word[i] != word[length - i - 1]:\n",
    "            return False\n",
    "    return True\n",
    "\n",
    "# Test cases\n",
    "print(is_palindrome(\"level\"))         # True\n",
    "print(is_palindrome(\"racecar\"))       # True\n",
    "print(is_palindrome(\"hello\"))         # False\n",
    "print(is_palindrome(\"madam\"))         # True\n",
    "print(is_palindrome(\"openai\"))        # False"
   ]
  },
  {
   "cell_type": "code",
   "execution_count": null,
   "metadata": {},
   "outputs": [],
   "source": [
    "# Roman to Integer\n",
    "## 1st method\n"
   ]
  },
  {
   "cell_type": "code",
   "execution_count": null,
   "metadata": {},
   "outputs": [],
   "source": [
    "def romantoInt(s):\n",
    "    roman_values = {'I': 1, 'V': 5, 'X': 10, 'L': 50, 'C': 100, 'D': 500, 'M': 1000}\n",
    "    result = 0\n",
    "    \n",
    "    for i in range(len(s)):\n",
    "        if i > 0 and roman_values[s[i]] > roman_values[s[i - 1]]:\n",
    "            result += roman_values[s[i]] - 2 * roman_values[s[i - 1]]\n",
    "        else:\n",
    "            result += roman_values[s[i]]\n",
    "    \n",
    "    return result\n"
   ]
  },
  {
   "cell_type": "code",
   "execution_count": null,
   "metadata": {},
   "outputs": [],
   "source": [
    "# roman_numeral = \"XLVII\"\n",
    "# roman_numeral = \"VII\"\n",
    "# roman_numeral = \"XL\"\n",
    "# roman_numeral = \"LV\"\n",
    "roman_numeral = \"XVXL\"\n",
    "\n",
    "\n",
    "integer_value = romantoInt(roman_numeral)\n",
    "print(integer_value)  # Output: 47\n"
   ]
  },
  {
   "cell_type": "code",
   "execution_count": null,
   "metadata": {},
   "outputs": [],
   "source": [
    "# 2nd Method\n"
   ]
  },
  {
   "cell_type": "code",
   "execution_count": null,
   "metadata": {},
   "outputs": [],
   "source": [
    "class Solution:\n",
    "    def romanToInt(self, s: str) -> int:\n",
    "        translations = {\n",
    "            \"I\": 1,\n",
    "            \"V\": 5,\n",
    "            \"X\": 10,\n",
    "            \"L\": 50,\n",
    "            \"C\": 100,\n",
    "            \"D\": 500,\n",
    "            \"M\": 1000\n",
    "        }\n",
    "        number = 0\n",
    "        s = s.replace(\"IV\", \"IIII\").replace(\"IX\", \"VIIII\")\n",
    "        s = s.replace(\"XL\", \"XXXX\").replace(\"XC\", \"LXXXX\")\n",
    "        s = s.replace(\"CD\", \"CCCC\").replace(\"CM\", \"DCCCC\")\n",
    "        for char in s:\n",
    "            number += translations[char]\n",
    "        return number\n",
    "    \n",
    "print(romanToInt(III))    "
   ]
  },
  {
   "cell_type": "code",
   "execution_count": null,
   "metadata": {},
   "outputs": [],
   "source": [
    "def romantoInt(s):\n",
    "    roman_values = {'I': 1, 'V': 5, 'X': 10, 'L': 50, 'C': 100, 'D': 500, 'M': 1000}\n",
    "    result = 0\n",
    "    previous_value = 0\n",
    "    \n",
    "    for char in reversed(s):\n",
    "        current_value = roman_values[char]\n",
    "        if current_value >= previous_value:\n",
    "            result += current_value\n",
    "        else:\n",
    "            result -= current_value\n",
    "        previous_value = current_value\n",
    "    \n",
    "    return result\n"
   ]
  },
  {
   "cell_type": "code",
   "execution_count": null,
   "metadata": {},
   "outputs": [],
   "source": [
    "roman_numeral = \"XIV\"\n",
    "integer_value = romantoInt(roman_numeral)\n",
    "print(integer_value)  # Output: 14\n"
   ]
  },
  {
   "cell_type": "code",
   "execution_count": null,
   "metadata": {},
   "outputs": [],
   "source": [
    "# Remove Duplicates from sorted list\n"
   ]
  },
  {
   "cell_type": "code",
   "execution_count": null,
   "metadata": {},
   "outputs": [],
   "source": [
    "# nums = [0,0,1,1,1,2,2,3,3,4]\n",
    "nums = [0,0,1,1,1,2,2,3,3,4,5,5,6,6,7,7]\n",
    "\n",
    "a=[]\n",
    "for i in range(len(nums)):\n",
    "    if nums[i] not in a:\n",
    "        a.append(nums[i])\n",
    "print(a) "
   ]
  },
  {
   "cell_type": "code",
   "execution_count": null,
   "metadata": {},
   "outputs": [],
   "source": [
    "nums = [0,0,1,1,1,2,2,3,3,4,5,5,6,6,7,7]\n",
    "\n",
    "def removeDuplicates(nums):\n",
    "    if not nums:\n",
    "        return \n",
    "    slow = fast = 0\n",
    "    while fast <= len(nums) - 1:\n",
    "        if nums[fast] != nums[slow]:\n",
    "            nums[slow+1] = nums[fast]\n",
    "            slow += 1\n",
    "        fast += 1\n",
    "    return slow + 1\n",
    "\n",
    "print(removeDuplicates(nums))"
   ]
  },
  {
   "cell_type": "code",
   "execution_count": null,
   "metadata": {},
   "outputs": [],
   "source": [
    "nums = [0,0,1,1,1,2,2,3,3,4,5,5,6,6,7,7]\n",
    "\n",
    "def removeDuplicates(nums):\n",
    "    if not nums: \n",
    "        return 0\n",
    "    i = 0\n",
    "    for j in range(1, len(nums)):\n",
    "        if nums[i] != nums[j]:\n",
    "            nums[i + 1] = nums[j]\n",
    "            i += 1\n",
    "    return i + 1\n",
    "print(removeDuplicates(nums))\n"
   ]
  },
  {
   "cell_type": "code",
   "execution_count": null,
   "metadata": {},
   "outputs": [],
   "source": []
  },
  {
   "cell_type": "code",
   "execution_count": null,
   "metadata": {},
   "outputs": [],
   "source": []
  },
  {
   "cell_type": "code",
   "execution_count": null,
   "metadata": {},
   "outputs": [],
   "source": []
  },
  {
   "cell_type": "code",
   "execution_count": null,
   "metadata": {},
   "outputs": [],
   "source": []
  },
  {
   "cell_type": "markdown",
   "metadata": {},
   "source": []
  },
  {
   "cell_type": "markdown",
   "metadata": {},
   "source": []
  },
  {
   "cell_type": "code",
   "execution_count": null,
   "metadata": {},
   "outputs": [],
   "source": []
  },
  {
   "cell_type": "markdown",
   "metadata": {},
   "source": []
  },
  {
   "cell_type": "code",
   "execution_count": null,
   "metadata": {},
   "outputs": [],
   "source": []
  },
  {
   "cell_type": "code",
   "execution_count": 13,
   "metadata": {},
   "outputs": [
    {
     "name": "stdout",
     "output_type": "stream",
     "text": [
      "3\n"
     ]
    }
   ],
   "source": []
  },
  {
   "cell_type": "code",
   "execution_count": 15,
   "metadata": {},
   "outputs": [
    {
     "name": "stdout",
     "output_type": "stream",
     "text": [
      "3\n"
     ]
    }
   ],
   "source": []
  },
  {
   "cell_type": "markdown",
   "metadata": {},
   "source": []
  },
  {
   "cell_type": "code",
   "execution_count": null,
   "metadata": {},
   "outputs": [],
   "source": []
  },
  {
   "cell_type": "code",
   "execution_count": null,
   "metadata": {},
   "outputs": [],
   "source": []
  },
  {
   "cell_type": "markdown",
   "metadata": {},
   "source": []
  },
  {
   "cell_type": "code",
   "execution_count": null,
   "metadata": {},
   "outputs": [],
   "source": []
  },
  {
   "cell_type": "markdown",
   "metadata": {},
   "source": []
  },
  {
   "cell_type": "code",
   "execution_count": null,
   "metadata": {},
   "outputs": [],
   "source": []
  },
  {
   "cell_type": "markdown",
   "metadata": {},
   "source": []
  },
  {
   "cell_type": "code",
   "execution_count": null,
   "metadata": {},
   "outputs": [],
   "source": []
  },
  {
   "cell_type": "code",
   "execution_count": null,
   "metadata": {},
   "outputs": [],
   "source": []
  },
  {
   "cell_type": "code",
   "execution_count": null,
   "metadata": {},
   "outputs": [],
   "source": []
  },
  {
   "cell_type": "code",
   "execution_count": null,
   "metadata": {},
   "outputs": [],
   "source": []
  }
 ],
 "metadata": {
  "kernelspec": {
   "display_name": "LangChain",
   "language": "python",
   "name": "python3"
  },
  "language_info": {
   "codemirror_mode": {
    "name": "ipython",
    "version": 3
   },
   "file_extension": ".py",
   "mimetype": "text/x-python",
   "name": "python",
   "nbconvert_exporter": "python",
   "pygments_lexer": "ipython3",
   "version": "3.11.9"
  },
  "orig_nbformat": 4
 },
 "nbformat": 4,
 "nbformat_minor": 2
}
