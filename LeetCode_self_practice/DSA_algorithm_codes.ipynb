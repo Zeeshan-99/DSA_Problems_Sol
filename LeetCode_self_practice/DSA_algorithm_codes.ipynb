{
 "cells": [
  {
   "cell_type": "code",
   "execution_count": 29,
   "metadata": {},
   "outputs": [],
   "source": [
    "#Q1: Write a Python Program to Check if a String is a Palindrome or Not?\n",
    "# Q2: Reversed number in Python.\n",
    "# Q3: Reversed string in Python.\n",
    "# Q4: How do you calculate the number of vowels and consonant peresent in a strings.\n",
    "#Q5: Binary search tree algorithm.\n",
    "#Q6:-Binary tree and Binary search tree algorithm.\n",
    "#Q7: Recursion programming.\n",
    "#Q8. Bubble sort algorithm  (shorting list array: numeric & string).\n",
    "#Q9: Counts the alphabets using hashtable.\n",
    "#Question given by the Rishabh."
   ]
  },
  {
   "cell_type": "code",
   "execution_count": 2,
   "metadata": {},
   "outputs": [
    {
     "name": "stdout",
     "output_type": "stream",
     "text": [
      "The string is a palindrome\n"
     ]
    }
   ],
   "source": [
    "# Q1:Write a Python Program to Check if a String is a Palindrome or Not\n",
    "\n",
    "string=input(\"Enter string:\")\n",
    "if(string==string[::-1]):\n",
    "    print(\"The string is a palindrome\")\n",
    "else:\n",
    "    print(\"The string isn't a palindrome\")\n"
   ]
  },
  {
   "cell_type": "code",
   "execution_count": 5,
   "metadata": {},
   "outputs": [
    {
     "name": "stdout",
     "output_type": "stream",
     "text": [
      "Reversed order : 456521\n"
     ]
    }
   ],
   "source": [
    "# Q2: Reversed number in Python\n",
    "num= 125654\n",
    "rev_num=0\n",
    "while (num>0):\n",
    "    reminder = num%10\n",
    "    rev_num = (rev_num*10)+reminder\n",
    "    num=num//10\n",
    "print(\"Reversed order :\", rev_num)"
   ]
  },
  {
   "cell_type": "code",
   "execution_count": 17,
   "metadata": {},
   "outputs": [
    {
     "name": "stdout",
     "output_type": "stream",
     "text": [
      "Reversed string : NAHSEEZ\n"
     ]
    }
   ],
   "source": [
    "# Q3: Reversed string in Python\n",
    "strn = 'ZEESHAN'\n",
    "n= len(strn)\n",
    "rev_str =''\n",
    "\n",
    "for i in range(n):\n",
    "    rev_str= rev_str+strn[n-i-1]\n",
    "print(\"Reversed string :\", rev_str)    \n",
    "\n",
    " "
   ]
  },
  {
   "cell_type": "code",
   "execution_count": 23,
   "metadata": {},
   "outputs": [
    {
     "name": "stdout",
     "output_type": "stream",
     "text": [
      "Total number of vowels persent in string : 19\n",
      "Total number of consonant persent in string : 44\n"
     ]
    }
   ],
   "source": [
    "# Q4: How do you calculate the number of vowels and consonant peresent in a string\n",
    "vowels=['a','e','i','o','u']\n",
    "\n",
    "vowels_cnt=0\n",
    "consonant_cnt =0\n",
    "\n",
    "strn=\"I am your best friend. Why don't you consider me as your friend\"\n",
    "\n",
    "for i in strn.lower():\n",
    "    if i in vowels:\n",
    "        vowels_cnt=vowels_cnt+1\n",
    "    else:\n",
    "        consonant_cnt= consonant_cnt+1\n",
    "\n",
    "print('Total number of vowels persent in string :', vowels_cnt)\n",
    "print('Total number of consonant persent in string :', consonant_cnt)\n",
    "        "
   ]
  },
  {
   "cell_type": "code",
   "execution_count": 27,
   "metadata": {},
   "outputs": [
    {
     "name": "stdout",
     "output_type": "stream",
     "text": [
      "Found at 2\n"
     ]
    }
   ],
   "source": [
    "# Q5: Binary search algorithm\n",
    "def bin_search(list,n):\n",
    "    pos=0\n",
    "    l=0\n",
    "    u=len(list)-1\n",
    "    while l<=u:\n",
    "        mid=(l+u)//2\n",
    "        if list[mid]==n:    # If the desired number is found at mid position\n",
    "            globals()['pos']=mid\n",
    "            return True\n",
    "        else:\n",
    "            if list[mid]<n:\n",
    "                l=mid\n",
    "            else:\n",
    "                u=mid\n",
    "\n",
    "list=[4, 7, 8, 12, 45, 99, 102, 702, 10987, 5666]\n",
    "n=7\n",
    "\n",
    "if bin_search(list, n):\n",
    "    print (\"Found at\", pos+1)\n",
    "else:\n",
    "    print(\"Not Found\")                "
   ]
  },
  {
   "cell_type": "code",
   "execution_count": 28,
   "metadata": {},
   "outputs": [
    {
     "name": "stdout",
     "output_type": "stream",
     "text": [
      "USA is in the list True\n",
      "Sweeden is in the list False\n"
     ]
    }
   ],
   "source": [
    "#Q6:-Binary tree and Binary search tree algorithm\n",
    "\n",
    "class BinarySearchTreeNode:\n",
    "    def __init__(self, data):\n",
    "        self.data = data\n",
    "        self.left = None\n",
    "        self.right = None\n",
    "    \n",
    "    def add_child(self, data):\n",
    "        if data == self.data:\n",
    "            return\n",
    "        if data <self.data:\n",
    "            # add data in the left\n",
    "            if self.left:\n",
    "                self.left.add_child(data) \n",
    "            else:\n",
    "                self.left = BinarySearchTreeNode(data)\n",
    "        else:\n",
    "            if self.right:\n",
    "                self.right.add_child(data)\n",
    "            else:\n",
    "                self.right = BinarySearchTreeNode(data)\n",
    "                \n",
    "    def in_order_traversal(self):\n",
    "        elements=[]\n",
    "        # visit left tree first\n",
    "        if self.left:\n",
    "            elements+= self.left.in_order_traversal()\n",
    "        # visit base node\n",
    "        elements.append(self.data)\n",
    "        # visit right tree\n",
    "        if self.right:\n",
    "            elements += self.right.in_order_traversal()\n",
    "        return elements  \n",
    "    def search( self, val):\n",
    "        if self.data == val:\n",
    "            return True\n",
    "        if val < self.data:\n",
    "            # val might be in left subtree\n",
    "            if self.left:\n",
    "                return self.left.search(val)\n",
    "            else:\n",
    "                return False\n",
    "        if val > self.data:\n",
    "            \n",
    "            # val might be in the right tree\n",
    "            if self.right:\n",
    "                return self.right.search(val)\n",
    "            else:\n",
    "                return False\n",
    "          \n",
    "                  \n",
    "def build_tree(elements):\n",
    "    root= BinarySearchTreeNode(elements[0])\n",
    "    for i in range(1, len(elements)):\n",
    "        root.add_child(elements[i])\n",
    "    return root\n",
    "        \n",
    "if __name__=='__main__':\n",
    "    numbers= [17,4,1,20,9,23,18,34]\n",
    "    countries=['India','Pakistan','Germany','USA','China','India','UK','USA']\n",
    "    country_tree= build_tree(countries)\n",
    "    \n",
    "    # print( numbers_tree.search(20))\n",
    "    print( \"USA is in the list\", country_tree.search(\"USA\"))\n",
    "    print( \"Sweeden is in the list\", country_tree.search(\"Sweeden\"))\n"
   ]
  },
  {
   "cell_type": "code",
   "execution_count": 3,
   "metadata": {},
   "outputs": [
    {
     "name": "stdout",
     "output_type": "stream",
     "text": [
      "500\n"
     ]
    }
   ],
   "source": [
    "#Q7: Recursion programming \n",
    "# 1st method\n",
    "# def greet():\n",
    "#     print(\"Hello\")\n",
    "#     greet()\n",
    "# print(greet())\n",
    "\n",
    "#2nd method\n",
    "\n",
    "import sys\n",
    "sys.setrecursionlimit(500)\n",
    "print(sys.getrecursionlimit())\n",
    "\n",
    "i=0\n",
    "def greet():\n",
    "    global i\n",
    "    i+=1\n",
    "    print(\"Hello\", i)\n",
    "    greet()\n",
    "    \n",
    "# greet()    \n",
    "#         return n\n",
    "#     else:\n"
   ]
  },
  {
   "cell_type": "code",
   "execution_count": 13,
   "metadata": {},
   "outputs": [
    {
     "name": "stdout",
     "output_type": "stream",
     "text": [
      "['Guata', 'Gupta', 'Rishab', 'zeeshan']\n"
     ]
    }
   ],
   "source": [
    "# Q8: Bubble short algorithm  (shorting list array: numeric & string)\n",
    "\n",
    "def bubble_sort (elements):\n",
    "    size=len(elements)\n",
    "    \n",
    "    for i in range(size-1):\n",
    "        for j in range(size-1):\n",
    "            if elements[j]>elements[j+1]:\n",
    "                tmp= elements[j]\n",
    "                elements[j]=elements[j+1]\n",
    "                elements[j+1]=tmp\n",
    "                \n",
    "if __name__=='__main__':\n",
    "    # elements = [5,9,2,1,67,34,88,34]\n",
    "    elements = ['zeeshan','Rishab', 'Gupta','Guata']\n",
    "    bubble_sort(elements)\n",
    "    print(elements)\n"
   ]
  },
  {
   "cell_type": "code",
   "execution_count": null,
   "metadata": {},
   "outputs": [],
   "source": []
  },
  {
   "cell_type": "code",
   "execution_count": 37,
   "metadata": {},
   "outputs": [
    {
     "name": "stdout",
     "output_type": "stream",
     "text": [
      "Sorted elemennts: [2, 3, 5, 6, 7, 8]\n"
     ]
    }
   ],
   "source": [
    "def sort(nums):\n",
    "    for i in range(len(nums)-1,0,-1):\n",
    "        for j in range(i):\n",
    "            if nums[j]>nums[j+1]:\n",
    "                temp= nums[j]\n",
    "                nums[j]=nums[j+1]\n",
    "                nums[j+1]=temp\n",
    "                \n",
    "nums=[5,3,8,6,7,2]\n",
    "sort(nums)\n",
    "print('Sorted elemennts:', nums)             "
   ]
  },
  {
   "cell_type": "code",
   "execution_count": 14,
   "metadata": {},
   "outputs": [
    {
     "name": "stdout",
     "output_type": "stream",
     "text": [
      "{'a': 2, 'b': 2, 'c': 1, 'v': 1, 'e': 3}\n",
      "Count of all characters in ZeeshanHaleem {'Z': 1, 'e': 4, 's': 1, 'h': 1, 'a': 2, 'n': 1, 'H': 1, 'l': 1, 'm': 1}\n"
     ]
    }
   ],
   "source": [
    "#Q9: Counts the alphabets using hashtable\n",
    "#1st method\n",
    "my_list=['a','b','c','a','v','b', 'e','e','e']\n",
    "freq ={}\n",
    "for item in my_list:\n",
    "      if(item in freq):\n",
    "          freq[item]+=1\n",
    "      else:\n",
    "          freq[item]=1\n",
    "print(freq)\n",
    "\n",
    "#2nd method\n",
    "\n",
    "test_str= 'ZeeshanHaleem'\n",
    "\n",
    "all_freq={}\n",
    "for i in test_str:\n",
    "    if i in all_freq:\n",
    "        all_freq[i]+=1\n",
    "    else:\n",
    "        all_freq[i]=1\n",
    "        \n",
    "print(\"Count of all characters in ZeeshanHaleem\", all_freq)     \n",
    "\n",
    "\n",
    "#---------\n",
    "dict = {'a':0, 'b':0,........,'z':0}\n",
    "all_freq[i] =+1 \n",
    "\n",
    "   \n"
   ]
  },
  {
   "cell_type": "code",
   "execution_count": 38,
   "metadata": {},
   "outputs": [
    {
     "name": "stdout",
     "output_type": "stream",
     "text": [
      "{'a': 2, 'b': 0, 'c': 0, 'd': 0, 'e': 4, 'f': 0, 'g': 0, 'h': 2, 'i': 0, 'j': 0, 'k': 0, 'l': 1, 'm': 1, 'n': 1, 'o': 0, 'p': 0, 'q': 0, 'r': 0, 's': 1, 't': 0, 'u': 0, 'v': 0, 'w': 0, 'x': 0, 'y': 0, 'z': 1}\n"
     ]
    }
   ],
   "source": [
    "import string\n",
    "\n",
    "d = dict.fromkeys(string.ascii_lowercase, 0)\n",
    "\n",
    "test_str= 'zeeshanhaleem'\n",
    "\n",
    "for i in test_str:\n",
    "        d[i]+=1\n",
    "print(d)    "
   ]
  },
  {
   "cell_type": "code",
   "execution_count": 36,
   "metadata": {},
   "outputs": [
    {
     "data": {
      "text/plain": [
       "{'a': 0,\n",
       " 'b': 0,\n",
       " 'c': 0,\n",
       " 'd': 0,\n",
       " 'e': 0,\n",
       " 'f': 0,\n",
       " 'g': 0,\n",
       " 'h': 0,\n",
       " 'i': 0,\n",
       " 'j': 0,\n",
       " 'k': 0,\n",
       " 'l': 0,\n",
       " 'm': 0,\n",
       " 'n': 0,\n",
       " 'o': 0,\n",
       " 'p': 0,\n",
       " 'q': 0,\n",
       " 'r': 0,\n",
       " 's': 0,\n",
       " 't': 0,\n",
       " 'u': 0,\n",
       " 'v': 0,\n",
       " 'w': 0,\n",
       " 'x': 0,\n",
       " 'y': 0,\n",
       " 'z': 0}"
      ]
     },
     "execution_count": 36,
     "metadata": {},
     "output_type": "execute_result"
    }
   ],
   "source": [
    "import string\n",
    "\n",
    "d = dict.fromkeys(string.ascii_lowercase, 0)\n",
    "d"
   ]
  },
  {
   "cell_type": "code",
   "execution_count": null,
   "metadata": {},
   "outputs": [],
   "source": []
  },
  {
   "cell_type": "code",
   "execution_count": 25,
   "metadata": {},
   "outputs": [
    {
     "name": "stdout",
     "output_type": "stream",
     "text": [
      "{'r': 2, 'i': 2, 's': 2, 'h': 4, 'a': 2, 'b': 2, ',': 1, ' ': 1}\n",
      "None\n"
     ]
    }
   ],
   "source": [
    "import string\n",
    "def LetterCount(str):\n",
    "    str= str.lower().strip()\n",
    "    str = str.strip(string.punctuation)\n",
    "    list1=list(str)\n",
    "    lcDict= {}\n",
    "    for l in list1:\n",
    "        if l in lcDict:\n",
    "            lcDict[l] +=1\n",
    "        else:\n",
    "            lcDict[l]= 1\n",
    "    print(lcDict)\n",
    "\n",
    "print(LetterCount(\"Rishabh, Rishabh\"))"
   ]
  },
  {
   "cell_type": "code",
   "execution_count": 16,
   "metadata": {},
   "outputs": [],
   "source": [
    "letter_count = dict([(chr(i),0) for i in range(97,123)])\n",
    "# letter_count"
   ]
  },
  {
   "cell_type": "code",
   "execution_count": 10,
   "metadata": {},
   "outputs": [
    {
     "name": "stdout",
     "output_type": "stream",
     "text": [
      "The count of all characters in string is :\n",
      " {'r': 2, 'n': 1, 'd': 1, 'e': 1, 'R': 1, 't': 1, 'b': 1, ' ': 4, 'a': 3, 'i': 3, 'g': 1, 'h': 1, 'o': 2, 's': 2}\n"
     ]
    }
   ],
   "source": [
    "test_str = \"Rishab is a good trainer\"\n",
    "  \n",
    "# using set() + count() to get count \n",
    "# of each element in string \n",
    "res = {i : test_str.count(i) for i in set(test_str)}\n",
    "  \n",
    "# printing result \n",
    "print (\"The count of all characters in string is :\\n \"\n",
    "                                               +  str(res))"
   ]
  },
  {
   "cell_type": "markdown",
   "metadata": {},
   "source": [
    "# Critical approach to solve the food distribution problem \n",
    "\n",
    "Here we are given array [5,3,1,2,1], where first element is the number of sandwiches and rest are representing the hunger levels among the people. We need to distribute the sandwiches(1..to...5) in such a way that minimizes the hunger difference between the pairs of hunger level.\n",
    "\n",
    "At initial stage we have total 5 sandwiches, we iteratively distribute this sandwiches among the people and checking the differences of the hunger levels(pairs). Our objective is to obtain the minimum hunger difference among the all set of hunger levels combination.\n",
    "\n",
    "N=5\n",
    "[3,1,2,1]\n",
    "[2,-1,1]\n",
    "[1,1,1,1], [3,1,1,1]\n",
    "[0,0,0], [2,0,0]\n",
    "\n",
    "[1,3,2] -> [-2,1] -> [1,2,2] (Will alot Middle = Min(Abs(Diff-L),Abs(Diff-R)))\n",
    "[1,2,3] -> [-1,-1] -> (Will always alot R)\n",
    "[5,2,1] -> [1,1]  -> (Will always alot L)\n",
    "[3,2,3] -> [1,-1] -> 2 sand [2,2,2] ( Will alot L & R) \n",
    "\n",
    "\n",
    "\\\\\n",
    "\n",
    "Step 1:\n",
    "Total sandwiches (N) = 5, \n",
    "\n",
    "If 0 sandwiches distributed\n",
    "\n",
    "Then, hunger levels= [3,1,2,1], and d = [ 2, 1, 1], sum(d) = 4;\n",
    "\n",
    "Step 2: Distribute one sandwich \n",
    "\n",
    "Now remaining sadwiches (N) = (N-1)=4;\n",
    "\n",
    "Possible combination would be as follows\n",
    "\n",
    "        [2,1,2,1], d = [1,1,1], sum(d) = 3; \n",
    "        [3,0,2,1], d = [3,2,1], sum(d) = 6;\n",
    "        [3,1,1,1], d = [2,0,0], sum(d) = 2;   <----minimum \n",
    "        [3,1,2,0], d = [2,1,2], sum(d) = 5;\n",
    "\n",
    "since sum(d)= 2 > 0 and  N = 4 > 0, continue to distribute sandwiches \n",
    "\n",
    "Step 3: Distribute two sandwiches\n",
    "\n",
    "Now remaining sandwiches (N)= (N-2) = 3;\n",
    "\n",
    "Possible combination:\n",
    "\n",
    "        [2,1,1,1], d = [1,0,0], sum(d) = 1; <----minimum\n",
    "        [3,0,1,1], d = [3,0,0], sum(d) = 3;\n",
    "        [3,1,0,1], d = [2,1,1], sum(d) = 4; \n",
    "        [3,1,1,0], d = [2,0,1], sum(d) = 3;  \n",
    "\n",
    "since sum(d) = 1 > 0  and  N = 3 > 0, continue to distribute sandwiches \n",
    "\n",
    "Step 4: Distribute three sandwiches\n",
    "\n",
    "Now remaining sandwiches (N)= (N-3) = 2;\n",
    "     \n",
    "Possible combinations:\n",
    "        [1,1,1,1], d = [0,0,0], sum(d) = 0;<----minimum (omptimal solution)\n",
    "        [2,0,1,1], d = [2,1,0], sum(d) = 3;\n",
    "        [2,1,0,1]], d = [1,1,1], sum(d) = 3; \n",
    "        [2,1,1,0], d = [1,0,1], sum(d) = 2;  \n",
    "\n",
    "Since sum(d) = 0, we can stop distributing sandwiches because we've reached equality across the pairs of hunger levels. By distributing 3 sandwiches we went from hunger levels of `[3,1,2,1]` to `[(3-2),1,(2-1),1] = [1,1,1,1]`.\n",
    "\n",
    "// Return 0   \n"
   ]
  },
  {
   "cell_type": "code",
   "execution_count": 1,
   "metadata": {},
   "outputs": [
    {
     "name": "stdout",
     "output_type": "stream",
     "text": [
      "Minimum hunger difference after distribution: 3\n"
     ]
    }
   ],
   "source": [
    "def minimize_hunger_difference(sandwiches_available, hunger_levels):\n",
    "    # Step 1: Sort the hunger levels\n",
    "    hunger_levels.sort()\n",
    "    \n",
    "    # Step 2: Initialize variables\n",
    "    min_sum_diff = float('inf')  # Initialize with a large number\n",
    "    n = len(hunger_levels)\n",
    "    \n",
    "    # Step 3: Iterate through possible distributions\n",
    "    for sandwiches_count in range(sandwiches_available + 1):\n",
    "        # Calculate the differences for current distribution of sandwiches\n",
    "        differences = []\n",
    "        for i in range(n):\n",
    "            difference = hunger_levels[i] - sandwiches_count\n",
    "            differences.append(abs(difference))\n",
    "        \n",
    "        # Calculate the sum of differences\n",
    "        sum_diff = sum(differences)\n",
    "        \n",
    "        # Update minimum sum difference found\n",
    "        if sum_diff < min_sum_diff:\n",
    "            min_sum_diff = sum_diff\n",
    "        \n",
    "        # Stop if we find a distribution where sum_diff is 0\n",
    "        if sum_diff == 0:\n",
    "            break\n",
    "    \n",
    "    # Step 4: Return the minimum sum of differences found\n",
    "    return min_sum_diff\n",
    "\n",
    "# Example usage:\n",
    "sandwiches_available = 5\n",
    "hunger_levels = [3, 1, 2, 1]\n",
    "\n",
    "min_difference = minimize_hunger_difference(sandwiches_available, hunger_levels)\n",
    "print(f\"Minimum hunger difference after distribution: {min_difference}\")\n"
   ]
  },
  {
   "cell_type": "code",
   "execution_count": 89,
   "metadata": {},
   "outputs": [
    {
     "name": "stdout",
     "output_type": "stream",
     "text": [
      "M= 6 N= 3\n",
      "Array : [2, 1, 0, 4, 1, 0]\n",
      "Total diff 4\n"
     ]
    }
   ],
   "source": [
    "'''N=5\n",
    "[3,1,2,1]\n",
    "[2,-1,1]\n",
    "[1,1,1,1], [3,1,1,1]\n",
    "[0,0,0], [2,0,0]\n",
    "\n",
    "[1,3,2] -> [-2,1] -> [1,2,2] (Will alot Middle = Min(Abs(Diff-L),Abs(Diff-R)))\n",
    "[1,2,3] -> [-1,-1] -> (Will always alot R)\n",
    "[5,2,1] -> [1,1]  -> (Will always alot L)\n",
    "[3,2,3] -> [1,-1] -> 2 sand [2,2,2] ( Will alot L & R) '''\n",
    "\n",
    "#---------Food distribution problems : 100% working-------\n",
    "\n",
    "import sys\n",
    "\n",
    "def Food_diff(arr):\n",
    "    M = len(arr)-1            # Lenth of the array\n",
    "    N = arr.pop(0)   # The number of sandwiches\n",
    "    print( 'M=',M, 'N=',N)\n",
    "    print('Array :', arr)\n",
    "    \n",
    "    diff= sys.maxsize\n",
    "    #Find the subarray of size m such that difference bw last (maximum in case of sorted) elements of subarray is minimum\n",
    "    for i in range(M-1):\n",
    "        for j in range(N):\n",
    "            if j<=arr[i]:\n",
    "                                                    # Rihgt element is always greater than the left one\n",
    "                diff= min(diff,arr[i]-j-arr[i+1])  # try to bring under uniform the hunger level by distributing sandwitches \n",
    "                # a=abs(min(diff,(arr[i]-j)-(arr[i+1])))    # try to bring under uniform the hunger level by distributing sandwitches \n",
    "                # b= abs(min(diff,arr[i]-(arr[i+1]-j)))   # try to bring under uniform the hunger level by distributing sandwitches \n",
    "                # diff= min(a,b)   # try to bring under uniform the hunger level by distributing sandwitches \n",
    "                \n",
    "            # elif arr[i]-arr[i+1]<0:                # left element is always greater than the Right one\n",
    "            #     diff= min(diff,arr[i]+j-arr[i+1])   #try to bring under uniform the hunger level by distributing sandwitches \n",
    "    return abs(diff)    \n",
    "                  \n",
    "# A=[5,3,1,2,1]\n",
    "# A=[4,5,2,3,1,0]\n",
    "# A=[5,2,3,4,5]\n",
    "A=[3,2,1,0,4,1,0]\n",
    "\n",
    "print(\"Total diff\", Food_diff(A))      \n"
   ]
  },
  {
   "cell_type": "code",
   "execution_count": 20,
   "metadata": {},
   "outputs": [
    {
     "name": "stdout",
     "output_type": "stream",
     "text": [
      "M= 6 N= 3\n",
      "Array : [2, 1, 0, 4, 1, 0]\n",
      "Total diff [0, 0, 0, 0, -2, 0]\n"
     ]
    }
   ],
   "source": [
    "import sys\n",
    "\n",
    "def Food_diff(arr):\n",
    "    M = len(arr)-1            # Lenth of the array\n",
    "    N = arr.pop(0)   # The number of sandwiches\n",
    "    print( 'M=',M, 'N=',N)\n",
    "    print('Array :', arr)\n",
    "    \n",
    "    diff= sys.maxsize\n",
    "    # avg = sum(arr)/len(arr)\n",
    "    #Find the subarray of size m such that difference bw last (maximum in case of sorted) elements of subarray is minimum\n",
    "    for i in range(M-1):\n",
    "        new_arr= [0]*len(arr)\n",
    "        j=0\n",
    "        while j <= N:\n",
    "            if arr[i]==arr[i+1]:\n",
    "                return 0\n",
    "            elif arr[i]-arr[i+1]>0:                     # left element is always greater than the right one\n",
    "                new_arr[i]= min(diff,arr[i]-j-arr[i+1])   # try to bring under uniform the hunger level by distributing sandwitches \n",
    "            elif arr[i]-arr[i+1]<0:                      # Right element is always greater than the left one\n",
    "                new_arr[i]= min(diff,arr[i]-arr[i+1]-j)   #try to bring under uniform the hunger level by distributing sandwitches \n",
    "            j+=1\n",
    "    return new_arr    \n",
    "                  \n",
    "# A=[5,3,1,2,1]\n",
    "# A=[4,5,2,3,1,0]\n",
    "# A=[5,2,3,4,5]\n",
    "A=[3,2,1,0,4,1,0]\n",
    "\n",
    "print(\"Total diff\", Food_diff(A))      \n"
   ]
  },
  {
   "cell_type": "code",
   "execution_count": 13,
   "metadata": {},
   "outputs": [
    {
     "name": "stdout",
     "output_type": "stream",
     "text": [
      " array length (M)= 4  Sandwiches (N)= 5\n",
      "Array of the hunger level: [3, 1, 2, 1]\n",
      "sand_dist, new_hng_level and diff ([2, 0, 1, 0], [1, 1, 1, 1], 0)\n"
     ]
    }
   ],
   "source": [
    "import sys\n",
    "\n",
    "def Food_diff(arr):\n",
    "    M = len(arr)-1            # Lenth of the array\n",
    "    N = arr.pop(0)   # The number of sandwiches\n",
    "    print( ' array length (M)=',M, ' Sandwiches (N)=',N)\n",
    "    print('Array of the hunger level:', arr)\n",
    "    \n",
    "    diff= sys.maxsize\n",
    "   \n",
    "    #Find the subarray of size m such that difference bw last (maximum in case of sorted) elements of subarray is minimum\n",
    "    new_hgl=[]\n",
    "    Sand_dist= [0]*len(arr)\n",
    "   \n",
    "    for i in range(M-1):\n",
    "        \n",
    "        # For one bars checking hunger  levels  diff\n",
    "        \n",
    "        if i == 0 and  arr[i] > arr[i+1]:             \n",
    "            Sand_dist[i]= arr[i]-arr[i+1]   \n",
    "            \n",
    "        elif arr[i-1]<arr[i] and arr[i]>arr[i+1]:\n",
    "            Sand_dist[i] = min(arr[i] - arr[i-1],arr[i]-arr[i+1])                     \n",
    "           \n",
    "        elif i==M-1 and arr[i] > arr[i-1]:\n",
    "            Sand_dist[i]= arr[i]-arr[i-1]   \n",
    "                \n",
    "        # For two bars checking hunger level diff\n",
    "        elif i == 0 and  arr[i] == arr[i+1] and arr[i]>arr[i+2]:               \n",
    "            Sand_dist[i]= 2*(arr[i]-arr[i+2]) \n",
    "            \n",
    "        elif arr[i-2]<arr[i] and arr[i-1]==arr[i] and arr[i]==arr[i+1] and arr[i]>arr[i+2]:\n",
    "            Sand_dist[i] = min(arr[i] - arr[i-2],arr[i]-arr[i+2])                     \n",
    "           \n",
    "        elif i==M-1 and arr[i] > arr[i-2] and arr[i]==arr[i-1]:\n",
    "            Sand_dist[i]= arr[i]-arr[i-2]   \n",
    "            \n",
    "        #  For three bars checking hunger level diff\n",
    "        elif i == 0 and  arr[i] == arr[i+1]==arr[i+2] and arr[i]>arr[i+3]:               \n",
    "            Sand_dist[i]= arr[i]-arr[i+3]  \n",
    "            \n",
    "        elif arr[i-3]<arr[i] and arr[i-2]==arr[i] and arr[i-1]==arr[i] and arr[i]==arr[i+1] and arr[i]==arr[i+2] and arr[i]>arr[i+2]:\n",
    "            Sand_dist[i] = min(arr[i] - arr[i-3],arr[i]-arr[i+3])                     \n",
    "           \n",
    "        elif i==M-1 and arr[i] > arr[i-3] and arr[i]==arr[i-1] and arr[i]==arr[i-2]:\n",
    "            Sand_dist[i]= arr[i]-arr[i-3]   \n",
    "                \n",
    "                       \n",
    "             \n",
    "    new_hgl = arr\n",
    "    for i,hunger in enumerate(Sand_dist):\n",
    "        if hunger>0 and hunger<= N:\n",
    "            new_hgl[i] = new_hgl[i] - hunger\n",
    "            N = N - hunger\n",
    "            # new_hgl.append/(arr[i]-Sand_dist[i])\n",
    "            \n",
    "    for i in range(M-1):\n",
    "        diff=min(diff, new_hgl[i]-new_hgl[i+1])\n",
    "                \n",
    "    return Sand_dist, new_hgl , abs(diff) \n",
    "\n",
    "\n",
    "                 \n",
    "                  \n",
    "                  \n",
    "A=[5,3,1,2,1]\n",
    "# A=[4,5,2,3,1,0]\n",
    "# A=[5,2,3,4,5]\n",
    "# A=[3,2,1,0,4,1,0]\n",
    "\n",
    "print(\"sand_dist, new_hng_level and diff\", Food_diff(A))      \n"
   ]
  },
  {
   "cell_type": "code",
   "execution_count": 26,
   "metadata": {},
   "outputs": [
    {
     "ename": "NameError",
     "evalue": "name 'new_arr' is not defined",
     "output_type": "error",
     "traceback": [
      "\u001b[1;31m---------------------------------------------------------------------------\u001b[0m",
      "\u001b[1;31mNameError\u001b[0m                                 Traceback (most recent call last)",
      "\u001b[1;32mC:\\Users\\ZEESHA~1\\AppData\\Local\\Temp/ipykernel_1392/1496543025.py\u001b[0m in \u001b[0;36m<module>\u001b[1;34m\u001b[0m\n\u001b[1;32m----> 1\u001b[1;33m \u001b[0mnew_arr\u001b[0m\u001b[1;33m\u001b[0m\u001b[1;33m\u001b[0m\u001b[0m\n\u001b[0m",
      "\u001b[1;31mNameError\u001b[0m: name 'new_arr' is not defined"
     ]
    }
   ],
   "source": []
  },
  {
   "cell_type": "code",
   "execution_count": 2,
   "metadata": {},
   "outputs": [
    {
     "name": "stdout",
     "output_type": "stream",
     "text": [
      "3\n"
     ]
    }
   ],
   "source": [
    "# Function to find the minimum number of moves required to make all array elements equal\n",
    "\n",
    "def findMinMoves(arr, N):\n",
    "   \n",
    "    # Store the total sum of the array\n",
    "    sum = 0\n",
    " \n",
    "    # Calculate total sum of the array\n",
    "    for i in range(N):\n",
    "        sum += arr[i]\n",
    " \n",
    "    # If the sum is not divisible\n",
    "    # by N, then print \"-1\"\n",
    "    if(sum % N != 0):\n",
    "        return -1\n",
    " \n",
    "    # Stores the average\n",
    "    avg = sum // N\n",
    " \n",
    "    # Stores the count\n",
    "    # of operations\n",
    "    total = 0\n",
    "    needCount = 0\n",
    "    \n",
    "    equal_arr=[0]*len(arr)\n",
    " \n",
    "    # Traverse the array arr[]\n",
    "    for i in range(N):\n",
    "       \n",
    "        # Update number of moves\n",
    "        # required to make current\n",
    "        # element equal to avg\n",
    "        needCount += (arr[i] - avg)\n",
    "        equal_arr[i] = (arr[i] - avg)\n",
    " \n",
    "        # Update the overall count\n",
    "        total = max(max(abs(needCount), arr[i] - avg), total)\n",
    " \n",
    "    # Return the minimum\n",
    "    # operations required\n",
    "    return ('Equal array', equal_arr)\n",
    " \n",
    "arr =  [1, 0, 5]\n",
    "N =  len(arr)\n",
    "print(findMinMoves(arr, N))\n",
    " "
   ]
  },
  {
   "cell_type": "code",
   "execution_count": 7,
   "metadata": {},
   "outputs": [
    {
     "name": "stdout",
     "output_type": "stream",
     "text": [
      "('Eq diff array', [0, 8, 8, 8, 8, 8])\n"
     ]
    }
   ],
   "source": [
    "def getMinDiff(arr, n, k):\n",
    "    arr.sort()\n",
    "    ans = arr[n - 1] - arr[0]  # Maximum possible height difference\n",
    " \n",
    "    tempmin = arr[0]\n",
    "    tempmax = arr[n - 1]\n",
    "    eq_arr=[0]*len(arr)\n",
    " \n",
    "    for i in range(1, n):\n",
    "        tempmin = min(arr[0] + k, arr[i] - k) \n",
    "         \n",
    "        # Minimum element when we\n",
    "        # add k to whole array\n",
    "        # Maximum element when we\n",
    "        tempmax = max(arr[i - 1] + k, arr[n - 1] - k)\n",
    "         \n",
    "        # subtract k from whole array\n",
    "        ans = min(ans, tempmax - tempmin)\n",
    "        eq_arr[i]= ans\n",
    " \n",
    "    return ('Eq diff array', eq_arr)\n",
    " \n",
    "# Driver Code Starts\n",
    "k = 6\n",
    "n = 6\n",
    "# arr = [7, 4, 8, 8, 8, 9]\n",
    "arr = [10, 2, 3, 4, 5, 6]\n",
    "\n",
    "ans = getMinDiff(arr, n, k)\n",
    "print(ans)\n",
    " "
   ]
  },
  {
   "cell_type": "code",
   "execution_count": 57,
   "metadata": {},
   "outputs": [
    {
     "name": "stdout",
     "output_type": "stream",
     "text": [
      "M= 5 N= 4\n",
      "Array : [5, 2, 3, 1, 0]\n",
      "Total diff 1\n"
     ]
    }
   ],
   "source": [
    "#---------Food distribution problems : 100% working-------\n",
    "\n",
    "import sys\n",
    "    \n",
    "def Food_diff(arr):\n",
    "    M = len(arr)-1            # Lenth of the array\n",
    "    N = arr.pop(0)   # The number of sandwiches\n",
    "    print( 'M=',M, 'N=',N)\n",
    "    print('Array :', arr)\n",
    "    \n",
    "    diff= sys.maxsize\n",
    "    #Find the subarray of size m such that difference bw last (maximum in case of sorted) elements of subarray is minimum\n",
    "    for i in range(M-1):\n",
    "        for j in range(N+1):\n",
    "            # print(i,j)\n",
    "            diff=min(diff, arr[i]+j-arr[i+1])\n",
    "            # diff=min(diff, arr[i-1]+j-arr[i],arr[i-1]-arr[i]+j)  \n",
    "              \n",
    "    return abs(diff)    \n",
    "    \n",
    "# A=[5,3,1,2,1]\n",
    "A=[4,5,2,3,1,0]\n",
    "# A=[5,2,3,4,5]\n",
    "# A=[3,2,1,0,4,1,0]\n",
    "\n",
    "\n",
    "print(\"Total diff\", Food_diff(A))      \n"
   ]
  },
  {
   "cell_type": "code",
   "execution_count": 15,
   "metadata": {},
   "outputs": [],
   "source": [
    "# M,N=4,5\n",
    "\n",
    "# for i in range(M):\n",
    "#     for j in range(N+1):\n",
    "#         print(i,j)"
   ]
  },
  {
   "cell_type": "code",
   "execution_count": 28,
   "metadata": {},
   "outputs": [
    {
     "name": "stdout",
     "output_type": "stream",
     "text": [
      "N 7\n",
      "5\n",
      "4\n",
      "3\n",
      "2\n",
      "1\n",
      "0\n",
      "('array A', [3, 2, 1, 0, 4, 1, 0], 'array B', [4, 3, 2, 1, 3, 2, 1])\n"
     ]
    }
   ],
   "source": [
    "def minChoch(A, N):\n",
    "    N= len(A)\n",
    "    print('N',N)\n",
    "    B = [1 for i in range(N)]\n",
    "\n",
    "    # travers from left to rihgt\n",
    "    for i in range(1,N):\n",
    "        # print(i)\n",
    "        if (A[i]>A[i-1]):\n",
    "            B[i]=B[i-1]+1\n",
    "        else:\n",
    "            B[i]=1\n",
    "            \n",
    "    #Traverse from right to left\n",
    "    for i in range(N-2,-1,-1):\n",
    "        print(i)\n",
    "        if (A[i]>A[i+1]):\n",
    "            B[i]=max(B[i+1]+1,B[i])\n",
    "        else:\n",
    "            B[i]=max(B[i],1)\n",
    "    return ('array A', A, 'array B',B)    \n",
    "\n",
    "A=[3,2,1,0,4,1,0]\n",
    "\n",
    "print(minChoch(A,N))  \n",
    "            \n"
   ]
  },
  {
   "cell_type": "code",
   "execution_count": 20,
   "metadata": {},
   "outputs": [
    {
     "data": {
      "text/plain": [
       "[2, 1, 0, 4, 1, 0]"
      ]
     },
     "execution_count": 20,
     "metadata": {},
     "output_type": "execute_result"
    }
   ],
   "source": [
    "A"
   ]
  },
  {
   "cell_type": "code",
   "execution_count": 2,
   "metadata": {},
   "outputs": [
    {
     "ename": "SyntaxError",
     "evalue": "invalid syntax (Temp/ipykernel_8024/1673489890.py, line 46)",
     "output_type": "error",
     "traceback": [
      "\u001b[1;36m  File \u001b[1;32m\"C:\\Users\\ZEESHA~1\\AppData\\Local\\Temp/ipykernel_8024/1673489890.py\"\u001b[1;36m, line \u001b[1;32m46\u001b[0m\n\u001b[1;33m    while give= True:\u001b[0m\n\u001b[1;37m              ^\u001b[0m\n\u001b[1;31mSyntaxError\u001b[0m\u001b[1;31m:\u001b[0m invalid syntax\n"
     ]
    }
   ],
   "source": [
    "\n",
    "#---------Food distribution problems -------\n",
    "\n",
    "    \n",
    "def min_Food_diff(arr):\n",
    "    M = len(arr)-1            # Lenth of the array\n",
    "    N = arr.pop(0)   # The number of sandwiches\n",
    "    # arr.sort()       # sorting the array\n",
    "   \n",
    "    # if there are no sandwitches,\n",
    "    if (N==0):\n",
    "        return 0\n",
    "    \n",
    "    # Initializing chocolates    \n",
    "    diff =0\n",
    "    newList=[] \n",
    "    for i in range(M):\n",
    "        temp= arr[i]-arr[i+1]\n",
    "        if temp<0:\n",
    "            temp *=-1\n",
    "        diff +=temp\n",
    "        newList.push_back(arr[i])\n",
    "    if diff==0:\n",
    "        return 0\n",
    "    #adding last element\n",
    "    newList.push_back(arr[M])\n",
    "    # Shorting in descending order\n",
    "    newList.sort(ascending= False )\n",
    "    \n",
    "    #loop to balance hunger levels of each\n",
    "    give =False\n",
    "    for i in range(len(newList)-1):\n",
    "        # check the difference between the 2 neighbors\n",
    "        temp= newList[i]-newList[i+1]\n",
    "        # condition to check if hunger level for current person can be updated\n",
    "        if temp !=0 and N>0:\n",
    "            if temp<0:\n",
    "                # give this persion the remaining sandwiches\n",
    "                newList[i]-= N\n",
    "                give = True\n",
    "            else:\n",
    "                # give this person the total difference between the their neighbor\n",
    "                # also update our sandwiches count\n",
    "                newList[i]-= temp\n",
    "                N-=temp\n",
    "                give= True\n",
    "            break;\n",
    "    while give=True:\n",
    "        diff=0\n",
    "        for i in range(len(newList)-1):\n",
    "            temp =newList[i]-newList[i+1]\n",
    "            if temp<0:\n",
    "                temp *=-1\n",
    "            diff +=temp\n",
    "        return diff    \n",
    "    \n",
    "A=[5,3,1,2,1] \n",
    "print(min_Food_diff(A))   \n",
    "                    \n",
    "            "
   ]
  },
  {
   "cell_type": "code",
   "execution_count": null,
   "metadata": {},
   "outputs": [],
   "source": []
  },
  {
   "cell_type": "code",
   "execution_count": null,
   "metadata": {},
   "outputs": [],
   "source": []
  },
  {
   "cell_type": "code",
   "execution_count": 1,
   "metadata": {},
   "outputs": [
    {
     "name": "stdout",
     "output_type": "stream",
     "text": [
      "Minimum difference is 10\n"
     ]
    }
   ],
   "source": [
    "# Python Program for chocolate Distribution Problem\n",
    "\n",
    "'''Given an array of n integers where each value represents the number \n",
    "of chocolates in a packet. Each packet can have a variable number of chocolates. \n",
    "There are m students, the task is to distribute chocolate packets such that:\n",
    "\n",
    "1)Each student gets one packet.\n",
    "2) The difference between the number of chocolates in the packet \n",
    "with maximum chocolates and packet with minimum chocolates given\n",
    "to the students is minimum.'''\n",
    "\n",
    "\n",
    "#! Solution\n",
    "# arr[0....n-1] represents sizes of packets\n",
    "# m is the number of students\n",
    "# n is the length\n",
    "\n",
    "def findMinDiff(arr, n, m):\n",
    "    # if there are no chocolates or number of students is 0\n",
    "    if (m==0 or n==0):\n",
    "        return 0\n",
    "    # Sort the given packets\n",
    "    arr.sort()\n",
    "    # Number of students cannot be more than number of packets\n",
    "    if(n<m):\n",
    "        return -1\n",
    "    # Maximum number of chocolates-Minimum number of chocolates \n",
    "    min_diff = arr[n-1]-arr[0]\n",
    "    \n",
    "    '''Find the subarray of size m such that\n",
    "    differnce between last (maximum in case of sorted ) and first (minimum in case sorted)\n",
    "    elements of subarray is minimum.'''\n",
    "    \n",
    "    for i in range(len(arr)-m+1):\n",
    "        min_diff = min(min_diff, arr[i+m-1]-arr[i])\n",
    "    return min_diff\n",
    "\n",
    "#Drive Code\n",
    "if __name__ == '__main__':\n",
    "    arr=[12,4,7,9,2,23,25,41,\n",
    "         30,40,28,42,30,44,48,\n",
    "         43,50]\n",
    "    \n",
    "#Number of students\n",
    "\n",
    "m=7\n",
    "n= len(arr)\n",
    "\n",
    "print(\"Minimum difference is\", findMinDiff(arr, n, m))\n",
    "\n"
   ]
  },
  {
   "cell_type": "code",
   "execution_count": 2,
   "metadata": {},
   "outputs": [
    {
     "name": "stdout",
     "output_type": "stream",
     "text": [
      "12\n"
     ]
    }
   ],
   "source": [
    "#Chocolate Distribution Problem\n",
    "'''Given an array A[] consisting of N integers, where each value represents the marks of the ith student, the task is \n",
    "to find the minimum number of chocolates required to be distributed such that:\n",
    "1> Each student should be awarded with at least one chocolate\n",
    "2> A student with higher marks should be awarded more chocolates than his adjacent students.'''\n",
    "\n",
    "#! Solve\n",
    "\n",
    "# function to print minimum number of chocolates required\n",
    "\n",
    "def minChocolates( A, N):\n",
    "    B=[1 for i in range(N)]\n",
    "    # Traverse from left to right\n",
    "    for i in range(1,N):\n",
    "        if (A[i]>A[i-1]):\n",
    "            B[i]=B[i-1]+1\n",
    "        else:\n",
    "            B[i]=1\n",
    "    #Traverse from right to left\n",
    "    for i in range(N-2,-1,-1):\n",
    "        if (A[i]>A[i+1]):\n",
    "            B[i]= max(B[i+1]+1, B[i])\n",
    "        else:\n",
    "            B[i]=max(B[i],1)\n",
    "            \n",
    "    # Initialize sum\n",
    "    sum=0\n",
    "    #Find total sum\n",
    "    \n",
    "    for i in range(N):\n",
    "        sum+=B[i]\n",
    "    # Return sum\n",
    "    print(sum)\n",
    "        \n",
    "#Derive Code\n",
    "\n",
    "if __name__ =='__main__':\n",
    "    # Given array\n",
    "    A=[23,14,15,14,56,29,14]\n",
    "    \n",
    "    #Size of the given array\n",
    "    \n",
    "    N= len(A)\n",
    "    minChocolates(A,N)"
   ]
  },
  {
   "cell_type": "code",
   "execution_count": 7,
   "metadata": {},
   "outputs": [
    {
     "name": "stdout",
     "output_type": "stream",
     "text": [
      "15\n"
     ]
    }
   ],
   "source": [
    "# 6th: Method:- Program for Chocolate and Wrapper Puzzle\n",
    "\n",
    "'''Given the following three values, the task is to find the \n",
    "total number of maximum chocolates you can eat. \n",
    "1> money: Money you have to buy chocolates\n",
    "2> price: Price of a chocolate\n",
    "3> wrap: Number of wrappers to be returned for getting one extra chocolate.'''\n",
    "\n",
    "'''Input: money = 16, price = 2, wrap = 2\n",
    "Output:   15\n",
    "Price of a chocolate is 2. You can buy 8 chocolates from\n",
    "amount 16. You can return 8 wrappers back and get 4 more\n",
    "chocolates. Then you can return 4 wrappers and get 2 more\n",
    "chocolates. Finally you can return 2 wrappers to get 1\n",
    "more chocolate.'''\n",
    "\n",
    "'''Logic: '''\n",
    "\n",
    "def countMaxChoco(money, price, wrap):\n",
    "    \n",
    "    if (money<price):\n",
    "        return 0\n",
    "#First find number of chocolates that can be purchased with given amount\n",
    "    choc= int(money/price)\n",
    "        \n",
    "#Now just add number of chocolates with the chocolates gained by wrappers\n",
    "    choc=choc+(choc-1)/(wrap-1)\n",
    "    return int(choc)\n",
    "        \n",
    "# Driver code\n",
    "money = 16 #total money\n",
    "price = 2 #cost of each candy\n",
    "wrap  = 2  # no of wrappers needs to be exchanged for one chocolates\n",
    "\n",
    "print(countMaxChoco(money, price, wrap))"
   ]
  },
  {
   "cell_type": "code",
   "execution_count": null,
   "metadata": {},
   "outputs": [],
   "source": []
  },
  {
   "cell_type": "markdown",
   "metadata": {},
   "source": [
    "The \"boat to save people\" problem, often referred to as the \"rescue boat problem\" or \"ferrying problem,\" involves transporting people across a river with constraints such as boat capacity and individual weights. A typical formulation is: Given a list of people's weights and a boat with a maximum weight capacity, determine the minimum number of boat trips required to transport everyone across the river.\n",
    "\n",
    "Here's a step-by-step solution in Python using a greedy algorithm:\n",
    "\n",
    "Sort the list of weights: This helps in efficiently pairing the heaviest and lightest person.\n",
    "Use two pointers: One starting from the lightest person (beginning of the list) and one from the heaviest person (end of the list).\n",
    "Pair the heaviest and lightest person: If their combined weight is within the boat's capacity, move both pointers inward. If not, move only the pointer for the heaviest person.\n",
    "Count the trips: Each successful or failed pairing counts as one trip.\n",
    "Here's the implementation:"
   ]
  },
  {
   "cell_type": "code",
   "execution_count": null,
   "metadata": {},
   "outputs": [],
   "source": [
    "def num_rescue_boats(people, limit):\n",
    "    people.sort()\n",
    "    i, j = 0, len(people) - 1\n",
    "    boats = 0\n",
    "    \n",
    "    while i <= j:\n",
    "        if (people[i] + people[j]) <= limit:\n",
    "            i += 1  # move the pointer for the lightest person\n",
    "        j -= 1  # move the pointer for the heaviest person\n",
    "        boats += 1\n",
    "    \n",
    "    return boats\n",
    "\n",
    "# Example usage:\n",
    "people = [70, 50, 80, 50]\n",
    "limit = 100\n",
    "print(num_rescue_boats(people, limit))  # Output: 3\n"
   ]
  },
  {
   "cell_type": "code",
   "execution_count": null,
   "metadata": {},
   "outputs": [],
   "source": [
    "#Rough problem and solution\n",
    "\n",
    "class Solution:\n",
    "    def Rescue_boat(self,people:list[int], limit:int)->int:\n",
    "        people.sort()\n",
    "        left=0\n",
    "        right=len(people)-1\n",
    "        boat=0\n",
    "        left_people=0\n",
    "        left_peple_weight=[]\n",
    "        \n",
    "        while(left<=right):\n",
    "            if people[right]>limit:\n",
    "                left_peple_weight.append(people[right])\n",
    "                right-=1\n",
    "                left_people+=1\n",
    "                \n",
    "            elif people[left]+people[right]<=limit:\n",
    "                left+=1\n",
    "                right-=1\n",
    "                boat+=1\n",
    "            else:\n",
    "                right-=1\n",
    "                boat+=1\n",
    "                \n",
    "        print(f\"Number of people left behind {left_people}  due to weight: {left_peple_weight} \")\n",
    "        return boat\n",
    "\n",
    "# Test the NumRescueBoat method with sample inputs\n",
    "people = [1, 2, 2, 3,50,50,500]\n",
    "limit = 3\n",
    "solution=Solution()\n",
    "print(solution.Rescue_boat(people, limit))  # Expected output: 2 and a message about people left behind"
   ]
  },
  {
   "cell_type": "markdown",
   "metadata": {},
   "source": [
    "Explanation\n",
    "Sorting the weights helps in making optimal decisions quickly.\n",
    "Two pointers technique ensures that we try to fit the lightest and heaviest person together, which is often the best combination to minimize trips.\n",
    "The while i <= j loop runs until all people are considered.\n",
    "In each iteration, if the lightest (people[i]) and heaviest (people[j]) person can share a boat (people[i] + people[j] <= limit), both pointers are moved inward (i += 1 and j -= 1). If they can't share a boat, only the heaviest person is moved (j -= 1).\n",
    "Each iteration increments the boat count.\n",
    "This approach ensures that you use the minimum number of boats to transport everyone across the river efficiently."
   ]
  },
  {
   "cell_type": "code",
   "execution_count": null,
   "metadata": {},
   "outputs": [],
   "source": []
  },
  {
   "cell_type": "markdown",
   "metadata": {},
   "source": [
    "Candy Distribution Problem:\n",
    "\n",
    "Problem: Given N children standing in a line, each child is given a rating value. You are required to distribute candies to these children such that each child must have at least one candy and children with a higher rating get more candies than their neighbors. Determine the minimum number of candies you need to distribute.\n",
    "Example: ratings = [1, 0, 2] should output 5.\n"
   ]
  },
  {
   "cell_type": "code",
   "execution_count": 45,
   "metadata": {},
   "outputs": [
    {
     "name": "stdout",
     "output_type": "stream",
     "text": [
      "11\n"
     ]
    }
   ],
   "source": [
    "def candy(ratings):\n",
    "    n = len(ratings)\n",
    "    candies = [1] * n\n",
    "    \n",
    "    for i in range(1, n):\n",
    "        if ratings[i] > ratings[i-1]:\n",
    "            candies[i] = candies[i-1] + 1\n",
    "    \n",
    "    for i in range(n-2, -1, -1):\n",
    "        if ratings[i] > ratings[i+1]:\n",
    "            candies[i] = max(candies[i], candies[i+1] + 1)\n",
    "    \n",
    "    return sum(candies)\n",
    "\n",
    "# Example usage:\n",
    "# ratings = [1, 0, 2]\n",
    "ratings = [1, 3, 4, 5, 2]\n",
    "\n",
    "print(candy(ratings))  # Output: 5\n"
   ]
  },
  {
   "cell_type": "markdown",
   "metadata": {},
   "source": [
    "Meeting Room Scheduling:\n",
    "\n",
    "Problem: Given an array of meeting time intervals, determine if a person can attend all meetings.\n",
    "Example: intervals = [[0, 30], [5, 10], [15, 20]] should output False."
   ]
  },
  {
   "cell_type": "code",
   "execution_count": null,
   "metadata": {},
   "outputs": [],
   "source": [
    "import heapq\n",
    "\n",
    "def minMeetingRooms(intervals):\n",
    "    if not intervals:\n",
    "        return 0\n",
    "    \n",
    "    intervals.sort(key=lambda x: x[0])\n",
    "    heap = []\n",
    "    \n",
    "    heapq.heappush(heap, intervals[0][1])\n",
    "    \n",
    "    for interval in intervals[1:]:\n",
    "        if interval[0] >= heap[0]:\n",
    "            heapq.heappop(heap)\n",
    "        heapq.heappush(heap, interval[1])\n",
    "        \n",
    "    return len(heap)\n",
    "\n",
    "# Example usage:\n",
    "intervals = [[0, 30], [5, 10], [15, 20]]\n",
    "print(minMeetingRooms(intervals))  # Output: 2\n"
   ]
  },
  {
   "cell_type": "markdown",
   "metadata": {},
   "source": [
    "Task Scheduler:\n",
    "\n",
    "Problem: Given a list of tasks and a cooldown period n, find the minimum intervals required to finish all tasks.\n",
    "Example: tasks = [\"A\", \"A\", \"A\", \"B\", \"B\", \"B\"], n = 2 should output 8."
   ]
  },
  {
   "cell_type": "code",
   "execution_count": null,
   "metadata": {},
   "outputs": [],
   "source": [
    "from collections import Counter\n",
    "\n",
    "def leastInterval(tasks, n):\n",
    "    task_counts = Counter(tasks)\n",
    "    max_tasks = max(task_counts.values())\n",
    "    max_count = list(task_counts.values()).count(max_tasks)\n",
    "    \n",
    "    intervals = (max_tasks - 1) * (n + 1) + max_count\n",
    "    return max(intervals, len(tasks))\n",
    "\n",
    "# Example usage:\n",
    "tasks = [\"A\", \"A\", \"A\", \"B\", \"B\", \"B\"]\n",
    "n = 2\n",
    "print(leastInterval(tasks, n))  # Output: 8\n"
   ]
  },
  {
   "cell_type": "markdown",
   "metadata": {},
   "source": [
    "Gas Station Problem:\n",
    "\n",
    "Problem: There are n gas stations along a circular route, where the amount of gas at station i is gas[i]. You have a car with an unlimited gas tank and it costs cost[i] of gas to travel from station i to its next station (i+1). Determine the starting gas station index if you can travel around the circuit once in the clockwise direction, otherwise return -1.\n",
    "Example: gas = [1,2,3,4,5], cost = [3,4,5,1,2] should output 3."
   ]
  },
  {
   "cell_type": "code",
   "execution_count": null,
   "metadata": {},
   "outputs": [],
   "source": [
    "def canCompleteCircuit(gas, cost):\n",
    "    total_tank = 0\n",
    "    current_tank = 0\n",
    "    start_station = 0\n",
    "    \n",
    "    for i in range(len(gas)):\n",
    "        total_tank += gas[i] - cost[i]\n",
    "        current_tank += gas[i] - cost[i]\n",
    "        \n",
    "        if current_tank < 0:\n",
    "            start_station = i + 1\n",
    "            current_tank = 0\n",
    "            \n",
    "    return start_station if total_tank >= 0 else -1\n",
    "\n",
    "# Example usage:\n",
    "gas = [1, 2, 3, 4, 5]\n",
    "cost = [3, 4, 5, 1, 2]\n",
    "print(canCompleteCircuit(gas, cost))  # Output: 3\n"
   ]
  },
  {
   "cell_type": "markdown",
   "metadata": {},
   "source": [
    "Merge Intervals:\n",
    "\n",
    "Problem: Given a collection of intervals, merge all overlapping intervals.\n",
    "Example: intervals = [[1,3],[2,6],[8,10],[15,18]] should output [[1,6],[8,10],[15,18]].\n"
   ]
  },
  {
   "cell_type": "code",
   "execution_count": null,
   "metadata": {},
   "outputs": [],
   "source": [
    "def merge(intervals):\n",
    "    if not intervals:\n",
    "        return []\n",
    "    \n",
    "    intervals.sort(key=lambda x: x[0])\n",
    "    merged = [intervals[0]]\n",
    "    \n",
    "    for i in range(1, len(intervals)):\n",
    "        if intervals[i][0] <= merged[-1][1]:\n",
    "            merged[-1][1] = max(merged[-1][1], intervals[i][1])\n",
    "        else:\n",
    "            merged.append(intervals[i])\n",
    "            \n",
    "    return merged\n",
    "\n",
    "# Example usage:\n",
    "intervals = [[1, 3], [2, 6], [8, 10], [15, 18]]\n",
    "print(merge(intervals))  # Output: [[1, 6], [8, 10], [15, 18]]\n"
   ]
  },
  {
   "cell_type": "markdown",
   "metadata": {},
   "source": [
    "Minimum Number of Platforms:\n",
    "\n",
    "Problem: Given arrival and departure times of trains on a single day, find the minimum number of platforms required at the railway station so that no train waits.\n",
    "Example: arrivals = [900, 940, 950, 1100, 1500, 1800], departures = [910, 1200, 1120, 1130, 1900, 2000] should output 3.\n"
   ]
  },
  {
   "cell_type": "code",
   "execution_count": null,
   "metadata": {},
   "outputs": [],
   "source": [
    "def findPlatform(arrivals, departures):\n",
    "    arrivals.sort()\n",
    "    departures.sort()\n",
    "    \n",
    "    platform_needed = 1\n",
    "    result = 1\n",
    "    i = 1\n",
    "    j = 0\n",
    "    \n",
    "    while i < len(arrivals) and j < len(departures):\n",
    "        if arrivals[i] <= departures[j]:\n",
    "            platform_needed += 1\n",
    "            i += 1\n",
    "        elif arrivals[i] > departures[j]:\n",
    "            platform_needed -= 1\n",
    "            j += 1\n",
    "        \n",
    "        if platform_needed > result:\n",
    "            result = platform_needed\n",
    "            \n",
    "    return result\n",
    "\n",
    "# Example usage:\n",
    "arrivals = [900, 940, 950, 1100, 1500, 1800]\n",
    "departures = [910, 1200, 1120, 1130, 1900, 2000]\n",
    "print(findPlatform(arrivals, departures))  # Output: 3\n"
   ]
  },
  {
   "cell_type": "code",
   "execution_count": 13,
   "metadata": {},
   "outputs": [
    {
     "name": "stdout",
     "output_type": "stream",
     "text": [
      "3\n"
     ]
    }
   ],
   "source": [
    "# Minimum Number of platforms required\n",
    "arr = [900, 940, 950, 1100, 1500, 1800]\n",
    "dep = [910, 1200, 1120, 1130, 1900, 2000]  # Expected output: 3\n",
    "\n",
    "def Platform_Count(arr, dep):\n",
    "    arr.sort()\n",
    "    dep.sort()\n",
    "    n = len(arr)\n",
    "    i = 1\n",
    "    j = 0\n",
    "    platform = 1\n",
    "    max_platform = 1\n",
    "    \n",
    "    while (i < n and j < n):\n",
    "        if arr[i] <= dep[j]:\n",
    "            platform += 1\n",
    "            max_platform = max(platform, max_platform)\n",
    "            i += 1\n",
    "        else :\n",
    "            platform -= 1\n",
    "            j += 1\n",
    "    \n",
    "    return max_platform\n",
    "\n",
    "print(Platform_Count(arr, dep))  # Expected output: 3\n"
   ]
  },
  {
   "cell_type": "code",
   "execution_count": 15,
   "metadata": {},
   "outputs": [
    {
     "name": "stdout",
     "output_type": "stream",
     "text": [
      "3\n"
     ]
    }
   ],
   "source": [
    "arr=[900, 940, 950, 1100, 1500, 1800]\n",
    "dep=[910, 1200, 1120, 1130, 1900, 2000]  #output : 3\n",
    "\n",
    "def Plt_counts(arr,dep):\n",
    "    arr.sort()\n",
    "    dep.sort()\n",
    "    j=1   #taking this in arrival index\n",
    "    i=0   # taking this in departure index\n",
    "    plt=1\n",
    "    mx=1\n",
    "    while j<len(arr):\n",
    "        if arr[j]<=dep[i]:\n",
    "            plt+=1\n",
    "            mx=max(plt,mx)\n",
    "            j+=1\n",
    "        else:\n",
    "            plt-=1\n",
    "            i+=1\n",
    "    return mx \n",
    "print(Plt_counts(arr,dep))           \n",
    "        "
   ]
  },
  {
   "cell_type": "code",
   "execution_count": 18,
   "metadata": {},
   "outputs": [
    {
     "name": "stdout",
     "output_type": "stream",
     "text": [
      "Initial sorted arrival times: [900, 940, 950, 1100, 1500, 1800]\n",
      "Initial sorted departure times: [910, 1120, 1130, 1200, 1900, 2000]\n",
      "Initial platform count: 1\n",
      "\n",
      "Checking arrival time 940 and departure time 910\n",
      "Departure, decrement platform count: 0\n",
      "\n",
      "Checking arrival time 940 and departure time 1120\n",
      "New arrival, increment platform count: 1\n",
      "\n",
      "Checking arrival time 950 and departure time 1120\n",
      "New arrival, increment platform count: 2\n",
      "\n",
      "Checking arrival time 1100 and departure time 1120\n",
      "New arrival, increment platform count: 3\n",
      "\n",
      "Checking arrival time 1500 and departure time 1120\n",
      "Departure, decrement platform count: 2\n",
      "\n",
      "Checking arrival time 1500 and departure time 1130\n",
      "Departure, decrement platform count: 1\n",
      "\n",
      "Checking arrival time 1500 and departure time 1200\n",
      "Departure, decrement platform count: 0\n",
      "\n",
      "Checking arrival time 1500 and departure time 1900\n",
      "New arrival, increment platform count: 1\n",
      "\n",
      "Checking arrival time 1800 and departure time 1900\n",
      "New arrival, increment platform count: 2\n",
      "\n",
      "Final maximum platform needed: 3\n",
      "3\n"
     ]
    }
   ],
   "source": [
    "# Minimum Number of platforms required\n",
    "arr = [900, 940, 950, 1100, 1500, 1800]\n",
    "dep = [910, 1200, 1120, 1130, 1900, 2000]  # Expected output: 3\n",
    "\n",
    "def Platform_Count(arr, dep):\n",
    "    arr.sort()\n",
    "    dep.sort()\n",
    "    i = 0  # index from dep\n",
    "    j = 1  # index from arr\n",
    "    platform = 1\n",
    "    max_platform = 1\n",
    "    \n",
    "    print(f\"Initial sorted arrival times: {arr}\")\n",
    "    print(f\"Initial sorted departure times: {dep}\")\n",
    "    print(f\"Initial platform count: {platform}\")\n",
    "    \n",
    "    while j < len(arr):\n",
    "        print(f\"\\nChecking arrival time {arr[j]} and departure time {dep[i]}\")\n",
    "        \n",
    "        if arr[j] <= dep[i]:\n",
    "            platform += 1\n",
    "            max_platform = max(platform, max_platform)\n",
    "            print(f\"New arrival, increment platform count: {platform}\")\n",
    "            j += 1\n",
    "        else:\n",
    "            platform -= 1\n",
    "            print(f\"Departure, decrement platform count: {platform}\")\n",
    "            i += 1\n",
    "    \n",
    "    print(f\"\\nFinal maximum platform needed: {max_platform}\")\n",
    "    return max_platform        \n",
    "\n",
    "print(Platform_Count(arr, dep))  # Expected output: 3\n"
   ]
  },
  {
   "cell_type": "markdown",
   "metadata": {},
   "source": [
    "House Robber:\n",
    "\n",
    "Problem: Given a list of non-negative integers representing the amount of money of each house, determine the maximum amount of money you can rob tonight without alerting the police (you cannot rob two adjacent houses).\n",
    "Example: nums = [2, 7, 9, 3, 1] should output 12.\n"
   ]
  },
  {
   "cell_type": "code",
   "execution_count": null,
   "metadata": {},
   "outputs": [],
   "source": [
    "def rob(nums):\n",
    "    if not nums:\n",
    "        return 0\n",
    "    if len(nums) == 1:\n",
    "        return nums[0]\n",
    "    \n",
    "    dp = [0] * len(nums)\n",
    "    dp[0] = nums[0]\n",
    "    dp[1] = max(nums[0], nums[1])\n",
    "    \n",
    "    for i in range(2, len(nums)):\n",
    "        dp[i] = max(dp[i - 1], dp[i - 2] + nums[i])\n",
    "    \n",
    "    return dp[-1]\n",
    "\n",
    "# Example usage:\n",
    "nums = [2, 7, 9, 3, 1]\n",
    "print(rob(nums))  # Output: 12\n"
   ]
  },
  {
   "cell_type": "code",
   "execution_count": null,
   "metadata": {},
   "outputs": [],
   "source": []
  },
  {
   "cell_type": "markdown",
   "metadata": {},
   "source": [
    "Coin Change Problem:\n",
    "\n",
    "Problem: Given a list of coin denominations and a total amount of money, determine the minimum number of coins required to make up that amount.\n",
    "Example: coins = [1, 2, 5], amount = 11 should output 3."
   ]
  },
  {
   "cell_type": "code",
   "execution_count": null,
   "metadata": {},
   "outputs": [],
   "source": [
    "def coinChange(coins, amount):\n",
    "    dp = [float('inf')] * (amount + 1)\n",
    "    dp[0] = 0\n",
    "    \n",
    "    for coin in coins:\n",
    "        for x in range(coin, amount + 1):\n",
    "            dp[x] = min(dp[x], dp[x - coin] + 1)\n",
    "    \n",
    "    return dp[amount] if dp[amount] != float('inf') else -1\n",
    "\n",
    "# Example usage:\n",
    "coins = [1, 2, 5]\n",
    "amount = 11\n",
    "print(coinChange(coins, amount))  # Output: 3\n"
   ]
  },
  {
   "cell_type": "markdown",
   "metadata": {},
   "source": [
    "Longest Consecutive Sequence:\n",
    "\n",
    "Problem: Given an unsorted array of integers, find the length of the longest consecutive elements sequence.\n",
    "Example: nums = [100, 4, 200, 1, 3, 2] should output 4.\n"
   ]
  },
  {
   "cell_type": "code",
   "execution_count": null,
   "metadata": {},
   "outputs": [],
   "source": [
    "def longestConsecutive(nums):\n",
    "    num_set = set(nums)\n",
    "    longest_streak = 0\n",
    "    \n",
    "    for num in nums:\n",
    "        if num - 1 not in num_set:\n",
    "            current_num = num\n",
    "            current_streak = 1\n",
    "            \n",
    "            while current_num + 1 in num_set:\n",
    "                current_num += 1\n",
    "                current_streak += 1\n",
    "                \n",
    "            longest_streak = max(longest_streak, current_streak)\n",
    "    \n",
    "    return longest_streak\n",
    "\n",
    "# Example usage:\n",
    "nums = [100, 4, 200, 1, 3, 2]\n",
    "print(longestConsecutive(nums))  # Output: 4\n"
   ]
  },
  {
   "cell_type": "markdown",
   "metadata": {},
   "source": [
    "Unique Paths in a Grid:\n",
    "\n",
    "Problem: Given a grid of size m x n, find the number of unique paths from the top-left corner to the bottom-right corner, assuming you can only move right or down.\n",
    "Example: m = 3, n = 2 should output 3.\n"
   ]
  },
  {
   "cell_type": "code",
   "execution_count": null,
   "metadata": {},
   "outputs": [],
   "source": [
    "def uniquePaths(m, n):\n",
    "    dp = [[1] * n for _ in range(m)]\n",
    "    \n",
    "    for i in range(1, m):\n",
    "        for j in range(1, n):\n",
    "            dp[i][j] = dp[i - 1][j] + dp[i][j - 1]\n",
    "    \n",
    "    return dp[m - 1][n - 1]\n",
    "\n",
    "# Example usage:\n",
    "m = 3\n",
    "n = 2\n",
    "print(uniquePaths(m, n))  # Output: 3\n"
   ]
  },
  {
   "cell_type": "code",
   "execution_count": null,
   "metadata": {},
   "outputs": [],
   "source": []
  },
  {
   "cell_type": "code",
   "execution_count": 27,
   "metadata": {},
   "outputs": [
    {
     "name": "stdout",
     "output_type": "stream",
     "text": [
      "Number of people left behind 3  due to weight: [500, 50, 50] \n",
      "3\n"
     ]
    }
   ],
   "source": [
    "#Rough problem and solution\n",
    "\n",
    "class Solution:\n",
    "    def Rescue_boat(self,people:list[int], limit:int)->int:\n",
    "        people.sort()\n",
    "        left=0\n",
    "        right=len(people)-1\n",
    "        boat=0\n",
    "        left_people=0\n",
    "        left_peple_weight=[]\n",
    "        \n",
    "        while(left<=right):\n",
    "            if people[right]>limit:\n",
    "                left_peple_weight.append(people[right])\n",
    "                right-=1\n",
    "                left_people+=1\n",
    "                \n",
    "            elif people[left]+people[right]<=limit:\n",
    "                left+=1\n",
    "                right-=1\n",
    "                boat+=1\n",
    "            else:\n",
    "                right-=1\n",
    "                boat+=1\n",
    "                \n",
    "        print(f\"Number of people left behind {left_people}  due to weight: {left_peple_weight} \")\n",
    "        return boat\n",
    "\n",
    "# Test the NumRescueBoat method with sample inputs\n",
    "people = [1, 2, 2, 3,50,50,500]\n",
    "limit = 3\n",
    "solution=Solution()\n",
    "print(solution.Rescue_boat(people, limit))  # Expected output: 2 and a message about people left behind"
   ]
  },
  {
   "cell_type": "code",
   "execution_count": 46,
   "metadata": {},
   "outputs": [
    {
     "name": "stdout",
     "output_type": "stream",
     "text": [
      "Initial candies: [1, 1, 1, 1, 1]\n",
      "After left to right pass 1: [1, 2, 1, 1, 1]\n",
      "After left to right pass 2: [1, 2, 3, 1, 1]\n",
      "After left to right pass 3: [1, 2, 3, 4, 1]\n",
      "After left to right pass 4: [1, 2, 3, 4, 1]\n",
      "After right to left pass 3: [1, 2, 3, 4, 1]\n",
      "After right to left pass 2: [1, 2, 3, 4, 1]\n",
      "After right to left pass 1: [1, 2, 3, 4, 1]\n",
      "After right to left pass 0: [1, 2, 3, 4, 1]\n",
      "Total candies: 11\n",
      "11\n"
     ]
    }
   ],
   "source": [
    "def candy(ratings):\n",
    "    n = len(ratings)\n",
    "    candies = [1] * n\n",
    "    print(f\"Initial candies: {candies}\")\n",
    "    \n",
    "    for i in range(1, n):\n",
    "        if ratings[i] > ratings[i-1]:\n",
    "            candies[i] = candies[i-1] + 1\n",
    "        print(f\"After left to right pass {i}: {candies}\")\n",
    "    \n",
    "    for i in range(n-2, -1, -1):\n",
    "        if ratings[i] > ratings[i+1]:\n",
    "            candies[i] = max(candies[i], candies[i+1] + 1)\n",
    "        print(f\"After right to left pass {i}: {candies}\")\n",
    "    \n",
    "    total_candies = sum(candies)\n",
    "    print(f\"Total candies: {total_candies}\")\n",
    "    \n",
    "    return total_candies\n",
    "\n",
    "# Example usage:\n",
    "ratings = [1, 3, 4, 5, 2]\n",
    "print(candy(ratings))  # Expected output: 9\n"
   ]
  },
  {
   "cell_type": "code",
   "execution_count": 17,
   "metadata": {},
   "outputs": [
    {
     "data": {
      "text/plain": [
       "3"
      ]
     },
     "execution_count": 17,
     "metadata": {},
     "output_type": "execute_result"
    }
   ],
   "source": [
    "# Minimum Number of platform required\n",
    "arr=[900, 940, 950, 1100, 1500, 1800]\n",
    "dep=[910, 1200, 1120, 1130, 1900, 2000]  #output : 3\n",
    "\n",
    "def Platform_Count(arr,dep):\n",
    "    arr.sort()\n",
    "    dep.sort()\n",
    "    i=0  #index from dep\n",
    "    j=1 #index from arr\n",
    "    platform=1\n",
    "    max_platform=1\n",
    "    while (j<len(arr)):\n",
    "        if arr[j]<=dep[i]:\n",
    "            platform+=1\n",
    "            max_platform=max(platform, max_platform)\n",
    "            j+=1\n",
    "        else:\n",
    "            platform-=1\n",
    "            i+=1\n",
    "    return max_platform        \n",
    "\n",
    "Platform_Count(arr, dep)        "
   ]
  },
  {
   "cell_type": "code",
   "execution_count": null,
   "metadata": {},
   "outputs": [],
   "source": []
  },
  {
   "cell_type": "code",
   "execution_count": null,
   "metadata": {},
   "outputs": [],
   "source": []
  },
  {
   "cell_type": "code",
   "execution_count": null,
   "metadata": {},
   "outputs": [],
   "source": []
  }
 ],
 "metadata": {
  "kernelspec": {
   "display_name": "Python 3",
   "language": "python",
   "name": "python3"
  },
  "language_info": {
   "codemirror_mode": {
    "name": "ipython",
    "version": 3
   },
   "file_extension": ".py",
   "mimetype": "text/x-python",
   "name": "python",
   "nbconvert_exporter": "python",
   "pygments_lexer": "ipython3",
   "version": "3.11.9"
  },
  "orig_nbformat": 4,
  "vscode": {
   "interpreter": {
    "hash": "e7cb1b9ae4d417fedf7f40a8eec98f7cfbd359e096bd857395a915f4609834ce"
   }
  }
 },
 "nbformat": 4,
 "nbformat_minor": 2
}
